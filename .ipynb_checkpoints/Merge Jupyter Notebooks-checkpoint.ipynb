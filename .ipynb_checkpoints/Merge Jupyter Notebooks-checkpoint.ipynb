{
 "cells": [
  {
   "cell_type": "markdown",
   "id": "a88a9ffe",
   "metadata": {},
   "source": [
    "## The code chunks below concatenates two Jupyter Notebooks"
   ]
  },
  {
   "cell_type": "markdown",
   "id": "51ed2567",
   "metadata": {},
   "source": [
    " Use JSON to create a function that can read IPYNB files:"
   ]
  },
  {
   "cell_type": "code",
   "execution_count": 5,
   "id": "82fc541c",
   "metadata": {},
   "outputs": [],
   "source": [
    "import json\n",
    "\n",
    "def read_ipynb(notebook_path):\n",
    "    with open(notebook_path, 'r', encoding='utf-8') as f:\n",
    "        return json.load(f)\n",
    "    "
   ]
  },
  {
   "cell_type": "markdown",
   "id": "35ba99ee",
   "metadata": {},
   "source": [
    "Then, read the notebooks:"
   ]
  },
  {
   "cell_type": "code",
   "execution_count": 10,
   "id": "05b83dc0",
   "metadata": {
    "scrolled": true
   },
   "outputs": [],
   "source": [
    "first_notebook = read_ipynb('MSDS-422-Group-3-Module-7.ipynb')\n",
    "second_notebook = read_ipynb('MSDS-422-Group-3-Module-72.ipynb')"
   ]
  },
  {
   "cell_type": "markdown",
   "id": "699f7bb4",
   "metadata": {},
   "source": [
    "Optional: Create a copy of the first notebook:"
   ]
  },
  {
   "cell_type": "code",
   "execution_count": 11,
   "id": "b751e185",
   "metadata": {},
   "outputs": [],
   "source": [
    "import copy\n",
    "final_notebook = copy.deepcopy(first_notebook)"
   ]
  },
  {
   "cell_type": "markdown",
   "id": "22963008",
   "metadata": {},
   "source": [
    "Next, concatenate the cells of both notebooks:"
   ]
  },
  {
   "cell_type": "code",
   "execution_count": 12,
   "id": "4b224996",
   "metadata": {},
   "outputs": [],
   "source": [
    "final_notebook['cells'] = first_notebook['cells'] + second_notebook['cells']"
   ]
  },
  {
   "cell_type": "markdown",
   "id": "2b0e92fe",
   "metadata": {},
   "source": [
    "Here is a helper function to export the notebook into the Jupyter Notebook format and export the final_notebook with it:"
   ]
  },
  {
   "cell_type": "code",
   "execution_count": 13,
   "id": "25a8bdd2",
   "metadata": {},
   "outputs": [],
   "source": [
    "def write_ipynb(notebook, notebook_path):\n",
    "    with open(notebook_path, 'w', encoding='utf-8') as f:\n",
    "        json.dump(notebook, f)\n",
    "\n",
    "# Saving the resulting notebook\n",
    "write_ipynb(final_notebook, 'final_notebook.ipynb')"
   ]
  }
 ],
 "metadata": {
  "kernelspec": {
   "display_name": "Python 3 (ipykernel)",
   "language": "python",
   "name": "python3"
  },
  "language_info": {
   "codemirror_mode": {
    "name": "ipython",
    "version": 3
   },
   "file_extension": ".py",
   "mimetype": "text/x-python",
   "name": "python",
   "nbconvert_exporter": "python",
   "pygments_lexer": "ipython3",
   "version": "3.9.13"
  }
 },
 "nbformat": 4,
 "nbformat_minor": 5
}
