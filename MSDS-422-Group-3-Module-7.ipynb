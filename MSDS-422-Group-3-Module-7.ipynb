{
 "cells": [
  {
   "cell_type": "markdown",
   "metadata": {},
   "source": [
    "## Appendix 1 - Python Code and Outputs"
   ]
  },
  {
   "cell_type": "markdown",
   "metadata": {},
   "source": [
    "### Data Preparation"
   ]
  },
  {
   "cell_type": "code",
   "execution_count": 1,
   "metadata": {},
   "outputs": [],
   "source": [
    "from IPython.core.interactiveshell import InteractiveShell\n",
    "InteractiveShell.ast_node_interactivity = \"all\""
   ]
  },
  {
   "cell_type": "markdown",
   "metadata": {},
   "source": [
    "### Import Training Data"
   ]
  },
  {
   "cell_type": "code",
   "execution_count": 2,
   "metadata": {},
   "outputs": [
    {
     "data": {
      "text/html": [
       "<div>\n",
       "<style scoped>\n",
       "    .dataframe tbody tr th:only-of-type {\n",
       "        vertical-align: middle;\n",
       "    }\n",
       "\n",
       "    .dataframe tbody tr th {\n",
       "        vertical-align: top;\n",
       "    }\n",
       "\n",
       "    .dataframe thead th {\n",
       "        text-align: right;\n",
       "    }\n",
       "</style>\n",
       "<table border=\"1\" class=\"dataframe\">\n",
       "  <thead>\n",
       "    <tr style=\"text-align: right;\">\n",
       "      <th></th>\n",
       "      <th>label</th>\n",
       "      <th>pixel0</th>\n",
       "      <th>pixel1</th>\n",
       "      <th>pixel2</th>\n",
       "      <th>pixel3</th>\n",
       "      <th>pixel4</th>\n",
       "      <th>pixel5</th>\n",
       "      <th>pixel6</th>\n",
       "      <th>pixel7</th>\n",
       "      <th>pixel8</th>\n",
       "      <th>...</th>\n",
       "      <th>pixel774</th>\n",
       "      <th>pixel775</th>\n",
       "      <th>pixel776</th>\n",
       "      <th>pixel777</th>\n",
       "      <th>pixel778</th>\n",
       "      <th>pixel779</th>\n",
       "      <th>pixel780</th>\n",
       "      <th>pixel781</th>\n",
       "      <th>pixel782</th>\n",
       "      <th>pixel783</th>\n",
       "    </tr>\n",
       "  </thead>\n",
       "  <tbody>\n",
       "    <tr>\n",
       "      <th>0</th>\n",
       "      <td>1</td>\n",
       "      <td>0</td>\n",
       "      <td>0</td>\n",
       "      <td>0</td>\n",
       "      <td>0</td>\n",
       "      <td>0</td>\n",
       "      <td>0</td>\n",
       "      <td>0</td>\n",
       "      <td>0</td>\n",
       "      <td>0</td>\n",
       "      <td>...</td>\n",
       "      <td>0</td>\n",
       "      <td>0</td>\n",
       "      <td>0</td>\n",
       "      <td>0</td>\n",
       "      <td>0</td>\n",
       "      <td>0</td>\n",
       "      <td>0</td>\n",
       "      <td>0</td>\n",
       "      <td>0</td>\n",
       "      <td>0</td>\n",
       "    </tr>\n",
       "    <tr>\n",
       "      <th>1</th>\n",
       "      <td>0</td>\n",
       "      <td>0</td>\n",
       "      <td>0</td>\n",
       "      <td>0</td>\n",
       "      <td>0</td>\n",
       "      <td>0</td>\n",
       "      <td>0</td>\n",
       "      <td>0</td>\n",
       "      <td>0</td>\n",
       "      <td>0</td>\n",
       "      <td>...</td>\n",
       "      <td>0</td>\n",
       "      <td>0</td>\n",
       "      <td>0</td>\n",
       "      <td>0</td>\n",
       "      <td>0</td>\n",
       "      <td>0</td>\n",
       "      <td>0</td>\n",
       "      <td>0</td>\n",
       "      <td>0</td>\n",
       "      <td>0</td>\n",
       "    </tr>\n",
       "    <tr>\n",
       "      <th>2</th>\n",
       "      <td>1</td>\n",
       "      <td>0</td>\n",
       "      <td>0</td>\n",
       "      <td>0</td>\n",
       "      <td>0</td>\n",
       "      <td>0</td>\n",
       "      <td>0</td>\n",
       "      <td>0</td>\n",
       "      <td>0</td>\n",
       "      <td>0</td>\n",
       "      <td>...</td>\n",
       "      <td>0</td>\n",
       "      <td>0</td>\n",
       "      <td>0</td>\n",
       "      <td>0</td>\n",
       "      <td>0</td>\n",
       "      <td>0</td>\n",
       "      <td>0</td>\n",
       "      <td>0</td>\n",
       "      <td>0</td>\n",
       "      <td>0</td>\n",
       "    </tr>\n",
       "    <tr>\n",
       "      <th>3</th>\n",
       "      <td>4</td>\n",
       "      <td>0</td>\n",
       "      <td>0</td>\n",
       "      <td>0</td>\n",
       "      <td>0</td>\n",
       "      <td>0</td>\n",
       "      <td>0</td>\n",
       "      <td>0</td>\n",
       "      <td>0</td>\n",
       "      <td>0</td>\n",
       "      <td>...</td>\n",
       "      <td>0</td>\n",
       "      <td>0</td>\n",
       "      <td>0</td>\n",
       "      <td>0</td>\n",
       "      <td>0</td>\n",
       "      <td>0</td>\n",
       "      <td>0</td>\n",
       "      <td>0</td>\n",
       "      <td>0</td>\n",
       "      <td>0</td>\n",
       "    </tr>\n",
       "    <tr>\n",
       "      <th>4</th>\n",
       "      <td>0</td>\n",
       "      <td>0</td>\n",
       "      <td>0</td>\n",
       "      <td>0</td>\n",
       "      <td>0</td>\n",
       "      <td>0</td>\n",
       "      <td>0</td>\n",
       "      <td>0</td>\n",
       "      <td>0</td>\n",
       "      <td>0</td>\n",
       "      <td>...</td>\n",
       "      <td>0</td>\n",
       "      <td>0</td>\n",
       "      <td>0</td>\n",
       "      <td>0</td>\n",
       "      <td>0</td>\n",
       "      <td>0</td>\n",
       "      <td>0</td>\n",
       "      <td>0</td>\n",
       "      <td>0</td>\n",
       "      <td>0</td>\n",
       "    </tr>\n",
       "    <tr>\n",
       "      <th>...</th>\n",
       "      <td>...</td>\n",
       "      <td>...</td>\n",
       "      <td>...</td>\n",
       "      <td>...</td>\n",
       "      <td>...</td>\n",
       "      <td>...</td>\n",
       "      <td>...</td>\n",
       "      <td>...</td>\n",
       "      <td>...</td>\n",
       "      <td>...</td>\n",
       "      <td>...</td>\n",
       "      <td>...</td>\n",
       "      <td>...</td>\n",
       "      <td>...</td>\n",
       "      <td>...</td>\n",
       "      <td>...</td>\n",
       "      <td>...</td>\n",
       "      <td>...</td>\n",
       "      <td>...</td>\n",
       "      <td>...</td>\n",
       "      <td>...</td>\n",
       "    </tr>\n",
       "    <tr>\n",
       "      <th>95</th>\n",
       "      <td>9</td>\n",
       "      <td>0</td>\n",
       "      <td>0</td>\n",
       "      <td>0</td>\n",
       "      <td>0</td>\n",
       "      <td>0</td>\n",
       "      <td>0</td>\n",
       "      <td>0</td>\n",
       "      <td>0</td>\n",
       "      <td>0</td>\n",
       "      <td>...</td>\n",
       "      <td>0</td>\n",
       "      <td>0</td>\n",
       "      <td>0</td>\n",
       "      <td>0</td>\n",
       "      <td>0</td>\n",
       "      <td>0</td>\n",
       "      <td>0</td>\n",
       "      <td>0</td>\n",
       "      <td>0</td>\n",
       "      <td>0</td>\n",
       "    </tr>\n",
       "    <tr>\n",
       "      <th>96</th>\n",
       "      <td>1</td>\n",
       "      <td>0</td>\n",
       "      <td>0</td>\n",
       "      <td>0</td>\n",
       "      <td>0</td>\n",
       "      <td>0</td>\n",
       "      <td>0</td>\n",
       "      <td>0</td>\n",
       "      <td>0</td>\n",
       "      <td>0</td>\n",
       "      <td>...</td>\n",
       "      <td>0</td>\n",
       "      <td>0</td>\n",
       "      <td>0</td>\n",
       "      <td>0</td>\n",
       "      <td>0</td>\n",
       "      <td>0</td>\n",
       "      <td>0</td>\n",
       "      <td>0</td>\n",
       "      <td>0</td>\n",
       "      <td>0</td>\n",
       "    </tr>\n",
       "    <tr>\n",
       "      <th>97</th>\n",
       "      <td>2</td>\n",
       "      <td>0</td>\n",
       "      <td>0</td>\n",
       "      <td>0</td>\n",
       "      <td>0</td>\n",
       "      <td>0</td>\n",
       "      <td>0</td>\n",
       "      <td>0</td>\n",
       "      <td>0</td>\n",
       "      <td>0</td>\n",
       "      <td>...</td>\n",
       "      <td>0</td>\n",
       "      <td>0</td>\n",
       "      <td>0</td>\n",
       "      <td>0</td>\n",
       "      <td>0</td>\n",
       "      <td>0</td>\n",
       "      <td>0</td>\n",
       "      <td>0</td>\n",
       "      <td>0</td>\n",
       "      <td>0</td>\n",
       "    </tr>\n",
       "    <tr>\n",
       "      <th>98</th>\n",
       "      <td>0</td>\n",
       "      <td>0</td>\n",
       "      <td>0</td>\n",
       "      <td>0</td>\n",
       "      <td>0</td>\n",
       "      <td>0</td>\n",
       "      <td>0</td>\n",
       "      <td>0</td>\n",
       "      <td>0</td>\n",
       "      <td>0</td>\n",
       "      <td>...</td>\n",
       "      <td>0</td>\n",
       "      <td>0</td>\n",
       "      <td>0</td>\n",
       "      <td>0</td>\n",
       "      <td>0</td>\n",
       "      <td>0</td>\n",
       "      <td>0</td>\n",
       "      <td>0</td>\n",
       "      <td>0</td>\n",
       "      <td>0</td>\n",
       "    </tr>\n",
       "    <tr>\n",
       "      <th>99</th>\n",
       "      <td>5</td>\n",
       "      <td>0</td>\n",
       "      <td>0</td>\n",
       "      <td>0</td>\n",
       "      <td>0</td>\n",
       "      <td>0</td>\n",
       "      <td>0</td>\n",
       "      <td>0</td>\n",
       "      <td>0</td>\n",
       "      <td>0</td>\n",
       "      <td>...</td>\n",
       "      <td>0</td>\n",
       "      <td>0</td>\n",
       "      <td>0</td>\n",
       "      <td>0</td>\n",
       "      <td>0</td>\n",
       "      <td>0</td>\n",
       "      <td>0</td>\n",
       "      <td>0</td>\n",
       "      <td>0</td>\n",
       "      <td>0</td>\n",
       "    </tr>\n",
       "  </tbody>\n",
       "</table>\n",
       "<p>100 rows × 785 columns</p>\n",
       "</div>"
      ],
      "text/plain": [
       "    label  pixel0  pixel1  pixel2  pixel3  pixel4  pixel5  pixel6  pixel7  \\\n",
       "0       1       0       0       0       0       0       0       0       0   \n",
       "1       0       0       0       0       0       0       0       0       0   \n",
       "2       1       0       0       0       0       0       0       0       0   \n",
       "3       4       0       0       0       0       0       0       0       0   \n",
       "4       0       0       0       0       0       0       0       0       0   \n",
       "..    ...     ...     ...     ...     ...     ...     ...     ...     ...   \n",
       "95      9       0       0       0       0       0       0       0       0   \n",
       "96      1       0       0       0       0       0       0       0       0   \n",
       "97      2       0       0       0       0       0       0       0       0   \n",
       "98      0       0       0       0       0       0       0       0       0   \n",
       "99      5       0       0       0       0       0       0       0       0   \n",
       "\n",
       "    pixel8  ...  pixel774  pixel775  pixel776  pixel777  pixel778  pixel779  \\\n",
       "0        0  ...         0         0         0         0         0         0   \n",
       "1        0  ...         0         0         0         0         0         0   \n",
       "2        0  ...         0         0         0         0         0         0   \n",
       "3        0  ...         0         0         0         0         0         0   \n",
       "4        0  ...         0         0         0         0         0         0   \n",
       "..     ...  ...       ...       ...       ...       ...       ...       ...   \n",
       "95       0  ...         0         0         0         0         0         0   \n",
       "96       0  ...         0         0         0         0         0         0   \n",
       "97       0  ...         0         0         0         0         0         0   \n",
       "98       0  ...         0         0         0         0         0         0   \n",
       "99       0  ...         0         0         0         0         0         0   \n",
       "\n",
       "    pixel780  pixel781  pixel782  pixel783  \n",
       "0          0         0         0         0  \n",
       "1          0         0         0         0  \n",
       "2          0         0         0         0  \n",
       "3          0         0         0         0  \n",
       "4          0         0         0         0  \n",
       "..       ...       ...       ...       ...  \n",
       "95         0         0         0         0  \n",
       "96         0         0         0         0  \n",
       "97         0         0         0         0  \n",
       "98         0         0         0         0  \n",
       "99         0         0         0         0  \n",
       "\n",
       "[100 rows x 785 columns]"
      ]
     },
     "execution_count": 2,
     "metadata": {},
     "output_type": "execute_result"
    },
    {
     "data": {
      "text/plain": [
       "(42000, 785)"
      ]
     },
     "execution_count": 2,
     "metadata": {},
     "output_type": "execute_result"
    }
   ],
   "source": [
    "import numpy as np\n",
    "import pandas as pd\n",
    "# load training data\n",
    "digit_training_data = pd.read_csv('train.csv')\n",
    "\n",
    "# show first rows of the data\n",
    "digit_training_data.head(100)\n",
    "# show number of columns and rows\n",
    "digit_training_data.shape"
   ]
  },
  {
   "cell_type": "markdown",
   "metadata": {},
   "source": [
    "### Investigation of Missing Data and Outliers in Training Data"
   ]
  },
  {
   "cell_type": "code",
   "execution_count": 11,
   "metadata": {},
   "outputs": [
    {
     "data": {
      "text/html": [
       "<div>\n",
       "<style scoped>\n",
       "    .dataframe tbody tr th:only-of-type {\n",
       "        vertical-align: middle;\n",
       "    }\n",
       "\n",
       "    .dataframe tbody tr th {\n",
       "        vertical-align: top;\n",
       "    }\n",
       "\n",
       "    .dataframe thead th {\n",
       "        text-align: right;\n",
       "    }\n",
       "</style>\n",
       "<table border=\"1\" class=\"dataframe\">\n",
       "  <thead>\n",
       "    <tr style=\"text-align: right;\">\n",
       "      <th></th>\n",
       "      <th>Missing Count</th>\n",
       "      <th>Percentage Missing</th>\n",
       "      <th>Column Type</th>\n",
       "    </tr>\n",
       "  </thead>\n",
       "  <tbody>\n",
       "  </tbody>\n",
       "</table>\n",
       "</div>"
      ],
      "text/plain": [
       "Empty DataFrame\n",
       "Columns: [Missing Count, Percentage Missing, Column Type]\n",
       "Index: []"
      ]
     },
     "execution_count": 11,
     "metadata": {},
     "output_type": "execute_result"
    }
   ],
   "source": [
    "# find null counts, percentage of null values, and column type\n",
    "null_count = digit_training_data.isnull().sum()\n",
    "null_percentage = digit_training_data.isnull().sum() * 100 / len(digit_training_data)\n",
    "column_type = digit_training_data.dtypes\n",
    "\n",
    "# show null counts, percentage of null values, and column type for columns with more than one Null value\n",
    "null_summary = pd.concat([null_count, null_percentage, column_type], axis=1, keys=['Missing Count', 'Percentage Missing','Column Type'])\n",
    "null_summary_only_missing = null_summary[null_count != 0].sort_values('Percentage Missing',ascending=False)\n",
    "null_summary_only_missing"
   ]
  },
  {
   "cell_type": "markdown",
   "metadata": {},
   "source": [
    "The above analysis displays that there is no missing data in the digit recognizer training dataset."
   ]
  },
  {
   "cell_type": "markdown",
   "metadata": {},
   "source": [
    "### Import Testing Data"
   ]
  },
  {
   "cell_type": "code",
   "execution_count": 4,
   "metadata": {},
   "outputs": [
    {
     "data": {
      "text/html": [
       "<div>\n",
       "<style scoped>\n",
       "    .dataframe tbody tr th:only-of-type {\n",
       "        vertical-align: middle;\n",
       "    }\n",
       "\n",
       "    .dataframe tbody tr th {\n",
       "        vertical-align: top;\n",
       "    }\n",
       "\n",
       "    .dataframe thead th {\n",
       "        text-align: right;\n",
       "    }\n",
       "</style>\n",
       "<table border=\"1\" class=\"dataframe\">\n",
       "  <thead>\n",
       "    <tr style=\"text-align: right;\">\n",
       "      <th></th>\n",
       "      <th>pixel0</th>\n",
       "      <th>pixel1</th>\n",
       "      <th>pixel2</th>\n",
       "      <th>pixel3</th>\n",
       "      <th>pixel4</th>\n",
       "      <th>pixel5</th>\n",
       "      <th>pixel6</th>\n",
       "      <th>pixel7</th>\n",
       "      <th>pixel8</th>\n",
       "      <th>pixel9</th>\n",
       "      <th>...</th>\n",
       "      <th>pixel774</th>\n",
       "      <th>pixel775</th>\n",
       "      <th>pixel776</th>\n",
       "      <th>pixel777</th>\n",
       "      <th>pixel778</th>\n",
       "      <th>pixel779</th>\n",
       "      <th>pixel780</th>\n",
       "      <th>pixel781</th>\n",
       "      <th>pixel782</th>\n",
       "      <th>pixel783</th>\n",
       "    </tr>\n",
       "  </thead>\n",
       "  <tbody>\n",
       "    <tr>\n",
       "      <th>0</th>\n",
       "      <td>0</td>\n",
       "      <td>0</td>\n",
       "      <td>0</td>\n",
       "      <td>0</td>\n",
       "      <td>0</td>\n",
       "      <td>0</td>\n",
       "      <td>0</td>\n",
       "      <td>0</td>\n",
       "      <td>0</td>\n",
       "      <td>0</td>\n",
       "      <td>...</td>\n",
       "      <td>0</td>\n",
       "      <td>0</td>\n",
       "      <td>0</td>\n",
       "      <td>0</td>\n",
       "      <td>0</td>\n",
       "      <td>0</td>\n",
       "      <td>0</td>\n",
       "      <td>0</td>\n",
       "      <td>0</td>\n",
       "      <td>0</td>\n",
       "    </tr>\n",
       "    <tr>\n",
       "      <th>1</th>\n",
       "      <td>0</td>\n",
       "      <td>0</td>\n",
       "      <td>0</td>\n",
       "      <td>0</td>\n",
       "      <td>0</td>\n",
       "      <td>0</td>\n",
       "      <td>0</td>\n",
       "      <td>0</td>\n",
       "      <td>0</td>\n",
       "      <td>0</td>\n",
       "      <td>...</td>\n",
       "      <td>0</td>\n",
       "      <td>0</td>\n",
       "      <td>0</td>\n",
       "      <td>0</td>\n",
       "      <td>0</td>\n",
       "      <td>0</td>\n",
       "      <td>0</td>\n",
       "      <td>0</td>\n",
       "      <td>0</td>\n",
       "      <td>0</td>\n",
       "    </tr>\n",
       "    <tr>\n",
       "      <th>2</th>\n",
       "      <td>0</td>\n",
       "      <td>0</td>\n",
       "      <td>0</td>\n",
       "      <td>0</td>\n",
       "      <td>0</td>\n",
       "      <td>0</td>\n",
       "      <td>0</td>\n",
       "      <td>0</td>\n",
       "      <td>0</td>\n",
       "      <td>0</td>\n",
       "      <td>...</td>\n",
       "      <td>0</td>\n",
       "      <td>0</td>\n",
       "      <td>0</td>\n",
       "      <td>0</td>\n",
       "      <td>0</td>\n",
       "      <td>0</td>\n",
       "      <td>0</td>\n",
       "      <td>0</td>\n",
       "      <td>0</td>\n",
       "      <td>0</td>\n",
       "    </tr>\n",
       "    <tr>\n",
       "      <th>3</th>\n",
       "      <td>0</td>\n",
       "      <td>0</td>\n",
       "      <td>0</td>\n",
       "      <td>0</td>\n",
       "      <td>0</td>\n",
       "      <td>0</td>\n",
       "      <td>0</td>\n",
       "      <td>0</td>\n",
       "      <td>0</td>\n",
       "      <td>0</td>\n",
       "      <td>...</td>\n",
       "      <td>0</td>\n",
       "      <td>0</td>\n",
       "      <td>0</td>\n",
       "      <td>0</td>\n",
       "      <td>0</td>\n",
       "      <td>0</td>\n",
       "      <td>0</td>\n",
       "      <td>0</td>\n",
       "      <td>0</td>\n",
       "      <td>0</td>\n",
       "    </tr>\n",
       "    <tr>\n",
       "      <th>4</th>\n",
       "      <td>0</td>\n",
       "      <td>0</td>\n",
       "      <td>0</td>\n",
       "      <td>0</td>\n",
       "      <td>0</td>\n",
       "      <td>0</td>\n",
       "      <td>0</td>\n",
       "      <td>0</td>\n",
       "      <td>0</td>\n",
       "      <td>0</td>\n",
       "      <td>...</td>\n",
       "      <td>0</td>\n",
       "      <td>0</td>\n",
       "      <td>0</td>\n",
       "      <td>0</td>\n",
       "      <td>0</td>\n",
       "      <td>0</td>\n",
       "      <td>0</td>\n",
       "      <td>0</td>\n",
       "      <td>0</td>\n",
       "      <td>0</td>\n",
       "    </tr>\n",
       "    <tr>\n",
       "      <th>5</th>\n",
       "      <td>0</td>\n",
       "      <td>0</td>\n",
       "      <td>0</td>\n",
       "      <td>0</td>\n",
       "      <td>0</td>\n",
       "      <td>0</td>\n",
       "      <td>0</td>\n",
       "      <td>0</td>\n",
       "      <td>0</td>\n",
       "      <td>0</td>\n",
       "      <td>...</td>\n",
       "      <td>0</td>\n",
       "      <td>0</td>\n",
       "      <td>0</td>\n",
       "      <td>0</td>\n",
       "      <td>0</td>\n",
       "      <td>0</td>\n",
       "      <td>0</td>\n",
       "      <td>0</td>\n",
       "      <td>0</td>\n",
       "      <td>0</td>\n",
       "    </tr>\n",
       "    <tr>\n",
       "      <th>6</th>\n",
       "      <td>0</td>\n",
       "      <td>0</td>\n",
       "      <td>0</td>\n",
       "      <td>0</td>\n",
       "      <td>0</td>\n",
       "      <td>0</td>\n",
       "      <td>0</td>\n",
       "      <td>0</td>\n",
       "      <td>0</td>\n",
       "      <td>0</td>\n",
       "      <td>...</td>\n",
       "      <td>0</td>\n",
       "      <td>0</td>\n",
       "      <td>0</td>\n",
       "      <td>0</td>\n",
       "      <td>0</td>\n",
       "      <td>0</td>\n",
       "      <td>0</td>\n",
       "      <td>0</td>\n",
       "      <td>0</td>\n",
       "      <td>0</td>\n",
       "    </tr>\n",
       "    <tr>\n",
       "      <th>7</th>\n",
       "      <td>0</td>\n",
       "      <td>0</td>\n",
       "      <td>0</td>\n",
       "      <td>0</td>\n",
       "      <td>0</td>\n",
       "      <td>0</td>\n",
       "      <td>0</td>\n",
       "      <td>0</td>\n",
       "      <td>0</td>\n",
       "      <td>0</td>\n",
       "      <td>...</td>\n",
       "      <td>0</td>\n",
       "      <td>0</td>\n",
       "      <td>0</td>\n",
       "      <td>0</td>\n",
       "      <td>0</td>\n",
       "      <td>0</td>\n",
       "      <td>0</td>\n",
       "      <td>0</td>\n",
       "      <td>0</td>\n",
       "      <td>0</td>\n",
       "    </tr>\n",
       "    <tr>\n",
       "      <th>8</th>\n",
       "      <td>0</td>\n",
       "      <td>0</td>\n",
       "      <td>0</td>\n",
       "      <td>0</td>\n",
       "      <td>0</td>\n",
       "      <td>0</td>\n",
       "      <td>0</td>\n",
       "      <td>0</td>\n",
       "      <td>0</td>\n",
       "      <td>0</td>\n",
       "      <td>...</td>\n",
       "      <td>0</td>\n",
       "      <td>0</td>\n",
       "      <td>0</td>\n",
       "      <td>0</td>\n",
       "      <td>0</td>\n",
       "      <td>0</td>\n",
       "      <td>0</td>\n",
       "      <td>0</td>\n",
       "      <td>0</td>\n",
       "      <td>0</td>\n",
       "    </tr>\n",
       "    <tr>\n",
       "      <th>9</th>\n",
       "      <td>0</td>\n",
       "      <td>0</td>\n",
       "      <td>0</td>\n",
       "      <td>0</td>\n",
       "      <td>0</td>\n",
       "      <td>0</td>\n",
       "      <td>0</td>\n",
       "      <td>0</td>\n",
       "      <td>0</td>\n",
       "      <td>0</td>\n",
       "      <td>...</td>\n",
       "      <td>0</td>\n",
       "      <td>0</td>\n",
       "      <td>0</td>\n",
       "      <td>0</td>\n",
       "      <td>0</td>\n",
       "      <td>0</td>\n",
       "      <td>0</td>\n",
       "      <td>0</td>\n",
       "      <td>0</td>\n",
       "      <td>0</td>\n",
       "    </tr>\n",
       "  </tbody>\n",
       "</table>\n",
       "<p>10 rows × 784 columns</p>\n",
       "</div>"
      ],
      "text/plain": [
       "   pixel0  pixel1  pixel2  pixel3  pixel4  pixel5  pixel6  pixel7  pixel8  \\\n",
       "0       0       0       0       0       0       0       0       0       0   \n",
       "1       0       0       0       0       0       0       0       0       0   \n",
       "2       0       0       0       0       0       0       0       0       0   \n",
       "3       0       0       0       0       0       0       0       0       0   \n",
       "4       0       0       0       0       0       0       0       0       0   \n",
       "5       0       0       0       0       0       0       0       0       0   \n",
       "6       0       0       0       0       0       0       0       0       0   \n",
       "7       0       0       0       0       0       0       0       0       0   \n",
       "8       0       0       0       0       0       0       0       0       0   \n",
       "9       0       0       0       0       0       0       0       0       0   \n",
       "\n",
       "   pixel9  ...  pixel774  pixel775  pixel776  pixel777  pixel778  pixel779  \\\n",
       "0       0  ...         0         0         0         0         0         0   \n",
       "1       0  ...         0         0         0         0         0         0   \n",
       "2       0  ...         0         0         0         0         0         0   \n",
       "3       0  ...         0         0         0         0         0         0   \n",
       "4       0  ...         0         0         0         0         0         0   \n",
       "5       0  ...         0         0         0         0         0         0   \n",
       "6       0  ...         0         0         0         0         0         0   \n",
       "7       0  ...         0         0         0         0         0         0   \n",
       "8       0  ...         0         0         0         0         0         0   \n",
       "9       0  ...         0         0         0         0         0         0   \n",
       "\n",
       "   pixel780  pixel781  pixel782  pixel783  \n",
       "0         0         0         0         0  \n",
       "1         0         0         0         0  \n",
       "2         0         0         0         0  \n",
       "3         0         0         0         0  \n",
       "4         0         0         0         0  \n",
       "5         0         0         0         0  \n",
       "6         0         0         0         0  \n",
       "7         0         0         0         0  \n",
       "8         0         0         0         0  \n",
       "9         0         0         0         0  \n",
       "\n",
       "[10 rows x 784 columns]"
      ]
     },
     "execution_count": 4,
     "metadata": {},
     "output_type": "execute_result"
    },
    {
     "data": {
      "text/plain": [
       "(28000, 784)"
      ]
     },
     "execution_count": 4,
     "metadata": {},
     "output_type": "execute_result"
    }
   ],
   "source": [
    "# import test dataset\n",
    "digit_testing_data = pd.read_csv('test.csv')\n",
    "\n",
    "# show first ten rows of the data\n",
    "digit_testing_data.head(10)\n",
    "# show number of columns and rows\n",
    "digit_testing_data.shape"
   ]
  },
  {
   "cell_type": "markdown",
   "metadata": {},
   "source": [
    "### Investigation of Missing Data and Outliers in Training Data"
   ]
  },
  {
   "cell_type": "code",
   "execution_count": 5,
   "metadata": {},
   "outputs": [
    {
     "data": {
      "text/html": [
       "<div>\n",
       "<style scoped>\n",
       "    .dataframe tbody tr th:only-of-type {\n",
       "        vertical-align: middle;\n",
       "    }\n",
       "\n",
       "    .dataframe tbody tr th {\n",
       "        vertical-align: top;\n",
       "    }\n",
       "\n",
       "    .dataframe thead th {\n",
       "        text-align: right;\n",
       "    }\n",
       "</style>\n",
       "<table border=\"1\" class=\"dataframe\">\n",
       "  <thead>\n",
       "    <tr style=\"text-align: right;\">\n",
       "      <th></th>\n",
       "      <th>Missing Count</th>\n",
       "      <th>Percentage Missing</th>\n",
       "      <th>Column Type</th>\n",
       "    </tr>\n",
       "  </thead>\n",
       "  <tbody>\n",
       "  </tbody>\n",
       "</table>\n",
       "</div>"
      ],
      "text/plain": [
       "Empty DataFrame\n",
       "Columns: [Missing Count, Percentage Missing, Column Type]\n",
       "Index: []"
      ]
     },
     "execution_count": 5,
     "metadata": {},
     "output_type": "execute_result"
    }
   ],
   "source": [
    "# find null counts, percentage of null values, and column type\n",
    "null_count = digit_testing_data.isnull().sum()\n",
    "null_percentage = digit_testing_data.isnull().sum() * 100 / len(digit_training_data)\n",
    "column_type = digit_testing_data.dtypes\n",
    "\n",
    "# show null counts, percentage of null values, and column type for columns with more than one Null value\n",
    "null_summary = pd.concat([null_count, null_percentage, column_type], axis=1, keys=['Missing Count', 'Percentage Missing','Column Type'])\n",
    "null_summary_only_missing = null_summary[null_count != 0].sort_values('Percentage Missing',ascending=False)\n",
    "null_summary_only_missing"
   ]
  },
  {
   "cell_type": "markdown",
   "metadata": {},
   "source": [
    "The above analysis displays that there is no missing data in the digit recognizer test dataset."
   ]
  },
  {
   "cell_type": "markdown",
   "metadata": {},
   "source": [
    "### Claire's Section"
   ]
  },
  {
   "cell_type": "code",
   "execution_count": 6,
   "metadata": {},
   "outputs": [
    {
     "name": "stderr",
     "output_type": "stream",
     "text": [
      "/Library/Frameworks/Python.framework/Versions/3.7/lib/python3.7/site-packages/sklearn/neural_network/_multilayer_perceptron.py:696: ConvergenceWarning: Stochastic Optimizer: Maximum iterations (200) reached and the optimization hasn't converged yet.\n",
      "  ConvergenceWarning,\n",
      "/Library/Frameworks/Python.framework/Versions/3.7/lib/python3.7/site-packages/sklearn/neural_network/_multilayer_perceptron.py:696: ConvergenceWarning: Stochastic Optimizer: Maximum iterations (200) reached and the optimization hasn't converged yet.\n",
      "  ConvergenceWarning,\n",
      "/Library/Frameworks/Python.framework/Versions/3.7/lib/python3.7/site-packages/sklearn/neural_network/_multilayer_perceptron.py:696: ConvergenceWarning: Stochastic Optimizer: Maximum iterations (200) reached and the optimization hasn't converged yet.\n",
      "  ConvergenceWarning,\n",
      "/Library/Frameworks/Python.framework/Versions/3.7/lib/python3.7/site-packages/sklearn/neural_network/_multilayer_perceptron.py:696: ConvergenceWarning: Stochastic Optimizer: Maximum iterations (200) reached and the optimization hasn't converged yet.\n",
      "  ConvergenceWarning,\n",
      "/Library/Frameworks/Python.framework/Versions/3.7/lib/python3.7/site-packages/sklearn/neural_network/_multilayer_perceptron.py:696: ConvergenceWarning: Stochastic Optimizer: Maximum iterations (200) reached and the optimization hasn't converged yet.\n",
      "  ConvergenceWarning,\n",
      "/Library/Frameworks/Python.framework/Versions/3.7/lib/python3.7/site-packages/sklearn/neural_network/_multilayer_perceptron.py:696: ConvergenceWarning: Stochastic Optimizer: Maximum iterations (200) reached and the optimization hasn't converged yet.\n",
      "  ConvergenceWarning,\n",
      "/Library/Frameworks/Python.framework/Versions/3.7/lib/python3.7/site-packages/sklearn/neural_network/_multilayer_perceptron.py:696: ConvergenceWarning: Stochastic Optimizer: Maximum iterations (200) reached and the optimization hasn't converged yet.\n",
      "  ConvergenceWarning,\n",
      "/Library/Frameworks/Python.framework/Versions/3.7/lib/python3.7/site-packages/sklearn/neural_network/_multilayer_perceptron.py:696: ConvergenceWarning: Stochastic Optimizer: Maximum iterations (200) reached and the optimization hasn't converged yet.\n",
      "  ConvergenceWarning,\n",
      "/Library/Frameworks/Python.framework/Versions/3.7/lib/python3.7/site-packages/sklearn/neural_network/_multilayer_perceptron.py:696: ConvergenceWarning: Stochastic Optimizer: Maximum iterations (200) reached and the optimization hasn't converged yet.\n",
      "  ConvergenceWarning,\n",
      "/Library/Frameworks/Python.framework/Versions/3.7/lib/python3.7/site-packages/sklearn/neural_network/_multilayer_perceptron.py:696: ConvergenceWarning: Stochastic Optimizer: Maximum iterations (200) reached and the optimization hasn't converged yet.\n",
      "  ConvergenceWarning,\n",
      "/Library/Frameworks/Python.framework/Versions/3.7/lib/python3.7/site-packages/sklearn/neural_network/_multilayer_perceptron.py:696: ConvergenceWarning: Stochastic Optimizer: Maximum iterations (200) reached and the optimization hasn't converged yet.\n",
      "  ConvergenceWarning,\n",
      "/Library/Frameworks/Python.framework/Versions/3.7/lib/python3.7/site-packages/sklearn/neural_network/_multilayer_perceptron.py:696: ConvergenceWarning: Stochastic Optimizer: Maximum iterations (200) reached and the optimization hasn't converged yet.\n",
      "  ConvergenceWarning,\n"
     ]
    },
    {
     "data": {
      "text/plain": [
       "GridSearchCV(cv=KFold(n_splits=5, random_state=1, shuffle=True),\n",
       "             estimator=MLPClassifier(random_state=1),\n",
       "             param_grid={'hidden_layer_sizes': [(10, 10), (20, 20),\n",
       "                                                (10, 10, 10), (20, 20, 20),\n",
       "                                                (10, 10, 10, 10, 10),\n",
       "                                                (20, 20, 20, 20, 20)]},\n",
       "             scoring='accuracy')"
      ]
     },
     "execution_count": 6,
     "metadata": {},
     "output_type": "execute_result"
    },
    {
     "name": "stdout",
     "output_type": "stream",
     "text": [
      "Best Hyperparameters: {'hidden_layer_sizes': (20, 20, 20, 20, 20)}\n",
      "Training Accuracy: 0.9929285714285714\n",
      "Training Classification Report:               precision    recall  f1-score   support\n",
      "\n",
      "           0       0.99      1.00      1.00      4132\n",
      "           1       1.00      1.00      1.00      4684\n",
      "           2       0.99      1.00      0.99      4177\n",
      "           3       1.00      0.98      0.99      4351\n",
      "           4       0.99      1.00      1.00      4072\n",
      "           5       0.99      0.98      0.99      3795\n",
      "           6       0.98      1.00      0.99      4137\n",
      "           7       0.99      1.00      1.00      4401\n",
      "           8       1.00      0.98      0.99      4063\n",
      "           9       1.00      0.99      0.99      4188\n",
      "\n",
      "    accuracy                           0.99     42000\n",
      "   macro avg       0.99      0.99      0.99     42000\n",
      "weighted avg       0.99      0.99      0.99     42000\n",
      "\n"
     ]
    },
    {
     "data": {
      "text/plain": [
       "<sklearn.metrics._plot.confusion_matrix.ConfusionMatrixDisplay at 0x7f98ca5d7ad0>"
      ]
     },
     "execution_count": 6,
     "metadata": {},
     "output_type": "execute_result"
    },
    {
     "data": {
      "text/html": [
       "<div>\n",
       "<style scoped>\n",
       "    .dataframe tbody tr th:only-of-type {\n",
       "        vertical-align: middle;\n",
       "    }\n",
       "\n",
       "    .dataframe tbody tr th {\n",
       "        vertical-align: top;\n",
       "    }\n",
       "\n",
       "    .dataframe thead th {\n",
       "        text-align: right;\n",
       "    }\n",
       "</style>\n",
       "<table border=\"1\" class=\"dataframe\">\n",
       "  <thead>\n",
       "    <tr style=\"text-align: right;\">\n",
       "      <th></th>\n",
       "      <th>Layers</th>\n",
       "      <th>Nodes</th>\n",
       "      <th>Mean Training Accuracy</th>\n",
       "    </tr>\n",
       "  </thead>\n",
       "  <tbody>\n",
       "    <tr>\n",
       "      <th>0</th>\n",
       "      <td>2</td>\n",
       "      <td>10</td>\n",
       "      <td>0.911929</td>\n",
       "    </tr>\n",
       "    <tr>\n",
       "      <th>1</th>\n",
       "      <td>2</td>\n",
       "      <td>20</td>\n",
       "      <td>0.941738</td>\n",
       "    </tr>\n",
       "    <tr>\n",
       "      <th>2</th>\n",
       "      <td>3</td>\n",
       "      <td>10</td>\n",
       "      <td>0.910786</td>\n",
       "    </tr>\n",
       "    <tr>\n",
       "      <th>3</th>\n",
       "      <td>3</td>\n",
       "      <td>20</td>\n",
       "      <td>0.941143</td>\n",
       "    </tr>\n",
       "    <tr>\n",
       "      <th>4</th>\n",
       "      <td>5</td>\n",
       "      <td>10</td>\n",
       "      <td>0.907238</td>\n",
       "    </tr>\n",
       "    <tr>\n",
       "      <th>5</th>\n",
       "      <td>5</td>\n",
       "      <td>20</td>\n",
       "      <td>0.943119</td>\n",
       "    </tr>\n",
       "  </tbody>\n",
       "</table>\n",
       "</div>"
      ],
      "text/plain": [
       "   Layers  Nodes  Mean Training Accuracy\n",
       "0       2     10                0.911929\n",
       "1       2     20                0.941738\n",
       "2       3     10                0.910786\n",
       "3       3     20                0.941143\n",
       "4       5     10                0.907238\n",
       "5       5     20                0.943119"
      ]
     },
     "execution_count": 6,
     "metadata": {},
     "output_type": "execute_result"
    },
    {
     "data": {
      "image/png": "[encoded data removed]",
      "text/plain": [
       "<Figure size 432x288 with 2 Axes>"
      ]
     },
     "metadata": {
      "needs_background": "light"
     },
     "output_type": "display_data"
    }
   ],
   "source": [
    "# Import libraries\n",
    "from sklearn.model_selection import train_test_split, GridSearchCV\n",
    "from sklearn.neural_network import MLPClassifier\n",
    "from sklearn.preprocessing import StandardScaler\n",
    "from sklearn.model_selection import KFold\n",
    "from sklearn.metrics import accuracy_score, classification_report, confusion_matrix, ConfusionMatrixDisplay\n",
    "\n",
    "# Extract predictors and outcome (label variable)\n",
    "X_train = digit_training_data.copy(deep=True)\n",
    "X_train.drop(['label'], axis=1, inplace=True)\n",
    "y_train = digit_training_data['label']\n",
    "\n",
    "# Standardize the features\n",
    "xscaler = StandardScaler()\n",
    "X_train = xscaler.fit_transform(X_train)\n",
    "\n",
    "# Initialize MLP Classifier\n",
    "mlp_class = MLPClassifier(random_state=1)\n",
    "\n",
    "# Create paramater grid with hyperparameters to tune, use default adam solver so doen't need to tune learning rate\n",
    "param_grid = {\n",
    "    'hidden_layer_sizes': [(10,10), (20,20), (10,10,10), (20,20,20), (10,10,10,10,10), (20,20,20,20,20)]\n",
    "}\n",
    "\n",
    "# Kfold cv with 5 splits for GridSearch\n",
    "cv = KFold(n_splits=5, shuffle=True, random_state=1)\n",
    "\n",
    "# Create the GridSearchCV with kfold=5 object and fit it to the training data\n",
    "grid_search = GridSearchCV(mlp_class, param_grid, cv=cv, scoring='accuracy')\n",
    "grid_search.fit(X_train, y_train)\n",
    "\n",
    "# Print the best hyperparameters found\n",
    "print(\"Best Hyperparameters:\", grid_search.best_params_)\n",
    "\n",
    "# Save the best estimator\n",
    "best_model = grid_search.best_estimator_\n",
    "\n",
    "# Save dictionary of mean accuracy scores from models into 'scores' variable\n",
    "dict_results = grid_search.cv_results_\n",
    "scores = dict_results['mean_test_score']\n",
    "\n",
    "# Use the best model to predict using training data\n",
    "y_pred_train = best_model.predict(X_train)\n",
    "\n",
    "# evaluate the model on the training data\n",
    "accuracy_train = accuracy_score(y_train, y_pred_train)\n",
    "print(\"Training Accuracy:\", accuracy_train)\n",
    "print(\"Training Classification Report:\", classification_report(y_train, y_pred_train))\n",
    "\n",
    "# Create the confusion matrix of the predictions\n",
    "cm = confusion_matrix(y_train, y_pred_train)\n",
    "ConfusionMatrixDisplay(confusion_matrix=cm).plot();\n",
    "\n",
    "# Save layer and node data\n",
    "Layers = (2,2,3,3,5,5)\n",
    "Nodes = (10,20,10,20,10,20)\n",
    "\n",
    "# create dataframe with MLP details and scores for each mode and layer count tested\n",
    "MLP_Scores = pd.DataFrame({'Layers' : Layers, 'Nodes' : Nodes, 'Mean Training Accuracy' : scores})\n",
    "MLP_Scores"
   ]
  },
  {
   "cell_type": "markdown",
   "metadata": {},
   "source": [
    "Apply MLPClassifier to Test Data"
   ]
  },
  {
   "cell_type": "code",
   "execution_count": 7,
   "metadata": {},
   "outputs": [],
   "source": [
    "# Create a dataframe for predictor variables in the test dataframe for mlpclass model\n",
    "mlpclass_testing_x = digit_testing_data.copy(deep=True)\n",
    "\n",
    "# Standardize the features using same scaler as training data\n",
    "mlpclass_testing_xscale = xscaler.transform(mlpclass_testing_x)\n",
    "\n",
    "# Apply the mlpclass model to the test dataset\n",
    "mlpclass_test_ypred = best_model.predict(mlpclass_testing_xscale)\n",
    "\n",
    "# Put the kmeans predictions into a Pandas dataframe\n",
    "prediction_df_mlpclass = pd.DataFrame(mlpclass_test_ypred, columns=['Label'])\n",
    "\n",
    "# Add the ID column to the front of the mlpclass predictions dataframe\n",
    "ImageId_series = pd.Series(range(1,28001))\n",
    "prediction_df_mlpclass.insert(0, 'ImageId', ImageId_series)\n",
    "\n",
    "# Output predictions to csv\n",
    "#prediction_df_mlpclass.to_csv('test_predictions_mlpclass_v2.csv', index=False)\n"
   ]
  },
  {
   "cell_type": "markdown",
   "metadata": {},
   "source": [
    "Let's display the Kaggle results from the application of the MLP Classifier model on the test dataset"
   ]
  },
  {
   "cell_type": "code",
   "execution_count": 8,
   "metadata": {
    "scrolled": false
   },
   "outputs": [
    {
     "data": {
      "text/plain": [
       "<Figure size 1080x1080 with 0 Axes>"
      ]
     },
     "execution_count": 8,
     "metadata": {},
     "output_type": "execute_result"
    },
    {
     "data": {
      "text/plain": [
       "<matplotlib.image.AxesImage at 0x7f98bad61710>"
      ]
     },
     "execution_count": 8,
     "metadata": {},
     "output_type": "execute_result"
    },
    {
     "data": {
      "text/plain": [
       "(-0.5, 984.5, 414.5, -0.5)"
      ]
     },
     "execution_count": 8,
     "metadata": {},
     "output_type": "execute_result"
    },
    {
     "data": {
      "image/png": "[encoded data removed]",
      "text/plain": [
       "<Figure size 1080x1080 with 1 Axes>"
      ]
     },
     "metadata": {
      "needs_background": "light"
     },
     "output_type": "display_data"
    }
   ],
   "source": [
    "# Display the kaggle results associated with the MLP Classifier Model\n",
    "import matplotlib.pyplot as plt\n",
    "plt.figure(figsize = (15, 15))\n",
    "kaggle_results = plt.imread('Digit_mlpclass_v2.jpg')\n",
    "plt.imshow(kaggle_results)\n",
    "plt.axis(\"off\")\n",
    "plt.show()"
   ]
  },
  {
   "cell_type": "markdown",
   "metadata": {},
   "source": [
    "### Manny's Section"
   ]
  },
  {
   "cell_type": "markdown",
   "metadata": {},
   "source": [
    "First, let's load the required packages."
   ]
  },
  {
   "cell_type": "code",
   "execution_count": 6,
   "metadata": {},
   "outputs": [],
   "source": [
    "#pip install tensorflow\n",
    "import tensorflow as tf\n",
    "from tensorflow import keras"
   ]
  },
  {
   "cell_type": "markdown",
   "metadata": {},
   "source": [
    "Next let's split the training data into training and validation sets"
   ]
  },
  {
   "cell_type": "code",
   "execution_count": 7,
   "metadata": {},
   "outputs": [
    {
     "data": {
      "text/plain": [
       "MinMaxScaler()"
      ]
     },
     "execution_count": 7,
     "metadata": {},
     "output_type": "execute_result"
    }
   ],
   "source": [
    "from sklearn.metrics import accuracy_score, confusion_matrix, precision_score, recall_score, ConfusionMatrixDisplay\n",
    "from sklearn.model_selection import train_test_split\n",
    "from sklearn.preprocessing import MinMaxScaler\n",
    "\n",
    "# Create a copy of the training dataframe\n",
    "nn_train_df = digit_training_data.copy(deep=True)\n",
    "\n",
    "sc = MinMaxScaler() #Initialize scaling of data\n",
    "\n",
    "nn_train_df.drop(['label'], axis=1, inplace=True) #drop the label column from the df\n",
    "\n",
    "nn_train_x = nn_train_df #set df without label as x\n",
    "nn_train_y = digit_training_data['label'] #set y a the label column\n",
    "\n",
    "sc.fit(nn_train_x)\n",
    "normalized = sc.transform(nn_train_x)\n",
    "\n",
    "# Convert scaled data from numpy array into dataframe\n",
    "nn_training_features = list(nn_train_df.columns.values)\n",
    "nn_training_scaled_df = pd.DataFrame(normalized, columns=nn_training_features)\n",
    "\n",
    "# Split the Kaggle training data into training and validation components\n",
    "nn_x_train, nn_x_validation, nn_y_train, nn_y_validation = train_test_split(nn_training_scaled_df,\n",
    "                                                                      nn_train_y, \n",
    "                                                                            test_size=0.25, \n",
    "                                                                           random_state = 1)"
   ]
  },
  {
   "cell_type": "code",
   "execution_count": 8,
   "metadata": {},
   "outputs": [
    {
     "data": {
      "text/plain": [
       "(31500, 784)"
      ]
     },
     "execution_count": 8,
     "metadata": {},
     "output_type": "execute_result"
    },
    {
     "data": {
      "text/plain": [
       "(10500, 784)"
      ]
     },
     "execution_count": 8,
     "metadata": {},
     "output_type": "execute_result"
    },
    {
     "data": {
      "text/plain": [
       "(31500,)"
      ]
     },
     "execution_count": 8,
     "metadata": {},
     "output_type": "execute_result"
    },
    {
     "data": {
      "text/plain": [
       "(10500,)"
      ]
     },
     "execution_count": 8,
     "metadata": {},
     "output_type": "execute_result"
    }
   ],
   "source": [
    "nn_x_train.shape\n",
    "\n",
    "nn_x_validation.shape\n",
    "\n",
    "nn_y_train.shape\n",
    "\n",
    "nn_y_validation.shape"
   ]
  },
  {
   "cell_type": "code",
   "execution_count": 9,
   "metadata": {},
   "outputs": [
    {
     "data": {
      "text/html": [
       "<div>\n",
       "<style scoped>\n",
       "    .dataframe tbody tr th:only-of-type {\n",
       "        vertical-align: middle;\n",
       "    }\n",
       "\n",
       "    .dataframe tbody tr th {\n",
       "        vertical-align: top;\n",
       "    }\n",
       "\n",
       "    .dataframe thead th {\n",
       "        text-align: right;\n",
       "    }\n",
       "</style>\n",
       "<table border=\"1\" class=\"dataframe\">\n",
       "  <thead>\n",
       "    <tr style=\"text-align: right;\">\n",
       "      <th></th>\n",
       "      <th>pixel0</th>\n",
       "      <th>pixel1</th>\n",
       "      <th>pixel2</th>\n",
       "      <th>pixel3</th>\n",
       "      <th>pixel4</th>\n",
       "      <th>pixel5</th>\n",
       "      <th>pixel6</th>\n",
       "      <th>pixel7</th>\n",
       "      <th>pixel8</th>\n",
       "      <th>pixel9</th>\n",
       "      <th>...</th>\n",
       "      <th>pixel774</th>\n",
       "      <th>pixel775</th>\n",
       "      <th>pixel776</th>\n",
       "      <th>pixel777</th>\n",
       "      <th>pixel778</th>\n",
       "      <th>pixel779</th>\n",
       "      <th>pixel780</th>\n",
       "      <th>pixel781</th>\n",
       "      <th>pixel782</th>\n",
       "      <th>pixel783</th>\n",
       "    </tr>\n",
       "  </thead>\n",
       "  <tbody>\n",
       "    <tr>\n",
       "      <th>count</th>\n",
       "      <td>42000.0</td>\n",
       "      <td>42000.0</td>\n",
       "      <td>42000.0</td>\n",
       "      <td>42000.0</td>\n",
       "      <td>42000.0</td>\n",
       "      <td>42000.0</td>\n",
       "      <td>42000.0</td>\n",
       "      <td>42000.0</td>\n",
       "      <td>42000.0</td>\n",
       "      <td>42000.0</td>\n",
       "      <td>...</td>\n",
       "      <td>42000.000000</td>\n",
       "      <td>42000.000000</td>\n",
       "      <td>42000.000000</td>\n",
       "      <td>42000.000000</td>\n",
       "      <td>42000.000000</td>\n",
       "      <td>42000.000000</td>\n",
       "      <td>42000.0</td>\n",
       "      <td>42000.0</td>\n",
       "      <td>42000.0</td>\n",
       "      <td>42000.0</td>\n",
       "    </tr>\n",
       "    <tr>\n",
       "      <th>mean</th>\n",
       "      <td>0.0</td>\n",
       "      <td>0.0</td>\n",
       "      <td>0.0</td>\n",
       "      <td>0.0</td>\n",
       "      <td>0.0</td>\n",
       "      <td>0.0</td>\n",
       "      <td>0.0</td>\n",
       "      <td>0.0</td>\n",
       "      <td>0.0</td>\n",
       "      <td>0.0</td>\n",
       "      <td>...</td>\n",
       "      <td>0.000863</td>\n",
       "      <td>0.000461</td>\n",
       "      <td>0.000233</td>\n",
       "      <td>0.000080</td>\n",
       "      <td>0.000068</td>\n",
       "      <td>0.000046</td>\n",
       "      <td>0.0</td>\n",
       "      <td>0.0</td>\n",
       "      <td>0.0</td>\n",
       "      <td>0.0</td>\n",
       "    </tr>\n",
       "    <tr>\n",
       "      <th>std</th>\n",
       "      <td>0.0</td>\n",
       "      <td>0.0</td>\n",
       "      <td>0.0</td>\n",
       "      <td>0.0</td>\n",
       "      <td>0.0</td>\n",
       "      <td>0.0</td>\n",
       "      <td>0.0</td>\n",
       "      <td>0.0</td>\n",
       "      <td>0.0</td>\n",
       "      <td>0.0</td>\n",
       "      <td>...</td>\n",
       "      <td>0.024854</td>\n",
       "      <td>0.018243</td>\n",
       "      <td>0.012943</td>\n",
       "      <td>0.006956</td>\n",
       "      <td>0.007459</td>\n",
       "      <td>0.006682</td>\n",
       "      <td>0.0</td>\n",
       "      <td>0.0</td>\n",
       "      <td>0.0</td>\n",
       "      <td>0.0</td>\n",
       "    </tr>\n",
       "    <tr>\n",
       "      <th>min</th>\n",
       "      <td>0.0</td>\n",
       "      <td>0.0</td>\n",
       "      <td>0.0</td>\n",
       "      <td>0.0</td>\n",
       "      <td>0.0</td>\n",
       "      <td>0.0</td>\n",
       "      <td>0.0</td>\n",
       "      <td>0.0</td>\n",
       "      <td>0.0</td>\n",
       "      <td>0.0</td>\n",
       "      <td>...</td>\n",
       "      <td>0.000000</td>\n",
       "      <td>0.000000</td>\n",
       "      <td>0.000000</td>\n",
       "      <td>0.000000</td>\n",
       "      <td>0.000000</td>\n",
       "      <td>0.000000</td>\n",
       "      <td>0.0</td>\n",
       "      <td>0.0</td>\n",
       "      <td>0.0</td>\n",
       "      <td>0.0</td>\n",
       "    </tr>\n",
       "    <tr>\n",
       "      <th>25%</th>\n",
       "      <td>0.0</td>\n",
       "      <td>0.0</td>\n",
       "      <td>0.0</td>\n",
       "      <td>0.0</td>\n",
       "      <td>0.0</td>\n",
       "      <td>0.0</td>\n",
       "      <td>0.0</td>\n",
       "      <td>0.0</td>\n",
       "      <td>0.0</td>\n",
       "      <td>0.0</td>\n",
       "      <td>...</td>\n",
       "      <td>0.000000</td>\n",
       "      <td>0.000000</td>\n",
       "      <td>0.000000</td>\n",
       "      <td>0.000000</td>\n",
       "      <td>0.000000</td>\n",
       "      <td>0.000000</td>\n",
       "      <td>0.0</td>\n",
       "      <td>0.0</td>\n",
       "      <td>0.0</td>\n",
       "      <td>0.0</td>\n",
       "    </tr>\n",
       "    <tr>\n",
       "      <th>50%</th>\n",
       "      <td>0.0</td>\n",
       "      <td>0.0</td>\n",
       "      <td>0.0</td>\n",
       "      <td>0.0</td>\n",
       "      <td>0.0</td>\n",
       "      <td>0.0</td>\n",
       "      <td>0.0</td>\n",
       "      <td>0.0</td>\n",
       "      <td>0.0</td>\n",
       "      <td>0.0</td>\n",
       "      <td>...</td>\n",
       "      <td>0.000000</td>\n",
       "      <td>0.000000</td>\n",
       "      <td>0.000000</td>\n",
       "      <td>0.000000</td>\n",
       "      <td>0.000000</td>\n",
       "      <td>0.000000</td>\n",
       "      <td>0.0</td>\n",
       "      <td>0.0</td>\n",
       "      <td>0.0</td>\n",
       "      <td>0.0</td>\n",
       "    </tr>\n",
       "    <tr>\n",
       "      <th>75%</th>\n",
       "      <td>0.0</td>\n",
       "      <td>0.0</td>\n",
       "      <td>0.0</td>\n",
       "      <td>0.0</td>\n",
       "      <td>0.0</td>\n",
       "      <td>0.0</td>\n",
       "      <td>0.0</td>\n",
       "      <td>0.0</td>\n",
       "      <td>0.0</td>\n",
       "      <td>0.0</td>\n",
       "      <td>...</td>\n",
       "      <td>0.000000</td>\n",
       "      <td>0.000000</td>\n",
       "      <td>0.000000</td>\n",
       "      <td>0.000000</td>\n",
       "      <td>0.000000</td>\n",
       "      <td>0.000000</td>\n",
       "      <td>0.0</td>\n",
       "      <td>0.0</td>\n",
       "      <td>0.0</td>\n",
       "      <td>0.0</td>\n",
       "    </tr>\n",
       "    <tr>\n",
       "      <th>max</th>\n",
       "      <td>0.0</td>\n",
       "      <td>0.0</td>\n",
       "      <td>0.0</td>\n",
       "      <td>0.0</td>\n",
       "      <td>0.0</td>\n",
       "      <td>0.0</td>\n",
       "      <td>0.0</td>\n",
       "      <td>0.0</td>\n",
       "      <td>0.0</td>\n",
       "      <td>0.0</td>\n",
       "      <td>...</td>\n",
       "      <td>1.000000</td>\n",
       "      <td>1.000000</td>\n",
       "      <td>1.000000</td>\n",
       "      <td>1.000000</td>\n",
       "      <td>1.000000</td>\n",
       "      <td>1.000000</td>\n",
       "      <td>0.0</td>\n",
       "      <td>0.0</td>\n",
       "      <td>0.0</td>\n",
       "      <td>0.0</td>\n",
       "    </tr>\n",
       "  </tbody>\n",
       "</table>\n",
       "<p>8 rows × 784 columns</p>\n",
       "</div>"
      ],
      "text/plain": [
       "        pixel0   pixel1   pixel2   pixel3   pixel4   pixel5   pixel6   pixel7  \\\n",
       "count  42000.0  42000.0  42000.0  42000.0  42000.0  42000.0  42000.0  42000.0   \n",
       "mean       0.0      0.0      0.0      0.0      0.0      0.0      0.0      0.0   \n",
       "std        0.0      0.0      0.0      0.0      0.0      0.0      0.0      0.0   \n",
       "min        0.0      0.0      0.0      0.0      0.0      0.0      0.0      0.0   \n",
       "25%        0.0      0.0      0.0      0.0      0.0      0.0      0.0      0.0   \n",
       "50%        0.0      0.0      0.0      0.0      0.0      0.0      0.0      0.0   \n",
       "75%        0.0      0.0      0.0      0.0      0.0      0.0      0.0      0.0   \n",
       "max        0.0      0.0      0.0      0.0      0.0      0.0      0.0      0.0   \n",
       "\n",
       "        pixel8   pixel9  ...      pixel774      pixel775      pixel776  \\\n",
       "count  42000.0  42000.0  ...  42000.000000  42000.000000  42000.000000   \n",
       "mean       0.0      0.0  ...      0.000863      0.000461      0.000233   \n",
       "std        0.0      0.0  ...      0.024854      0.018243      0.012943   \n",
       "min        0.0      0.0  ...      0.000000      0.000000      0.000000   \n",
       "25%        0.0      0.0  ...      0.000000      0.000000      0.000000   \n",
       "50%        0.0      0.0  ...      0.000000      0.000000      0.000000   \n",
       "75%        0.0      0.0  ...      0.000000      0.000000      0.000000   \n",
       "max        0.0      0.0  ...      1.000000      1.000000      1.000000   \n",
       "\n",
       "           pixel777      pixel778      pixel779  pixel780  pixel781  pixel782  \\\n",
       "count  42000.000000  42000.000000  42000.000000   42000.0   42000.0   42000.0   \n",
       "mean       0.000080      0.000068      0.000046       0.0       0.0       0.0   \n",
       "std        0.006956      0.007459      0.006682       0.0       0.0       0.0   \n",
       "min        0.000000      0.000000      0.000000       0.0       0.0       0.0   \n",
       "25%        0.000000      0.000000      0.000000       0.0       0.0       0.0   \n",
       "50%        0.000000      0.000000      0.000000       0.0       0.0       0.0   \n",
       "75%        0.000000      0.000000      0.000000       0.0       0.0       0.0   \n",
       "max        1.000000      1.000000      1.000000       0.0       0.0       0.0   \n",
       "\n",
       "       pixel783  \n",
       "count   42000.0  \n",
       "mean        0.0  \n",
       "std         0.0  \n",
       "min         0.0  \n",
       "25%         0.0  \n",
       "50%         0.0  \n",
       "75%         0.0  \n",
       "max         0.0  \n",
       "\n",
       "[8 rows x 784 columns]"
      ]
     },
     "execution_count": 9,
     "metadata": {},
     "output_type": "execute_result"
    },
    {
     "data": {
      "text/plain": [
       "(42000, 784)"
      ]
     },
     "execution_count": 9,
     "metadata": {},
     "output_type": "execute_result"
    },
    {
     "data": {
      "text/html": [
       "<div>\n",
       "<style scoped>\n",
       "    .dataframe tbody tr th:only-of-type {\n",
       "        vertical-align: middle;\n",
       "    }\n",
       "\n",
       "    .dataframe tbody tr th {\n",
       "        vertical-align: top;\n",
       "    }\n",
       "\n",
       "    .dataframe thead th {\n",
       "        text-align: right;\n",
       "    }\n",
       "</style>\n",
       "<table border=\"1\" class=\"dataframe\">\n",
       "  <thead>\n",
       "    <tr style=\"text-align: right;\">\n",
       "      <th></th>\n",
       "      <th>pixel0</th>\n",
       "      <th>pixel1</th>\n",
       "      <th>pixel2</th>\n",
       "      <th>pixel3</th>\n",
       "      <th>pixel4</th>\n",
       "      <th>pixel5</th>\n",
       "      <th>pixel6</th>\n",
       "      <th>pixel7</th>\n",
       "      <th>pixel8</th>\n",
       "      <th>pixel9</th>\n",
       "      <th>...</th>\n",
       "      <th>pixel774</th>\n",
       "      <th>pixel775</th>\n",
       "      <th>pixel776</th>\n",
       "      <th>pixel777</th>\n",
       "      <th>pixel778</th>\n",
       "      <th>pixel779</th>\n",
       "      <th>pixel780</th>\n",
       "      <th>pixel781</th>\n",
       "      <th>pixel782</th>\n",
       "      <th>pixel783</th>\n",
       "    </tr>\n",
       "  </thead>\n",
       "  <tbody>\n",
       "    <tr>\n",
       "      <th>0</th>\n",
       "      <td>0.0</td>\n",
       "      <td>0.0</td>\n",
       "      <td>0.0</td>\n",
       "      <td>0.0</td>\n",
       "      <td>0.0</td>\n",
       "      <td>0.0</td>\n",
       "      <td>0.0</td>\n",
       "      <td>0.0</td>\n",
       "      <td>0.0</td>\n",
       "      <td>0.0</td>\n",
       "      <td>...</td>\n",
       "      <td>0.0</td>\n",
       "      <td>0.0</td>\n",
       "      <td>0.0</td>\n",
       "      <td>0.0</td>\n",
       "      <td>0.0</td>\n",
       "      <td>0.0</td>\n",
       "      <td>0.0</td>\n",
       "      <td>0.0</td>\n",
       "      <td>0.0</td>\n",
       "      <td>0.0</td>\n",
       "    </tr>\n",
       "    <tr>\n",
       "      <th>1</th>\n",
       "      <td>0.0</td>\n",
       "      <td>0.0</td>\n",
       "      <td>0.0</td>\n",
       "      <td>0.0</td>\n",
       "      <td>0.0</td>\n",
       "      <td>0.0</td>\n",
       "      <td>0.0</td>\n",
       "      <td>0.0</td>\n",
       "      <td>0.0</td>\n",
       "      <td>0.0</td>\n",
       "      <td>...</td>\n",
       "      <td>0.0</td>\n",
       "      <td>0.0</td>\n",
       "      <td>0.0</td>\n",
       "      <td>0.0</td>\n",
       "      <td>0.0</td>\n",
       "      <td>0.0</td>\n",
       "      <td>0.0</td>\n",
       "      <td>0.0</td>\n",
       "      <td>0.0</td>\n",
       "      <td>0.0</td>\n",
       "    </tr>\n",
       "    <tr>\n",
       "      <th>2</th>\n",
       "      <td>0.0</td>\n",
       "      <td>0.0</td>\n",
       "      <td>0.0</td>\n",
       "      <td>0.0</td>\n",
       "      <td>0.0</td>\n",
       "      <td>0.0</td>\n",
       "      <td>0.0</td>\n",
       "      <td>0.0</td>\n",
       "      <td>0.0</td>\n",
       "      <td>0.0</td>\n",
       "      <td>...</td>\n",
       "      <td>0.0</td>\n",
       "      <td>0.0</td>\n",
       "      <td>0.0</td>\n",
       "      <td>0.0</td>\n",
       "      <td>0.0</td>\n",
       "      <td>0.0</td>\n",
       "      <td>0.0</td>\n",
       "      <td>0.0</td>\n",
       "      <td>0.0</td>\n",
       "      <td>0.0</td>\n",
       "    </tr>\n",
       "    <tr>\n",
       "      <th>3</th>\n",
       "      <td>0.0</td>\n",
       "      <td>0.0</td>\n",
       "      <td>0.0</td>\n",
       "      <td>0.0</td>\n",
       "      <td>0.0</td>\n",
       "      <td>0.0</td>\n",
       "      <td>0.0</td>\n",
       "      <td>0.0</td>\n",
       "      <td>0.0</td>\n",
       "      <td>0.0</td>\n",
       "      <td>...</td>\n",
       "      <td>0.0</td>\n",
       "      <td>0.0</td>\n",
       "      <td>0.0</td>\n",
       "      <td>0.0</td>\n",
       "      <td>0.0</td>\n",
       "      <td>0.0</td>\n",
       "      <td>0.0</td>\n",
       "      <td>0.0</td>\n",
       "      <td>0.0</td>\n",
       "      <td>0.0</td>\n",
       "    </tr>\n",
       "    <tr>\n",
       "      <th>4</th>\n",
       "      <td>0.0</td>\n",
       "      <td>0.0</td>\n",
       "      <td>0.0</td>\n",
       "      <td>0.0</td>\n",
       "      <td>0.0</td>\n",
       "      <td>0.0</td>\n",
       "      <td>0.0</td>\n",
       "      <td>0.0</td>\n",
       "      <td>0.0</td>\n",
       "      <td>0.0</td>\n",
       "      <td>...</td>\n",
       "      <td>0.0</td>\n",
       "      <td>0.0</td>\n",
       "      <td>0.0</td>\n",
       "      <td>0.0</td>\n",
       "      <td>0.0</td>\n",
       "      <td>0.0</td>\n",
       "      <td>0.0</td>\n",
       "      <td>0.0</td>\n",
       "      <td>0.0</td>\n",
       "      <td>0.0</td>\n",
       "    </tr>\n",
       "    <tr>\n",
       "      <th>5</th>\n",
       "      <td>0.0</td>\n",
       "      <td>0.0</td>\n",
       "      <td>0.0</td>\n",
       "      <td>0.0</td>\n",
       "      <td>0.0</td>\n",
       "      <td>0.0</td>\n",
       "      <td>0.0</td>\n",
       "      <td>0.0</td>\n",
       "      <td>0.0</td>\n",
       "      <td>0.0</td>\n",
       "      <td>...</td>\n",
       "      <td>0.0</td>\n",
       "      <td>0.0</td>\n",
       "      <td>0.0</td>\n",
       "      <td>0.0</td>\n",
       "      <td>0.0</td>\n",
       "      <td>0.0</td>\n",
       "      <td>0.0</td>\n",
       "      <td>0.0</td>\n",
       "      <td>0.0</td>\n",
       "      <td>0.0</td>\n",
       "    </tr>\n",
       "    <tr>\n",
       "      <th>6</th>\n",
       "      <td>0.0</td>\n",
       "      <td>0.0</td>\n",
       "      <td>0.0</td>\n",
       "      <td>0.0</td>\n",
       "      <td>0.0</td>\n",
       "      <td>0.0</td>\n",
       "      <td>0.0</td>\n",
       "      <td>0.0</td>\n",
       "      <td>0.0</td>\n",
       "      <td>0.0</td>\n",
       "      <td>...</td>\n",
       "      <td>0.0</td>\n",
       "      <td>0.0</td>\n",
       "      <td>0.0</td>\n",
       "      <td>0.0</td>\n",
       "      <td>0.0</td>\n",
       "      <td>0.0</td>\n",
       "      <td>0.0</td>\n",
       "      <td>0.0</td>\n",
       "      <td>0.0</td>\n",
       "      <td>0.0</td>\n",
       "    </tr>\n",
       "    <tr>\n",
       "      <th>7</th>\n",
       "      <td>0.0</td>\n",
       "      <td>0.0</td>\n",
       "      <td>0.0</td>\n",
       "      <td>0.0</td>\n",
       "      <td>0.0</td>\n",
       "      <td>0.0</td>\n",
       "      <td>0.0</td>\n",
       "      <td>0.0</td>\n",
       "      <td>0.0</td>\n",
       "      <td>0.0</td>\n",
       "      <td>...</td>\n",
       "      <td>0.0</td>\n",
       "      <td>0.0</td>\n",
       "      <td>0.0</td>\n",
       "      <td>0.0</td>\n",
       "      <td>0.0</td>\n",
       "      <td>0.0</td>\n",
       "      <td>0.0</td>\n",
       "      <td>0.0</td>\n",
       "      <td>0.0</td>\n",
       "      <td>0.0</td>\n",
       "    </tr>\n",
       "    <tr>\n",
       "      <th>8</th>\n",
       "      <td>0.0</td>\n",
       "      <td>0.0</td>\n",
       "      <td>0.0</td>\n",
       "      <td>0.0</td>\n",
       "      <td>0.0</td>\n",
       "      <td>0.0</td>\n",
       "      <td>0.0</td>\n",
       "      <td>0.0</td>\n",
       "      <td>0.0</td>\n",
       "      <td>0.0</td>\n",
       "      <td>...</td>\n",
       "      <td>0.0</td>\n",
       "      <td>0.0</td>\n",
       "      <td>0.0</td>\n",
       "      <td>0.0</td>\n",
       "      <td>0.0</td>\n",
       "      <td>0.0</td>\n",
       "      <td>0.0</td>\n",
       "      <td>0.0</td>\n",
       "      <td>0.0</td>\n",
       "      <td>0.0</td>\n",
       "    </tr>\n",
       "    <tr>\n",
       "      <th>9</th>\n",
       "      <td>0.0</td>\n",
       "      <td>0.0</td>\n",
       "      <td>0.0</td>\n",
       "      <td>0.0</td>\n",
       "      <td>0.0</td>\n",
       "      <td>0.0</td>\n",
       "      <td>0.0</td>\n",
       "      <td>0.0</td>\n",
       "      <td>0.0</td>\n",
       "      <td>0.0</td>\n",
       "      <td>...</td>\n",
       "      <td>0.0</td>\n",
       "      <td>0.0</td>\n",
       "      <td>0.0</td>\n",
       "      <td>0.0</td>\n",
       "      <td>0.0</td>\n",
       "      <td>0.0</td>\n",
       "      <td>0.0</td>\n",
       "      <td>0.0</td>\n",
       "      <td>0.0</td>\n",
       "      <td>0.0</td>\n",
       "    </tr>\n",
       "    <tr>\n",
       "      <th>10</th>\n",
       "      <td>0.0</td>\n",
       "      <td>0.0</td>\n",
       "      <td>0.0</td>\n",
       "      <td>0.0</td>\n",
       "      <td>0.0</td>\n",
       "      <td>0.0</td>\n",
       "      <td>0.0</td>\n",
       "      <td>0.0</td>\n",
       "      <td>0.0</td>\n",
       "      <td>0.0</td>\n",
       "      <td>...</td>\n",
       "      <td>0.0</td>\n",
       "      <td>0.0</td>\n",
       "      <td>0.0</td>\n",
       "      <td>0.0</td>\n",
       "      <td>0.0</td>\n",
       "      <td>0.0</td>\n",
       "      <td>0.0</td>\n",
       "      <td>0.0</td>\n",
       "      <td>0.0</td>\n",
       "      <td>0.0</td>\n",
       "    </tr>\n",
       "    <tr>\n",
       "      <th>11</th>\n",
       "      <td>0.0</td>\n",
       "      <td>0.0</td>\n",
       "      <td>0.0</td>\n",
       "      <td>0.0</td>\n",
       "      <td>0.0</td>\n",
       "      <td>0.0</td>\n",
       "      <td>0.0</td>\n",
       "      <td>0.0</td>\n",
       "      <td>0.0</td>\n",
       "      <td>0.0</td>\n",
       "      <td>...</td>\n",
       "      <td>0.0</td>\n",
       "      <td>0.0</td>\n",
       "      <td>0.0</td>\n",
       "      <td>0.0</td>\n",
       "      <td>0.0</td>\n",
       "      <td>0.0</td>\n",
       "      <td>0.0</td>\n",
       "      <td>0.0</td>\n",
       "      <td>0.0</td>\n",
       "      <td>0.0</td>\n",
       "    </tr>\n",
       "    <tr>\n",
       "      <th>12</th>\n",
       "      <td>0.0</td>\n",
       "      <td>0.0</td>\n",
       "      <td>0.0</td>\n",
       "      <td>0.0</td>\n",
       "      <td>0.0</td>\n",
       "      <td>0.0</td>\n",
       "      <td>0.0</td>\n",
       "      <td>0.0</td>\n",
       "      <td>0.0</td>\n",
       "      <td>0.0</td>\n",
       "      <td>...</td>\n",
       "      <td>0.0</td>\n",
       "      <td>0.0</td>\n",
       "      <td>0.0</td>\n",
       "      <td>0.0</td>\n",
       "      <td>0.0</td>\n",
       "      <td>0.0</td>\n",
       "      <td>0.0</td>\n",
       "      <td>0.0</td>\n",
       "      <td>0.0</td>\n",
       "      <td>0.0</td>\n",
       "    </tr>\n",
       "    <tr>\n",
       "      <th>13</th>\n",
       "      <td>0.0</td>\n",
       "      <td>0.0</td>\n",
       "      <td>0.0</td>\n",
       "      <td>0.0</td>\n",
       "      <td>0.0</td>\n",
       "      <td>0.0</td>\n",
       "      <td>0.0</td>\n",
       "      <td>0.0</td>\n",
       "      <td>0.0</td>\n",
       "      <td>0.0</td>\n",
       "      <td>...</td>\n",
       "      <td>0.0</td>\n",
       "      <td>0.0</td>\n",
       "      <td>0.0</td>\n",
       "      <td>0.0</td>\n",
       "      <td>0.0</td>\n",
       "      <td>0.0</td>\n",
       "      <td>0.0</td>\n",
       "      <td>0.0</td>\n",
       "      <td>0.0</td>\n",
       "      <td>0.0</td>\n",
       "    </tr>\n",
       "    <tr>\n",
       "      <th>14</th>\n",
       "      <td>0.0</td>\n",
       "      <td>0.0</td>\n",
       "      <td>0.0</td>\n",
       "      <td>0.0</td>\n",
       "      <td>0.0</td>\n",
       "      <td>0.0</td>\n",
       "      <td>0.0</td>\n",
       "      <td>0.0</td>\n",
       "      <td>0.0</td>\n",
       "      <td>0.0</td>\n",
       "      <td>...</td>\n",
       "      <td>0.0</td>\n",
       "      <td>0.0</td>\n",
       "      <td>0.0</td>\n",
       "      <td>0.0</td>\n",
       "      <td>0.0</td>\n",
       "      <td>0.0</td>\n",
       "      <td>0.0</td>\n",
       "      <td>0.0</td>\n",
       "      <td>0.0</td>\n",
       "      <td>0.0</td>\n",
       "    </tr>\n",
       "    <tr>\n",
       "      <th>15</th>\n",
       "      <td>0.0</td>\n",
       "      <td>0.0</td>\n",
       "      <td>0.0</td>\n",
       "      <td>0.0</td>\n",
       "      <td>0.0</td>\n",
       "      <td>0.0</td>\n",
       "      <td>0.0</td>\n",
       "      <td>0.0</td>\n",
       "      <td>0.0</td>\n",
       "      <td>0.0</td>\n",
       "      <td>...</td>\n",
       "      <td>0.0</td>\n",
       "      <td>0.0</td>\n",
       "      <td>0.0</td>\n",
       "      <td>0.0</td>\n",
       "      <td>0.0</td>\n",
       "      <td>0.0</td>\n",
       "      <td>0.0</td>\n",
       "      <td>0.0</td>\n",
       "      <td>0.0</td>\n",
       "      <td>0.0</td>\n",
       "    </tr>\n",
       "    <tr>\n",
       "      <th>16</th>\n",
       "      <td>0.0</td>\n",
       "      <td>0.0</td>\n",
       "      <td>0.0</td>\n",
       "      <td>0.0</td>\n",
       "      <td>0.0</td>\n",
       "      <td>0.0</td>\n",
       "      <td>0.0</td>\n",
       "      <td>0.0</td>\n",
       "      <td>0.0</td>\n",
       "      <td>0.0</td>\n",
       "      <td>...</td>\n",
       "      <td>0.0</td>\n",
       "      <td>0.0</td>\n",
       "      <td>0.0</td>\n",
       "      <td>0.0</td>\n",
       "      <td>0.0</td>\n",
       "      <td>0.0</td>\n",
       "      <td>0.0</td>\n",
       "      <td>0.0</td>\n",
       "      <td>0.0</td>\n",
       "      <td>0.0</td>\n",
       "    </tr>\n",
       "    <tr>\n",
       "      <th>17</th>\n",
       "      <td>0.0</td>\n",
       "      <td>0.0</td>\n",
       "      <td>0.0</td>\n",
       "      <td>0.0</td>\n",
       "      <td>0.0</td>\n",
       "      <td>0.0</td>\n",
       "      <td>0.0</td>\n",
       "      <td>0.0</td>\n",
       "      <td>0.0</td>\n",
       "      <td>0.0</td>\n",
       "      <td>...</td>\n",
       "      <td>0.0</td>\n",
       "      <td>0.0</td>\n",
       "      <td>0.0</td>\n",
       "      <td>0.0</td>\n",
       "      <td>0.0</td>\n",
       "      <td>0.0</td>\n",
       "      <td>0.0</td>\n",
       "      <td>0.0</td>\n",
       "      <td>0.0</td>\n",
       "      <td>0.0</td>\n",
       "    </tr>\n",
       "    <tr>\n",
       "      <th>18</th>\n",
       "      <td>0.0</td>\n",
       "      <td>0.0</td>\n",
       "      <td>0.0</td>\n",
       "      <td>0.0</td>\n",
       "      <td>0.0</td>\n",
       "      <td>0.0</td>\n",
       "      <td>0.0</td>\n",
       "      <td>0.0</td>\n",
       "      <td>0.0</td>\n",
       "      <td>0.0</td>\n",
       "      <td>...</td>\n",
       "      <td>0.0</td>\n",
       "      <td>0.0</td>\n",
       "      <td>0.0</td>\n",
       "      <td>0.0</td>\n",
       "      <td>0.0</td>\n",
       "      <td>0.0</td>\n",
       "      <td>0.0</td>\n",
       "      <td>0.0</td>\n",
       "      <td>0.0</td>\n",
       "      <td>0.0</td>\n",
       "    </tr>\n",
       "    <tr>\n",
       "      <th>19</th>\n",
       "      <td>0.0</td>\n",
       "      <td>0.0</td>\n",
       "      <td>0.0</td>\n",
       "      <td>0.0</td>\n",
       "      <td>0.0</td>\n",
       "      <td>0.0</td>\n",
       "      <td>0.0</td>\n",
       "      <td>0.0</td>\n",
       "      <td>0.0</td>\n",
       "      <td>0.0</td>\n",
       "      <td>...</td>\n",
       "      <td>0.0</td>\n",
       "      <td>0.0</td>\n",
       "      <td>0.0</td>\n",
       "      <td>0.0</td>\n",
       "      <td>0.0</td>\n",
       "      <td>0.0</td>\n",
       "      <td>0.0</td>\n",
       "      <td>0.0</td>\n",
       "      <td>0.0</td>\n",
       "      <td>0.0</td>\n",
       "    </tr>\n",
       "  </tbody>\n",
       "</table>\n",
       "<p>20 rows × 784 columns</p>\n",
       "</div>"
      ],
      "text/plain": [
       "    pixel0  pixel1  pixel2  pixel3  pixel4  pixel5  pixel6  pixel7  pixel8  \\\n",
       "0      0.0     0.0     0.0     0.0     0.0     0.0     0.0     0.0     0.0   \n",
       "1      0.0     0.0     0.0     0.0     0.0     0.0     0.0     0.0     0.0   \n",
       "2      0.0     0.0     0.0     0.0     0.0     0.0     0.0     0.0     0.0   \n",
       "3      0.0     0.0     0.0     0.0     0.0     0.0     0.0     0.0     0.0   \n",
       "4      0.0     0.0     0.0     0.0     0.0     0.0     0.0     0.0     0.0   \n",
       "5      0.0     0.0     0.0     0.0     0.0     0.0     0.0     0.0     0.0   \n",
       "6      0.0     0.0     0.0     0.0     0.0     0.0     0.0     0.0     0.0   \n",
       "7      0.0     0.0     0.0     0.0     0.0     0.0     0.0     0.0     0.0   \n",
       "8      0.0     0.0     0.0     0.0     0.0     0.0     0.0     0.0     0.0   \n",
       "9      0.0     0.0     0.0     0.0     0.0     0.0     0.0     0.0     0.0   \n",
       "10     0.0     0.0     0.0     0.0     0.0     0.0     0.0     0.0     0.0   \n",
       "11     0.0     0.0     0.0     0.0     0.0     0.0     0.0     0.0     0.0   \n",
       "12     0.0     0.0     0.0     0.0     0.0     0.0     0.0     0.0     0.0   \n",
       "13     0.0     0.0     0.0     0.0     0.0     0.0     0.0     0.0     0.0   \n",
       "14     0.0     0.0     0.0     0.0     0.0     0.0     0.0     0.0     0.0   \n",
       "15     0.0     0.0     0.0     0.0     0.0     0.0     0.0     0.0     0.0   \n",
       "16     0.0     0.0     0.0     0.0     0.0     0.0     0.0     0.0     0.0   \n",
       "17     0.0     0.0     0.0     0.0     0.0     0.0     0.0     0.0     0.0   \n",
       "18     0.0     0.0     0.0     0.0     0.0     0.0     0.0     0.0     0.0   \n",
       "19     0.0     0.0     0.0     0.0     0.0     0.0     0.0     0.0     0.0   \n",
       "\n",
       "    pixel9  ...  pixel774  pixel775  pixel776  pixel777  pixel778  pixel779  \\\n",
       "0      0.0  ...       0.0       0.0       0.0       0.0       0.0       0.0   \n",
       "1      0.0  ...       0.0       0.0       0.0       0.0       0.0       0.0   \n",
       "2      0.0  ...       0.0       0.0       0.0       0.0       0.0       0.0   \n",
       "3      0.0  ...       0.0       0.0       0.0       0.0       0.0       0.0   \n",
       "4      0.0  ...       0.0       0.0       0.0       0.0       0.0       0.0   \n",
       "5      0.0  ...       0.0       0.0       0.0       0.0       0.0       0.0   \n",
       "6      0.0  ...       0.0       0.0       0.0       0.0       0.0       0.0   \n",
       "7      0.0  ...       0.0       0.0       0.0       0.0       0.0       0.0   \n",
       "8      0.0  ...       0.0       0.0       0.0       0.0       0.0       0.0   \n",
       "9      0.0  ...       0.0       0.0       0.0       0.0       0.0       0.0   \n",
       "10     0.0  ...       0.0       0.0       0.0       0.0       0.0       0.0   \n",
       "11     0.0  ...       0.0       0.0       0.0       0.0       0.0       0.0   \n",
       "12     0.0  ...       0.0       0.0       0.0       0.0       0.0       0.0   \n",
       "13     0.0  ...       0.0       0.0       0.0       0.0       0.0       0.0   \n",
       "14     0.0  ...       0.0       0.0       0.0       0.0       0.0       0.0   \n",
       "15     0.0  ...       0.0       0.0       0.0       0.0       0.0       0.0   \n",
       "16     0.0  ...       0.0       0.0       0.0       0.0       0.0       0.0   \n",
       "17     0.0  ...       0.0       0.0       0.0       0.0       0.0       0.0   \n",
       "18     0.0  ...       0.0       0.0       0.0       0.0       0.0       0.0   \n",
       "19     0.0  ...       0.0       0.0       0.0       0.0       0.0       0.0   \n",
       "\n",
       "    pixel780  pixel781  pixel782  pixel783  \n",
       "0        0.0       0.0       0.0       0.0  \n",
       "1        0.0       0.0       0.0       0.0  \n",
       "2        0.0       0.0       0.0       0.0  \n",
       "3        0.0       0.0       0.0       0.0  \n",
       "4        0.0       0.0       0.0       0.0  \n",
       "5        0.0       0.0       0.0       0.0  \n",
       "6        0.0       0.0       0.0       0.0  \n",
       "7        0.0       0.0       0.0       0.0  \n",
       "8        0.0       0.0       0.0       0.0  \n",
       "9        0.0       0.0       0.0       0.0  \n",
       "10       0.0       0.0       0.0       0.0  \n",
       "11       0.0       0.0       0.0       0.0  \n",
       "12       0.0       0.0       0.0       0.0  \n",
       "13       0.0       0.0       0.0       0.0  \n",
       "14       0.0       0.0       0.0       0.0  \n",
       "15       0.0       0.0       0.0       0.0  \n",
       "16       0.0       0.0       0.0       0.0  \n",
       "17       0.0       0.0       0.0       0.0  \n",
       "18       0.0       0.0       0.0       0.0  \n",
       "19       0.0       0.0       0.0       0.0  \n",
       "\n",
       "[20 rows x 784 columns]"
      ]
     },
     "execution_count": 9,
     "metadata": {},
     "output_type": "execute_result"
    }
   ],
   "source": [
    "nn_training_scaled_df.describe()\n",
    "nn_training_scaled_df.shape\n",
    "nn_training_scaled_df.head(20)"
   ]
  },
  {
   "cell_type": "markdown",
   "metadata": {},
   "source": [
    "Repeat Scaling for test data:"
   ]
  },
  {
   "cell_type": "code",
   "execution_count": 10,
   "metadata": {},
   "outputs": [
    {
     "data": {
      "text/plain": [
       "MinMaxScaler()"
      ]
     },
     "execution_count": 10,
     "metadata": {},
     "output_type": "execute_result"
    }
   ],
   "source": [
    "# Create a copy of the training dataframe\n",
    "nn_test_df = digit_testing_data.copy(deep=True)\n",
    "\n",
    "sc = MinMaxScaler() #Initialize scaling of data\n",
    "\n",
    "nn_test_x = nn_test_df #set df without label as x\n",
    "\n",
    "sc.fit(nn_test_x)\n",
    "normalized = sc.transform(nn_test_x)\n",
    "\n",
    "# Convert scaled data from numpy array into dataframe\n",
    "nn_test_features = list(nn_test_df.columns.values)\n",
    "nn_test_scaled_df = pd.DataFrame(normalized, columns=nn_test_features)"
   ]
  },
  {
   "cell_type": "code",
   "execution_count": 11,
   "metadata": {},
   "outputs": [
    {
     "data": {
      "text/html": [
       "<div>\n",
       "<style scoped>\n",
       "    .dataframe tbody tr th:only-of-type {\n",
       "        vertical-align: middle;\n",
       "    }\n",
       "\n",
       "    .dataframe tbody tr th {\n",
       "        vertical-align: top;\n",
       "    }\n",
       "\n",
       "    .dataframe thead th {\n",
       "        text-align: right;\n",
       "    }\n",
       "</style>\n",
       "<table border=\"1\" class=\"dataframe\">\n",
       "  <thead>\n",
       "    <tr style=\"text-align: right;\">\n",
       "      <th></th>\n",
       "      <th>pixel0</th>\n",
       "      <th>pixel1</th>\n",
       "      <th>pixel2</th>\n",
       "      <th>pixel3</th>\n",
       "      <th>pixel4</th>\n",
       "      <th>pixel5</th>\n",
       "      <th>pixel6</th>\n",
       "      <th>pixel7</th>\n",
       "      <th>pixel8</th>\n",
       "      <th>pixel9</th>\n",
       "      <th>...</th>\n",
       "      <th>pixel774</th>\n",
       "      <th>pixel775</th>\n",
       "      <th>pixel776</th>\n",
       "      <th>pixel777</th>\n",
       "      <th>pixel778</th>\n",
       "      <th>pixel779</th>\n",
       "      <th>pixel780</th>\n",
       "      <th>pixel781</th>\n",
       "      <th>pixel782</th>\n",
       "      <th>pixel783</th>\n",
       "    </tr>\n",
       "  </thead>\n",
       "  <tbody>\n",
       "    <tr>\n",
       "      <th>count</th>\n",
       "      <td>28000.0</td>\n",
       "      <td>28000.0</td>\n",
       "      <td>28000.0</td>\n",
       "      <td>28000.0</td>\n",
       "      <td>28000.0</td>\n",
       "      <td>28000.0</td>\n",
       "      <td>28000.0</td>\n",
       "      <td>28000.0</td>\n",
       "      <td>28000.0</td>\n",
       "      <td>28000.0</td>\n",
       "      <td>...</td>\n",
       "      <td>28000.000000</td>\n",
       "      <td>28000.000000</td>\n",
       "      <td>28000.000000</td>\n",
       "      <td>28000.000000</td>\n",
       "      <td>28000.000000</td>\n",
       "      <td>28000.0</td>\n",
       "      <td>28000.0</td>\n",
       "      <td>28000.0</td>\n",
       "      <td>28000.0</td>\n",
       "      <td>28000.0</td>\n",
       "    </tr>\n",
       "    <tr>\n",
       "      <th>mean</th>\n",
       "      <td>0.0</td>\n",
       "      <td>0.0</td>\n",
       "      <td>0.0</td>\n",
       "      <td>0.0</td>\n",
       "      <td>0.0</td>\n",
       "      <td>0.0</td>\n",
       "      <td>0.0</td>\n",
       "      <td>0.0</td>\n",
       "      <td>0.0</td>\n",
       "      <td>0.0</td>\n",
       "      <td>...</td>\n",
       "      <td>0.000651</td>\n",
       "      <td>0.000288</td>\n",
       "      <td>0.000145</td>\n",
       "      <td>0.000060</td>\n",
       "      <td>0.000055</td>\n",
       "      <td>0.0</td>\n",
       "      <td>0.0</td>\n",
       "      <td>0.0</td>\n",
       "      <td>0.0</td>\n",
       "      <td>0.0</td>\n",
       "    </tr>\n",
       "    <tr>\n",
       "      <th>std</th>\n",
       "      <td>0.0</td>\n",
       "      <td>0.0</td>\n",
       "      <td>0.0</td>\n",
       "      <td>0.0</td>\n",
       "      <td>0.0</td>\n",
       "      <td>0.0</td>\n",
       "      <td>0.0</td>\n",
       "      <td>0.0</td>\n",
       "      <td>0.0</td>\n",
       "      <td>0.0</td>\n",
       "      <td>...</td>\n",
       "      <td>0.021634</td>\n",
       "      <td>0.014239</td>\n",
       "      <td>0.009397</td>\n",
       "      <td>0.006445</td>\n",
       "      <td>0.006786</td>\n",
       "      <td>0.0</td>\n",
       "      <td>0.0</td>\n",
       "      <td>0.0</td>\n",
       "      <td>0.0</td>\n",
       "      <td>0.0</td>\n",
       "    </tr>\n",
       "    <tr>\n",
       "      <th>min</th>\n",
       "      <td>0.0</td>\n",
       "      <td>0.0</td>\n",
       "      <td>0.0</td>\n",
       "      <td>0.0</td>\n",
       "      <td>0.0</td>\n",
       "      <td>0.0</td>\n",
       "      <td>0.0</td>\n",
       "      <td>0.0</td>\n",
       "      <td>0.0</td>\n",
       "      <td>0.0</td>\n",
       "      <td>...</td>\n",
       "      <td>0.000000</td>\n",
       "      <td>0.000000</td>\n",
       "      <td>0.000000</td>\n",
       "      <td>0.000000</td>\n",
       "      <td>0.000000</td>\n",
       "      <td>0.0</td>\n",
       "      <td>0.0</td>\n",
       "      <td>0.0</td>\n",
       "      <td>0.0</td>\n",
       "      <td>0.0</td>\n",
       "    </tr>\n",
       "    <tr>\n",
       "      <th>25%</th>\n",
       "      <td>0.0</td>\n",
       "      <td>0.0</td>\n",
       "      <td>0.0</td>\n",
       "      <td>0.0</td>\n",
       "      <td>0.0</td>\n",
       "      <td>0.0</td>\n",
       "      <td>0.0</td>\n",
       "      <td>0.0</td>\n",
       "      <td>0.0</td>\n",
       "      <td>0.0</td>\n",
       "      <td>...</td>\n",
       "      <td>0.000000</td>\n",
       "      <td>0.000000</td>\n",
       "      <td>0.000000</td>\n",
       "      <td>0.000000</td>\n",
       "      <td>0.000000</td>\n",
       "      <td>0.0</td>\n",
       "      <td>0.0</td>\n",
       "      <td>0.0</td>\n",
       "      <td>0.0</td>\n",
       "      <td>0.0</td>\n",
       "    </tr>\n",
       "    <tr>\n",
       "      <th>50%</th>\n",
       "      <td>0.0</td>\n",
       "      <td>0.0</td>\n",
       "      <td>0.0</td>\n",
       "      <td>0.0</td>\n",
       "      <td>0.0</td>\n",
       "      <td>0.0</td>\n",
       "      <td>0.0</td>\n",
       "      <td>0.0</td>\n",
       "      <td>0.0</td>\n",
       "      <td>0.0</td>\n",
       "      <td>...</td>\n",
       "      <td>0.000000</td>\n",
       "      <td>0.000000</td>\n",
       "      <td>0.000000</td>\n",
       "      <td>0.000000</td>\n",
       "      <td>0.000000</td>\n",
       "      <td>0.0</td>\n",
       "      <td>0.0</td>\n",
       "      <td>0.0</td>\n",
       "      <td>0.0</td>\n",
       "      <td>0.0</td>\n",
       "    </tr>\n",
       "    <tr>\n",
       "      <th>75%</th>\n",
       "      <td>0.0</td>\n",
       "      <td>0.0</td>\n",
       "      <td>0.0</td>\n",
       "      <td>0.0</td>\n",
       "      <td>0.0</td>\n",
       "      <td>0.0</td>\n",
       "      <td>0.0</td>\n",
       "      <td>0.0</td>\n",
       "      <td>0.0</td>\n",
       "      <td>0.0</td>\n",
       "      <td>...</td>\n",
       "      <td>0.000000</td>\n",
       "      <td>0.000000</td>\n",
       "      <td>0.000000</td>\n",
       "      <td>0.000000</td>\n",
       "      <td>0.000000</td>\n",
       "      <td>0.0</td>\n",
       "      <td>0.0</td>\n",
       "      <td>0.0</td>\n",
       "      <td>0.0</td>\n",
       "      <td>0.0</td>\n",
       "    </tr>\n",
       "    <tr>\n",
       "      <th>max</th>\n",
       "      <td>0.0</td>\n",
       "      <td>0.0</td>\n",
       "      <td>0.0</td>\n",
       "      <td>0.0</td>\n",
       "      <td>0.0</td>\n",
       "      <td>0.0</td>\n",
       "      <td>0.0</td>\n",
       "      <td>0.0</td>\n",
       "      <td>0.0</td>\n",
       "      <td>0.0</td>\n",
       "      <td>...</td>\n",
       "      <td>1.000000</td>\n",
       "      <td>1.000000</td>\n",
       "      <td>1.000000</td>\n",
       "      <td>1.000000</td>\n",
       "      <td>1.000000</td>\n",
       "      <td>0.0</td>\n",
       "      <td>0.0</td>\n",
       "      <td>0.0</td>\n",
       "      <td>0.0</td>\n",
       "      <td>0.0</td>\n",
       "    </tr>\n",
       "  </tbody>\n",
       "</table>\n",
       "<p>8 rows × 784 columns</p>\n",
       "</div>"
      ],
      "text/plain": [
       "        pixel0   pixel1   pixel2   pixel3   pixel4   pixel5   pixel6   pixel7  \\\n",
       "count  28000.0  28000.0  28000.0  28000.0  28000.0  28000.0  28000.0  28000.0   \n",
       "mean       0.0      0.0      0.0      0.0      0.0      0.0      0.0      0.0   \n",
       "std        0.0      0.0      0.0      0.0      0.0      0.0      0.0      0.0   \n",
       "min        0.0      0.0      0.0      0.0      0.0      0.0      0.0      0.0   \n",
       "25%        0.0      0.0      0.0      0.0      0.0      0.0      0.0      0.0   \n",
       "50%        0.0      0.0      0.0      0.0      0.0      0.0      0.0      0.0   \n",
       "75%        0.0      0.0      0.0      0.0      0.0      0.0      0.0      0.0   \n",
       "max        0.0      0.0      0.0      0.0      0.0      0.0      0.0      0.0   \n",
       "\n",
       "        pixel8   pixel9  ...      pixel774      pixel775      pixel776  \\\n",
       "count  28000.0  28000.0  ...  28000.000000  28000.000000  28000.000000   \n",
       "mean       0.0      0.0  ...      0.000651      0.000288      0.000145   \n",
       "std        0.0      0.0  ...      0.021634      0.014239      0.009397   \n",
       "min        0.0      0.0  ...      0.000000      0.000000      0.000000   \n",
       "25%        0.0      0.0  ...      0.000000      0.000000      0.000000   \n",
       "50%        0.0      0.0  ...      0.000000      0.000000      0.000000   \n",
       "75%        0.0      0.0  ...      0.000000      0.000000      0.000000   \n",
       "max        0.0      0.0  ...      1.000000      1.000000      1.000000   \n",
       "\n",
       "           pixel777      pixel778  pixel779  pixel780  pixel781  pixel782  \\\n",
       "count  28000.000000  28000.000000   28000.0   28000.0   28000.0   28000.0   \n",
       "mean       0.000060      0.000055       0.0       0.0       0.0       0.0   \n",
       "std        0.006445      0.006786       0.0       0.0       0.0       0.0   \n",
       "min        0.000000      0.000000       0.0       0.0       0.0       0.0   \n",
       "25%        0.000000      0.000000       0.0       0.0       0.0       0.0   \n",
       "50%        0.000000      0.000000       0.0       0.0       0.0       0.0   \n",
       "75%        0.000000      0.000000       0.0       0.0       0.0       0.0   \n",
       "max        1.000000      1.000000       0.0       0.0       0.0       0.0   \n",
       "\n",
       "       pixel783  \n",
       "count   28000.0  \n",
       "mean        0.0  \n",
       "std         0.0  \n",
       "min         0.0  \n",
       "25%         0.0  \n",
       "50%         0.0  \n",
       "75%         0.0  \n",
       "max         0.0  \n",
       "\n",
       "[8 rows x 784 columns]"
      ]
     },
     "execution_count": 11,
     "metadata": {},
     "output_type": "execute_result"
    },
    {
     "data": {
      "text/plain": [
       "(28000, 784)"
      ]
     },
     "execution_count": 11,
     "metadata": {},
     "output_type": "execute_result"
    },
    {
     "data": {
      "text/html": [
       "<div>\n",
       "<style scoped>\n",
       "    .dataframe tbody tr th:only-of-type {\n",
       "        vertical-align: middle;\n",
       "    }\n",
       "\n",
       "    .dataframe tbody tr th {\n",
       "        vertical-align: top;\n",
       "    }\n",
       "\n",
       "    .dataframe thead th {\n",
       "        text-align: right;\n",
       "    }\n",
       "</style>\n",
       "<table border=\"1\" class=\"dataframe\">\n",
       "  <thead>\n",
       "    <tr style=\"text-align: right;\">\n",
       "      <th></th>\n",
       "      <th>pixel0</th>\n",
       "      <th>pixel1</th>\n",
       "      <th>pixel2</th>\n",
       "      <th>pixel3</th>\n",
       "      <th>pixel4</th>\n",
       "      <th>pixel5</th>\n",
       "      <th>pixel6</th>\n",
       "      <th>pixel7</th>\n",
       "      <th>pixel8</th>\n",
       "      <th>pixel9</th>\n",
       "      <th>...</th>\n",
       "      <th>pixel774</th>\n",
       "      <th>pixel775</th>\n",
       "      <th>pixel776</th>\n",
       "      <th>pixel777</th>\n",
       "      <th>pixel778</th>\n",
       "      <th>pixel779</th>\n",
       "      <th>pixel780</th>\n",
       "      <th>pixel781</th>\n",
       "      <th>pixel782</th>\n",
       "      <th>pixel783</th>\n",
       "    </tr>\n",
       "  </thead>\n",
       "  <tbody>\n",
       "    <tr>\n",
       "      <th>0</th>\n",
       "      <td>0.0</td>\n",
       "      <td>0.0</td>\n",
       "      <td>0.0</td>\n",
       "      <td>0.0</td>\n",
       "      <td>0.0</td>\n",
       "      <td>0.0</td>\n",
       "      <td>0.0</td>\n",
       "      <td>0.0</td>\n",
       "      <td>0.0</td>\n",
       "      <td>0.0</td>\n",
       "      <td>...</td>\n",
       "      <td>0.0</td>\n",
       "      <td>0.0</td>\n",
       "      <td>0.0</td>\n",
       "      <td>0.0</td>\n",
       "      <td>0.0</td>\n",
       "      <td>0.0</td>\n",
       "      <td>0.0</td>\n",
       "      <td>0.0</td>\n",
       "      <td>0.0</td>\n",
       "      <td>0.0</td>\n",
       "    </tr>\n",
       "    <tr>\n",
       "      <th>1</th>\n",
       "      <td>0.0</td>\n",
       "      <td>0.0</td>\n",
       "      <td>0.0</td>\n",
       "      <td>0.0</td>\n",
       "      <td>0.0</td>\n",
       "      <td>0.0</td>\n",
       "      <td>0.0</td>\n",
       "      <td>0.0</td>\n",
       "      <td>0.0</td>\n",
       "      <td>0.0</td>\n",
       "      <td>...</td>\n",
       "      <td>0.0</td>\n",
       "      <td>0.0</td>\n",
       "      <td>0.0</td>\n",
       "      <td>0.0</td>\n",
       "      <td>0.0</td>\n",
       "      <td>0.0</td>\n",
       "      <td>0.0</td>\n",
       "      <td>0.0</td>\n",
       "      <td>0.0</td>\n",
       "      <td>0.0</td>\n",
       "    </tr>\n",
       "    <tr>\n",
       "      <th>2</th>\n",
       "      <td>0.0</td>\n",
       "      <td>0.0</td>\n",
       "      <td>0.0</td>\n",
       "      <td>0.0</td>\n",
       "      <td>0.0</td>\n",
       "      <td>0.0</td>\n",
       "      <td>0.0</td>\n",
       "      <td>0.0</td>\n",
       "      <td>0.0</td>\n",
       "      <td>0.0</td>\n",
       "      <td>...</td>\n",
       "      <td>0.0</td>\n",
       "      <td>0.0</td>\n",
       "      <td>0.0</td>\n",
       "      <td>0.0</td>\n",
       "      <td>0.0</td>\n",
       "      <td>0.0</td>\n",
       "      <td>0.0</td>\n",
       "      <td>0.0</td>\n",
       "      <td>0.0</td>\n",
       "      <td>0.0</td>\n",
       "    </tr>\n",
       "    <tr>\n",
       "      <th>3</th>\n",
       "      <td>0.0</td>\n",
       "      <td>0.0</td>\n",
       "      <td>0.0</td>\n",
       "      <td>0.0</td>\n",
       "      <td>0.0</td>\n",
       "      <td>0.0</td>\n",
       "      <td>0.0</td>\n",
       "      <td>0.0</td>\n",
       "      <td>0.0</td>\n",
       "      <td>0.0</td>\n",
       "      <td>...</td>\n",
       "      <td>0.0</td>\n",
       "      <td>0.0</td>\n",
       "      <td>0.0</td>\n",
       "      <td>0.0</td>\n",
       "      <td>0.0</td>\n",
       "      <td>0.0</td>\n",
       "      <td>0.0</td>\n",
       "      <td>0.0</td>\n",
       "      <td>0.0</td>\n",
       "      <td>0.0</td>\n",
       "    </tr>\n",
       "    <tr>\n",
       "      <th>4</th>\n",
       "      <td>0.0</td>\n",
       "      <td>0.0</td>\n",
       "      <td>0.0</td>\n",
       "      <td>0.0</td>\n",
       "      <td>0.0</td>\n",
       "      <td>0.0</td>\n",
       "      <td>0.0</td>\n",
       "      <td>0.0</td>\n",
       "      <td>0.0</td>\n",
       "      <td>0.0</td>\n",
       "      <td>...</td>\n",
       "      <td>0.0</td>\n",
       "      <td>0.0</td>\n",
       "      <td>0.0</td>\n",
       "      <td>0.0</td>\n",
       "      <td>0.0</td>\n",
       "      <td>0.0</td>\n",
       "      <td>0.0</td>\n",
       "      <td>0.0</td>\n",
       "      <td>0.0</td>\n",
       "      <td>0.0</td>\n",
       "    </tr>\n",
       "    <tr>\n",
       "      <th>5</th>\n",
       "      <td>0.0</td>\n",
       "      <td>0.0</td>\n",
       "      <td>0.0</td>\n",
       "      <td>0.0</td>\n",
       "      <td>0.0</td>\n",
       "      <td>0.0</td>\n",
       "      <td>0.0</td>\n",
       "      <td>0.0</td>\n",
       "      <td>0.0</td>\n",
       "      <td>0.0</td>\n",
       "      <td>...</td>\n",
       "      <td>0.0</td>\n",
       "      <td>0.0</td>\n",
       "      <td>0.0</td>\n",
       "      <td>0.0</td>\n",
       "      <td>0.0</td>\n",
       "      <td>0.0</td>\n",
       "      <td>0.0</td>\n",
       "      <td>0.0</td>\n",
       "      <td>0.0</td>\n",
       "      <td>0.0</td>\n",
       "    </tr>\n",
       "    <tr>\n",
       "      <th>6</th>\n",
       "      <td>0.0</td>\n",
       "      <td>0.0</td>\n",
       "      <td>0.0</td>\n",
       "      <td>0.0</td>\n",
       "      <td>0.0</td>\n",
       "      <td>0.0</td>\n",
       "      <td>0.0</td>\n",
       "      <td>0.0</td>\n",
       "      <td>0.0</td>\n",
       "      <td>0.0</td>\n",
       "      <td>...</td>\n",
       "      <td>0.0</td>\n",
       "      <td>0.0</td>\n",
       "      <td>0.0</td>\n",
       "      <td>0.0</td>\n",
       "      <td>0.0</td>\n",
       "      <td>0.0</td>\n",
       "      <td>0.0</td>\n",
       "      <td>0.0</td>\n",
       "      <td>0.0</td>\n",
       "      <td>0.0</td>\n",
       "    </tr>\n",
       "    <tr>\n",
       "      <th>7</th>\n",
       "      <td>0.0</td>\n",
       "      <td>0.0</td>\n",
       "      <td>0.0</td>\n",
       "      <td>0.0</td>\n",
       "      <td>0.0</td>\n",
       "      <td>0.0</td>\n",
       "      <td>0.0</td>\n",
       "      <td>0.0</td>\n",
       "      <td>0.0</td>\n",
       "      <td>0.0</td>\n",
       "      <td>...</td>\n",
       "      <td>0.0</td>\n",
       "      <td>0.0</td>\n",
       "      <td>0.0</td>\n",
       "      <td>0.0</td>\n",
       "      <td>0.0</td>\n",
       "      <td>0.0</td>\n",
       "      <td>0.0</td>\n",
       "      <td>0.0</td>\n",
       "      <td>0.0</td>\n",
       "      <td>0.0</td>\n",
       "    </tr>\n",
       "    <tr>\n",
       "      <th>8</th>\n",
       "      <td>0.0</td>\n",
       "      <td>0.0</td>\n",
       "      <td>0.0</td>\n",
       "      <td>0.0</td>\n",
       "      <td>0.0</td>\n",
       "      <td>0.0</td>\n",
       "      <td>0.0</td>\n",
       "      <td>0.0</td>\n",
       "      <td>0.0</td>\n",
       "      <td>0.0</td>\n",
       "      <td>...</td>\n",
       "      <td>0.0</td>\n",
       "      <td>0.0</td>\n",
       "      <td>0.0</td>\n",
       "      <td>0.0</td>\n",
       "      <td>0.0</td>\n",
       "      <td>0.0</td>\n",
       "      <td>0.0</td>\n",
       "      <td>0.0</td>\n",
       "      <td>0.0</td>\n",
       "      <td>0.0</td>\n",
       "    </tr>\n",
       "    <tr>\n",
       "      <th>9</th>\n",
       "      <td>0.0</td>\n",
       "      <td>0.0</td>\n",
       "      <td>0.0</td>\n",
       "      <td>0.0</td>\n",
       "      <td>0.0</td>\n",
       "      <td>0.0</td>\n",
       "      <td>0.0</td>\n",
       "      <td>0.0</td>\n",
       "      <td>0.0</td>\n",
       "      <td>0.0</td>\n",
       "      <td>...</td>\n",
       "      <td>0.0</td>\n",
       "      <td>0.0</td>\n",
       "      <td>0.0</td>\n",
       "      <td>0.0</td>\n",
       "      <td>0.0</td>\n",
       "      <td>0.0</td>\n",
       "      <td>0.0</td>\n",
       "      <td>0.0</td>\n",
       "      <td>0.0</td>\n",
       "      <td>0.0</td>\n",
       "    </tr>\n",
       "    <tr>\n",
       "      <th>10</th>\n",
       "      <td>0.0</td>\n",
       "      <td>0.0</td>\n",
       "      <td>0.0</td>\n",
       "      <td>0.0</td>\n",
       "      <td>0.0</td>\n",
       "      <td>0.0</td>\n",
       "      <td>0.0</td>\n",
       "      <td>0.0</td>\n",
       "      <td>0.0</td>\n",
       "      <td>0.0</td>\n",
       "      <td>...</td>\n",
       "      <td>0.0</td>\n",
       "      <td>0.0</td>\n",
       "      <td>0.0</td>\n",
       "      <td>0.0</td>\n",
       "      <td>0.0</td>\n",
       "      <td>0.0</td>\n",
       "      <td>0.0</td>\n",
       "      <td>0.0</td>\n",
       "      <td>0.0</td>\n",
       "      <td>0.0</td>\n",
       "    </tr>\n",
       "    <tr>\n",
       "      <th>11</th>\n",
       "      <td>0.0</td>\n",
       "      <td>0.0</td>\n",
       "      <td>0.0</td>\n",
       "      <td>0.0</td>\n",
       "      <td>0.0</td>\n",
       "      <td>0.0</td>\n",
       "      <td>0.0</td>\n",
       "      <td>0.0</td>\n",
       "      <td>0.0</td>\n",
       "      <td>0.0</td>\n",
       "      <td>...</td>\n",
       "      <td>0.0</td>\n",
       "      <td>0.0</td>\n",
       "      <td>0.0</td>\n",
       "      <td>0.0</td>\n",
       "      <td>0.0</td>\n",
       "      <td>0.0</td>\n",
       "      <td>0.0</td>\n",
       "      <td>0.0</td>\n",
       "      <td>0.0</td>\n",
       "      <td>0.0</td>\n",
       "    </tr>\n",
       "    <tr>\n",
       "      <th>12</th>\n",
       "      <td>0.0</td>\n",
       "      <td>0.0</td>\n",
       "      <td>0.0</td>\n",
       "      <td>0.0</td>\n",
       "      <td>0.0</td>\n",
       "      <td>0.0</td>\n",
       "      <td>0.0</td>\n",
       "      <td>0.0</td>\n",
       "      <td>0.0</td>\n",
       "      <td>0.0</td>\n",
       "      <td>...</td>\n",
       "      <td>0.0</td>\n",
       "      <td>0.0</td>\n",
       "      <td>0.0</td>\n",
       "      <td>0.0</td>\n",
       "      <td>0.0</td>\n",
       "      <td>0.0</td>\n",
       "      <td>0.0</td>\n",
       "      <td>0.0</td>\n",
       "      <td>0.0</td>\n",
       "      <td>0.0</td>\n",
       "    </tr>\n",
       "    <tr>\n",
       "      <th>13</th>\n",
       "      <td>0.0</td>\n",
       "      <td>0.0</td>\n",
       "      <td>0.0</td>\n",
       "      <td>0.0</td>\n",
       "      <td>0.0</td>\n",
       "      <td>0.0</td>\n",
       "      <td>0.0</td>\n",
       "      <td>0.0</td>\n",
       "      <td>0.0</td>\n",
       "      <td>0.0</td>\n",
       "      <td>...</td>\n",
       "      <td>0.0</td>\n",
       "      <td>0.0</td>\n",
       "      <td>0.0</td>\n",
       "      <td>0.0</td>\n",
       "      <td>0.0</td>\n",
       "      <td>0.0</td>\n",
       "      <td>0.0</td>\n",
       "      <td>0.0</td>\n",
       "      <td>0.0</td>\n",
       "      <td>0.0</td>\n",
       "    </tr>\n",
       "    <tr>\n",
       "      <th>14</th>\n",
       "      <td>0.0</td>\n",
       "      <td>0.0</td>\n",
       "      <td>0.0</td>\n",
       "      <td>0.0</td>\n",
       "      <td>0.0</td>\n",
       "      <td>0.0</td>\n",
       "      <td>0.0</td>\n",
       "      <td>0.0</td>\n",
       "      <td>0.0</td>\n",
       "      <td>0.0</td>\n",
       "      <td>...</td>\n",
       "      <td>0.0</td>\n",
       "      <td>0.0</td>\n",
       "      <td>0.0</td>\n",
       "      <td>0.0</td>\n",
       "      <td>0.0</td>\n",
       "      <td>0.0</td>\n",
       "      <td>0.0</td>\n",
       "      <td>0.0</td>\n",
       "      <td>0.0</td>\n",
       "      <td>0.0</td>\n",
       "    </tr>\n",
       "    <tr>\n",
       "      <th>15</th>\n",
       "      <td>0.0</td>\n",
       "      <td>0.0</td>\n",
       "      <td>0.0</td>\n",
       "      <td>0.0</td>\n",
       "      <td>0.0</td>\n",
       "      <td>0.0</td>\n",
       "      <td>0.0</td>\n",
       "      <td>0.0</td>\n",
       "      <td>0.0</td>\n",
       "      <td>0.0</td>\n",
       "      <td>...</td>\n",
       "      <td>0.0</td>\n",
       "      <td>0.0</td>\n",
       "      <td>0.0</td>\n",
       "      <td>0.0</td>\n",
       "      <td>0.0</td>\n",
       "      <td>0.0</td>\n",
       "      <td>0.0</td>\n",
       "      <td>0.0</td>\n",
       "      <td>0.0</td>\n",
       "      <td>0.0</td>\n",
       "    </tr>\n",
       "    <tr>\n",
       "      <th>16</th>\n",
       "      <td>0.0</td>\n",
       "      <td>0.0</td>\n",
       "      <td>0.0</td>\n",
       "      <td>0.0</td>\n",
       "      <td>0.0</td>\n",
       "      <td>0.0</td>\n",
       "      <td>0.0</td>\n",
       "      <td>0.0</td>\n",
       "      <td>0.0</td>\n",
       "      <td>0.0</td>\n",
       "      <td>...</td>\n",
       "      <td>0.0</td>\n",
       "      <td>0.0</td>\n",
       "      <td>0.0</td>\n",
       "      <td>0.0</td>\n",
       "      <td>0.0</td>\n",
       "      <td>0.0</td>\n",
       "      <td>0.0</td>\n",
       "      <td>0.0</td>\n",
       "      <td>0.0</td>\n",
       "      <td>0.0</td>\n",
       "    </tr>\n",
       "    <tr>\n",
       "      <th>17</th>\n",
       "      <td>0.0</td>\n",
       "      <td>0.0</td>\n",
       "      <td>0.0</td>\n",
       "      <td>0.0</td>\n",
       "      <td>0.0</td>\n",
       "      <td>0.0</td>\n",
       "      <td>0.0</td>\n",
       "      <td>0.0</td>\n",
       "      <td>0.0</td>\n",
       "      <td>0.0</td>\n",
       "      <td>...</td>\n",
       "      <td>0.0</td>\n",
       "      <td>0.0</td>\n",
       "      <td>0.0</td>\n",
       "      <td>0.0</td>\n",
       "      <td>0.0</td>\n",
       "      <td>0.0</td>\n",
       "      <td>0.0</td>\n",
       "      <td>0.0</td>\n",
       "      <td>0.0</td>\n",
       "      <td>0.0</td>\n",
       "    </tr>\n",
       "    <tr>\n",
       "      <th>18</th>\n",
       "      <td>0.0</td>\n",
       "      <td>0.0</td>\n",
       "      <td>0.0</td>\n",
       "      <td>0.0</td>\n",
       "      <td>0.0</td>\n",
       "      <td>0.0</td>\n",
       "      <td>0.0</td>\n",
       "      <td>0.0</td>\n",
       "      <td>0.0</td>\n",
       "      <td>0.0</td>\n",
       "      <td>...</td>\n",
       "      <td>0.0</td>\n",
       "      <td>0.0</td>\n",
       "      <td>0.0</td>\n",
       "      <td>0.0</td>\n",
       "      <td>0.0</td>\n",
       "      <td>0.0</td>\n",
       "      <td>0.0</td>\n",
       "      <td>0.0</td>\n",
       "      <td>0.0</td>\n",
       "      <td>0.0</td>\n",
       "    </tr>\n",
       "    <tr>\n",
       "      <th>19</th>\n",
       "      <td>0.0</td>\n",
       "      <td>0.0</td>\n",
       "      <td>0.0</td>\n",
       "      <td>0.0</td>\n",
       "      <td>0.0</td>\n",
       "      <td>0.0</td>\n",
       "      <td>0.0</td>\n",
       "      <td>0.0</td>\n",
       "      <td>0.0</td>\n",
       "      <td>0.0</td>\n",
       "      <td>...</td>\n",
       "      <td>0.0</td>\n",
       "      <td>0.0</td>\n",
       "      <td>0.0</td>\n",
       "      <td>0.0</td>\n",
       "      <td>0.0</td>\n",
       "      <td>0.0</td>\n",
       "      <td>0.0</td>\n",
       "      <td>0.0</td>\n",
       "      <td>0.0</td>\n",
       "      <td>0.0</td>\n",
       "    </tr>\n",
       "  </tbody>\n",
       "</table>\n",
       "<p>20 rows × 784 columns</p>\n",
       "</div>"
      ],
      "text/plain": [
       "    pixel0  pixel1  pixel2  pixel3  pixel4  pixel5  pixel6  pixel7  pixel8  \\\n",
       "0      0.0     0.0     0.0     0.0     0.0     0.0     0.0     0.0     0.0   \n",
       "1      0.0     0.0     0.0     0.0     0.0     0.0     0.0     0.0     0.0   \n",
       "2      0.0     0.0     0.0     0.0     0.0     0.0     0.0     0.0     0.0   \n",
       "3      0.0     0.0     0.0     0.0     0.0     0.0     0.0     0.0     0.0   \n",
       "4      0.0     0.0     0.0     0.0     0.0     0.0     0.0     0.0     0.0   \n",
       "5      0.0     0.0     0.0     0.0     0.0     0.0     0.0     0.0     0.0   \n",
       "6      0.0     0.0     0.0     0.0     0.0     0.0     0.0     0.0     0.0   \n",
       "7      0.0     0.0     0.0     0.0     0.0     0.0     0.0     0.0     0.0   \n",
       "8      0.0     0.0     0.0     0.0     0.0     0.0     0.0     0.0     0.0   \n",
       "9      0.0     0.0     0.0     0.0     0.0     0.0     0.0     0.0     0.0   \n",
       "10     0.0     0.0     0.0     0.0     0.0     0.0     0.0     0.0     0.0   \n",
       "11     0.0     0.0     0.0     0.0     0.0     0.0     0.0     0.0     0.0   \n",
       "12     0.0     0.0     0.0     0.0     0.0     0.0     0.0     0.0     0.0   \n",
       "13     0.0     0.0     0.0     0.0     0.0     0.0     0.0     0.0     0.0   \n",
       "14     0.0     0.0     0.0     0.0     0.0     0.0     0.0     0.0     0.0   \n",
       "15     0.0     0.0     0.0     0.0     0.0     0.0     0.0     0.0     0.0   \n",
       "16     0.0     0.0     0.0     0.0     0.0     0.0     0.0     0.0     0.0   \n",
       "17     0.0     0.0     0.0     0.0     0.0     0.0     0.0     0.0     0.0   \n",
       "18     0.0     0.0     0.0     0.0     0.0     0.0     0.0     0.0     0.0   \n",
       "19     0.0     0.0     0.0     0.0     0.0     0.0     0.0     0.0     0.0   \n",
       "\n",
       "    pixel9  ...  pixel774  pixel775  pixel776  pixel777  pixel778  pixel779  \\\n",
       "0      0.0  ...       0.0       0.0       0.0       0.0       0.0       0.0   \n",
       "1      0.0  ...       0.0       0.0       0.0       0.0       0.0       0.0   \n",
       "2      0.0  ...       0.0       0.0       0.0       0.0       0.0       0.0   \n",
       "3      0.0  ...       0.0       0.0       0.0       0.0       0.0       0.0   \n",
       "4      0.0  ...       0.0       0.0       0.0       0.0       0.0       0.0   \n",
       "5      0.0  ...       0.0       0.0       0.0       0.0       0.0       0.0   \n",
       "6      0.0  ...       0.0       0.0       0.0       0.0       0.0       0.0   \n",
       "7      0.0  ...       0.0       0.0       0.0       0.0       0.0       0.0   \n",
       "8      0.0  ...       0.0       0.0       0.0       0.0       0.0       0.0   \n",
       "9      0.0  ...       0.0       0.0       0.0       0.0       0.0       0.0   \n",
       "10     0.0  ...       0.0       0.0       0.0       0.0       0.0       0.0   \n",
       "11     0.0  ...       0.0       0.0       0.0       0.0       0.0       0.0   \n",
       "12     0.0  ...       0.0       0.0       0.0       0.0       0.0       0.0   \n",
       "13     0.0  ...       0.0       0.0       0.0       0.0       0.0       0.0   \n",
       "14     0.0  ...       0.0       0.0       0.0       0.0       0.0       0.0   \n",
       "15     0.0  ...       0.0       0.0       0.0       0.0       0.0       0.0   \n",
       "16     0.0  ...       0.0       0.0       0.0       0.0       0.0       0.0   \n",
       "17     0.0  ...       0.0       0.0       0.0       0.0       0.0       0.0   \n",
       "18     0.0  ...       0.0       0.0       0.0       0.0       0.0       0.0   \n",
       "19     0.0  ...       0.0       0.0       0.0       0.0       0.0       0.0   \n",
       "\n",
       "    pixel780  pixel781  pixel782  pixel783  \n",
       "0        0.0       0.0       0.0       0.0  \n",
       "1        0.0       0.0       0.0       0.0  \n",
       "2        0.0       0.0       0.0       0.0  \n",
       "3        0.0       0.0       0.0       0.0  \n",
       "4        0.0       0.0       0.0       0.0  \n",
       "5        0.0       0.0       0.0       0.0  \n",
       "6        0.0       0.0       0.0       0.0  \n",
       "7        0.0       0.0       0.0       0.0  \n",
       "8        0.0       0.0       0.0       0.0  \n",
       "9        0.0       0.0       0.0       0.0  \n",
       "10       0.0       0.0       0.0       0.0  \n",
       "11       0.0       0.0       0.0       0.0  \n",
       "12       0.0       0.0       0.0       0.0  \n",
       "13       0.0       0.0       0.0       0.0  \n",
       "14       0.0       0.0       0.0       0.0  \n",
       "15       0.0       0.0       0.0       0.0  \n",
       "16       0.0       0.0       0.0       0.0  \n",
       "17       0.0       0.0       0.0       0.0  \n",
       "18       0.0       0.0       0.0       0.0  \n",
       "19       0.0       0.0       0.0       0.0  \n",
       "\n",
       "[20 rows x 784 columns]"
      ]
     },
     "execution_count": 11,
     "metadata": {},
     "output_type": "execute_result"
    }
   ],
   "source": [
    "nn_test_scaled_df.describe()\n",
    "nn_test_scaled_df.shape\n",
    "nn_test_scaled_df.head(20)"
   ]
  },
  {
   "cell_type": "markdown",
   "metadata": {},
   "source": [
    "## Create a model using Sequential API utilizing hyperbolic tangent activation method"
   ]
  },
  {
   "cell_type": "code",
   "execution_count": 12,
   "metadata": {},
   "outputs": [],
   "source": [
    "model = keras.models.Sequential([\n",
    "    keras.layers.Flatten(input_shape=[784,]),\n",
    "    keras.layers.Dense(20, activation=\"tanh\"),\n",
    "    keras.layers.Dense(20, activation=\"tanh\"),\n",
    "    keras.layers.Dense(10, activation=\"softmax\")\n",
    "])"
   ]
  },
  {
   "cell_type": "code",
   "execution_count": 13,
   "metadata": {
    "scrolled": true
   },
   "outputs": [
    {
     "name": "stdout",
     "output_type": "stream",
     "text": [
      "Model: \"sequential\"\n",
      "_________________________________________________________________\n",
      " Layer (type)                Output Shape              Param #   \n",
      "=================================================================\n",
      " flatten (Flatten)           (None, 784)               0         \n",
      "                                                                 \n",
      " dense (Dense)               (None, 20)                15700     \n",
      "                                                                 \n",
      " dense_1 (Dense)             (None, 20)                420       \n",
      "                                                                 \n",
      " dense_2 (Dense)             (None, 10)                210       \n",
      "                                                                 \n",
      "=================================================================\n",
      "Total params: 16,330\n",
      "Trainable params: 16,330\n",
      "Non-trainable params: 0\n",
      "_________________________________________________________________\n"
     ]
    }
   ],
   "source": [
    "model.summary()"
   ]
  },
  {
   "cell_type": "code",
   "execution_count": 14,
   "metadata": {},
   "outputs": [
    {
     "data": {
      "text/plain": [
       "[<keras.layers.reshaping.flatten.Flatten at 0x19cb9d21550>,\n",
       " <keras.layers.core.dense.Dense at 0x19cb9d21d30>,\n",
       " <keras.layers.core.dense.Dense at 0x19cb9d21970>,\n",
       " <keras.layers.core.dense.Dense at 0x19cb9dda4f0>]"
      ]
     },
     "execution_count": 14,
     "metadata": {},
     "output_type": "execute_result"
    }
   ],
   "source": [
    "model.layers"
   ]
  },
  {
   "cell_type": "markdown",
   "metadata": {},
   "source": [
    "#### Examine the weights and biases of Hidden Layer 1"
   ]
  },
  {
   "cell_type": "code",
   "execution_count": 15,
   "metadata": {
    "scrolled": true
   },
   "outputs": [
    {
     "data": {
      "text/plain": [
       "array([[ 0.07326624,  0.04950942, -0.0630369 , ...,  0.02167481,\n",
       "        -0.00245464,  0.07073659],\n",
       "       [-0.08012948, -0.05141045,  0.08416586, ...,  0.02029417,\n",
       "        -0.06791637,  0.05525993],\n",
       "       [ 0.01694722,  0.04899427,  0.07274768, ..., -0.04581188,\n",
       "         0.05995984,  0.00395826],\n",
       "       ...,\n",
       "       [-0.03618319,  0.00040896, -0.06808969, ...,  0.00653894,\n",
       "         0.08358839, -0.04321414],\n",
       "       [ 0.06863168,  0.03469124,  0.00118482, ...,  0.02018707,\n",
       "        -0.06759581, -0.06775653],\n",
       "       [ 0.03377858, -0.06785498, -0.07941253, ..., -0.07023329,\n",
       "        -0.0207302 ,  0.07253633]], dtype=float32)"
      ]
     },
     "execution_count": 15,
     "metadata": {},
     "output_type": "execute_result"
    },
    {
     "data": {
      "text/plain": [
       "(784, 20)"
      ]
     },
     "execution_count": 15,
     "metadata": {},
     "output_type": "execute_result"
    },
    {
     "data": {
      "text/plain": [
       "array([0., 0., 0., 0., 0., 0., 0., 0., 0., 0., 0., 0., 0., 0., 0., 0., 0.,\n",
       "       0., 0., 0.], dtype=float32)"
      ]
     },
     "execution_count": 15,
     "metadata": {},
     "output_type": "execute_result"
    },
    {
     "data": {
      "text/plain": [
       "(20,)"
      ]
     },
     "execution_count": 15,
     "metadata": {},
     "output_type": "execute_result"
    }
   ],
   "source": [
    "weights, biases = model.layers[1].get_weights()\n",
    "\n",
    "weights\n",
    "\n",
    "weights.shape\n",
    "\n",
    "biases\n",
    "\n",
    "biases.shape"
   ]
  },
  {
   "cell_type": "markdown",
   "metadata": {},
   "source": [
    "#### Examine the weights and biases of Hidden Layer 2"
   ]
  },
  {
   "cell_type": "code",
   "execution_count": 16,
   "metadata": {
    "scrolled": true
   },
   "outputs": [
    {
     "data": {
      "text/plain": [
       "array([[-0.10111153,  0.09760392, -0.33700863, -0.01380053,  0.12705648,\n",
       "         0.11644924,  0.185121  , -0.27162716, -0.11037886, -0.10487276,\n",
       "         0.05030358, -0.15251108,  0.1423583 ,  0.27406353,  0.3503375 ,\n",
       "        -0.04738346, -0.21044031,  0.15255487, -0.38132113, -0.17750156],\n",
       "       [ 0.27691275, -0.03286865, -0.25426352,  0.33897436,  0.05676907,\n",
       "        -0.15932441,  0.1299097 , -0.1729231 ,  0.3532918 ,  0.07407343,\n",
       "        -0.0419105 , -0.3826936 , -0.0787648 ,  0.12646747,  0.14670545,\n",
       "        -0.09610766, -0.3743185 ,  0.33871996,  0.33835232,  0.15350795],\n",
       "       [-0.03372225, -0.16610663, -0.09282297,  0.1484366 , -0.03761545,\n",
       "         0.31965107,  0.02658424,  0.16245556,  0.11692977,  0.04515153,\n",
       "         0.19763869, -0.34725642,  0.2885599 ,  0.30835772,  0.33098644,\n",
       "        -0.1257908 , -0.20100398,  0.31614578, -0.0337902 ,  0.06840962],\n",
       "       [-0.21065176,  0.11045173, -0.3308252 , -0.06850389,  0.32132518,\n",
       "        -0.08534351,  0.2601953 ,  0.2395891 ,  0.06594491, -0.3059823 ,\n",
       "         0.08540481,  0.16726011,  0.14869606, -0.35130447, -0.0720765 ,\n",
       "         0.34508985, -0.08676931, -0.23423693, -0.08622646,  0.23349237],\n",
       "       [ 0.24407393, -0.13525215, -0.13917999,  0.3331762 ,  0.22026259,\n",
       "        -0.04093623, -0.18133704, -0.08685768,  0.3258884 ,  0.20131063,\n",
       "         0.16538835, -0.08359635,  0.07564485, -0.01465791,  0.37609422,\n",
       "        -0.3142687 ,  0.28564572,  0.24114388,  0.21923995, -0.08999667],\n",
       "       [ 0.18997687, -0.32838914,  0.13766903,  0.36137468, -0.14573514,\n",
       "         0.00661647,  0.2517867 ,  0.3096199 , -0.20541161,  0.02566114,\n",
       "         0.09162045,  0.32977015, -0.21452022, -0.1578287 ,  0.02607575,\n",
       "         0.14219183, -0.11301404, -0.02808383,  0.2912758 ,  0.27010208],\n",
       "       [-0.17156756, -0.0995304 ,  0.38275313,  0.2993217 ,  0.03866959,\n",
       "        -0.1766427 , -0.3103913 , -0.1130012 ,  0.10880476, -0.02079746,\n",
       "         0.29598796,  0.32831   ,  0.29044193,  0.09322631, -0.1283223 ,\n",
       "         0.12148142, -0.2975244 , -0.33381072,  0.06333226, -0.03032592],\n",
       "       [ 0.15905589,  0.024966  ,  0.04103199, -0.03465784, -0.21646146,\n",
       "         0.32019395, -0.28985488,  0.15453988, -0.23766622, -0.13498613,\n",
       "         0.19592494, -0.15406209, -0.17189084, -0.2039098 , -0.20484298,\n",
       "         0.23120266, -0.22221881,  0.3646415 , -0.01598731, -0.2661074 ],\n",
       "       [-0.1553385 , -0.3195664 , -0.16256303, -0.11805528,  0.2872395 ,\n",
       "         0.0537107 ,  0.27575535,  0.3315776 , -0.26548404, -0.02339911,\n",
       "         0.37016684, -0.32706416, -0.10795173, -0.10626397, -0.05499256,\n",
       "        -0.3347077 , -0.26275262, -0.05077055,  0.24232048,  0.14758736],\n",
       "       [-0.25257522,  0.13376606, -0.21144864,  0.37848264, -0.12353811,\n",
       "         0.01333117, -0.18407711,  0.37045234, -0.3872074 ,  0.00348395,\n",
       "        -0.00508317, -0.35632688,  0.233114  ,  0.1172235 ,  0.29343885,\n",
       "         0.21179402,  0.07607618, -0.25807297, -0.31019795, -0.19959332],\n",
       "       [-0.31011632, -0.14694183,  0.14171565, -0.08359027,  0.30723476,\n",
       "         0.22921056,  0.19840288, -0.330117  ,  0.15694124, -0.05306426,\n",
       "         0.38329583, -0.07528242, -0.33658153, -0.37380058, -0.28540176,\n",
       "        -0.08235043, -0.01384422, -0.09962413,  0.01670626, -0.08901343],\n",
       "       [-0.06747931,  0.211734  ,  0.2265063 ,  0.14301556,  0.02635422,\n",
       "        -0.25727618, -0.02984363,  0.00281829,  0.08872312,  0.33195478,\n",
       "        -0.2374964 ,  0.24085337,  0.09390861,  0.1659252 ,  0.10133961,\n",
       "        -0.17886318,  0.36936212,  0.00984475, -0.07069373, -0.14992891],\n",
       "       [-0.21084788, -0.11169034, -0.17838386, -0.00068313, -0.16244861,\n",
       "        -0.12498969,  0.08436415,  0.10639998,  0.00127891, -0.30879164,\n",
       "        -0.11117086, -0.33672154,  0.3634963 ,  0.17624766,  0.19704497,\n",
       "         0.21287435, -0.37998897, -0.25199062, -0.27589074, -0.17490673],\n",
       "       [-0.30839762, -0.28260702, -0.01769292,  0.3119195 , -0.30392507,\n",
       "        -0.09546056,  0.193739  , -0.3229484 , -0.07149467, -0.33627674,\n",
       "         0.2778437 ,  0.28125572,  0.27764714,  0.16912973, -0.24110733,\n",
       "        -0.30959487,  0.18371534, -0.02376282,  0.34793067, -0.26427105],\n",
       "       [-0.36621308, -0.28679737, -0.27529812, -0.01110876, -0.18854263,\n",
       "         0.02578986,  0.06842855, -0.23607235, -0.05325049,  0.2164644 ,\n",
       "         0.19711733,  0.04214191,  0.2866007 , -0.29593727, -0.05848935,\n",
       "         0.04491413,  0.14391595, -0.36737037,  0.3619147 ,  0.19894582],\n",
       "       [-0.14433335,  0.1492241 , -0.16637681,  0.34656757, -0.35513553,\n",
       "        -0.03279573, -0.32343727, -0.37269178,  0.37484354,  0.08988652,\n",
       "         0.23501998,  0.21060681, -0.17095767,  0.37182933,  0.3228122 ,\n",
       "         0.16822952,  0.13964725, -0.1962704 ,  0.02926382, -0.04845014],\n",
       "       [-0.0723187 ,  0.2998283 , -0.2686603 , -0.2523256 ,  0.15023583,\n",
       "         0.3206362 , -0.08584121,  0.21270603, -0.19684687, -0.3768993 ,\n",
       "        -0.21380404, -0.10910255, -0.32748005,  0.2060051 ,  0.18456769,\n",
       "        -0.06213805, -0.29152155,  0.34180903,  0.24649686, -0.06128982],\n",
       "       [ 0.19512653,  0.15382522, -0.22229332, -0.13317075, -0.364324  ,\n",
       "         0.12743437, -0.3278275 ,  0.06389359,  0.18111873,  0.2263555 ,\n",
       "         0.149432  , -0.00474909,  0.2417537 , -0.3855004 , -0.13714263,\n",
       "        -0.1558073 , -0.13479647, -0.16378781, -0.06301442,  0.22099108],\n",
       "       [ 0.3659451 , -0.27746522, -0.21314381, -0.17721826,  0.28723562,\n",
       "         0.043446  ,  0.14069188, -0.36108863, -0.3197291 ,  0.03790575,\n",
       "         0.18246228,  0.341267  ,  0.2341758 , -0.08884686, -0.34836373,\n",
       "        -0.13199767, -0.24667251, -0.02006668,  0.2611764 ,  0.3808717 ],\n",
       "       [-0.17494367, -0.22739229,  0.01788497, -0.21983877,  0.11236554,\n",
       "         0.18649954, -0.33687323, -0.18060507,  0.14969659,  0.0381619 ,\n",
       "         0.00843436, -0.35075495,  0.12642306, -0.30686396, -0.14162041,\n",
       "        -0.29686493, -0.3298985 , -0.10973313, -0.01031187, -0.04776999]],\n",
       "      dtype=float32)"
      ]
     },
     "execution_count": 16,
     "metadata": {},
     "output_type": "execute_result"
    },
    {
     "data": {
      "text/plain": [
       "(20, 20)"
      ]
     },
     "execution_count": 16,
     "metadata": {},
     "output_type": "execute_result"
    },
    {
     "data": {
      "text/plain": [
       "array([0., 0., 0., 0., 0., 0., 0., 0., 0., 0., 0., 0., 0., 0., 0., 0., 0.,\n",
       "       0., 0., 0.], dtype=float32)"
      ]
     },
     "execution_count": 16,
     "metadata": {},
     "output_type": "execute_result"
    },
    {
     "data": {
      "text/plain": [
       "(20,)"
      ]
     },
     "execution_count": 16,
     "metadata": {},
     "output_type": "execute_result"
    }
   ],
   "source": [
    "weights, biases = model.layers[2].get_weights()\n",
    "\n",
    "weights\n",
    "\n",
    "weights.shape\n",
    "\n",
    "biases\n",
    "\n",
    "biases.shape"
   ]
  },
  {
   "cell_type": "markdown",
   "metadata": {},
   "source": [
    "#### Examine the weights and biases of Layer 3"
   ]
  },
  {
   "cell_type": "code",
   "execution_count": 17,
   "metadata": {
    "scrolled": true
   },
   "outputs": [
    {
     "data": {
      "text/plain": [
       "array([[ 0.04408306,  0.36542046,  0.26690948, -0.24347757,  0.1313414 ,\n",
       "        -0.11363956,  0.2218203 , -0.3421546 ,  0.22415304, -0.19604874],\n",
       "       [-0.2608027 , -0.25291914,  0.14113396, -0.20771736, -0.43182316,\n",
       "        -0.34950632, -0.08048141, -0.35588285, -0.13631114,  0.15477705],\n",
       "       [ 0.15132159, -0.279961  ,  0.15711945, -0.05491522, -0.09607232,\n",
       "         0.4219101 ,  0.13201994,  0.259125  ,  0.3111174 , -0.14609912],\n",
       "       [-0.35370272, -0.02998248, -0.4066808 , -0.3775913 ,  0.26864576,\n",
       "         0.07168204,  0.42556882,  0.22688591,  0.17318076, -0.1925419 ],\n",
       "       [-0.43113425,  0.10641855, -0.32746786,  0.21406245, -0.13901949,\n",
       "        -0.09051248,  0.11447072,  0.17184532, -0.3263547 , -0.00372022],\n",
       "       [ 0.33084285,  0.02857012, -0.06847629, -0.05130854, -0.43838   ,\n",
       "        -0.06801739,  0.24508888, -0.11380729, -0.38612655, -0.08503214],\n",
       "       [-0.20522684, -0.25851178, -0.14190081, -0.23618096,  0.20544672,\n",
       "         0.37163848, -0.04718006, -0.24027874,  0.30906266, -0.29113328],\n",
       "       [ 0.37699997,  0.15887266, -0.02589408,  0.05094624,  0.34929574,\n",
       "        -0.02723593, -0.36894387,  0.00566569, -0.02734521,  0.04455924],\n",
       "       [ 0.26035947,  0.28463948,  0.32263875, -0.28184152,  0.4268434 ,\n",
       "         0.3802809 ,  0.17371911, -0.19764033, -0.13101247,  0.09644711],\n",
       "       [-0.17840526,  0.09079665,  0.00115475,  0.3041911 ,  0.07941818,\n",
       "         0.00703219,  0.0076167 ,  0.08913714,  0.34177744,  0.18726027],\n",
       "       [-0.40107214, -0.06476036, -0.01972991, -0.38601288, -0.4433038 ,\n",
       "        -0.23705027,  0.08473635, -0.25968707,  0.38902557,  0.37679696],\n",
       "       [ 0.10957122,  0.08155972, -0.01689959,  0.42389053,  0.34935558,\n",
       "        -0.02481547, -0.11064598,  0.09124064, -0.166659  , -0.32461163],\n",
       "       [-0.2652998 , -0.270276  ,  0.20211983,  0.01124948,  0.07969344,\n",
       "         0.195229  , -0.02088776,  0.24470782, -0.17473033, -0.11801937],\n",
       "       [ 0.05997312,  0.0523155 ,  0.4453079 ,  0.22290605, -0.22224414,\n",
       "        -0.17254359,  0.03676131, -0.18473017, -0.18753174,  0.2566887 ],\n",
       "       [ 0.12799788,  0.44124562, -0.40005848,  0.30466068,  0.26889515,\n",
       "         0.167499  , -0.2768575 , -0.4257474 ,  0.06224191,  0.15646863],\n",
       "       [ 0.08631289,  0.39535242, -0.32197213,  0.18419343,  0.27626145,\n",
       "         0.3609218 , -0.1957162 , -0.4367896 ,  0.08756447,  0.33267665],\n",
       "       [-0.1037811 ,  0.33112282, -0.04860264, -0.19427931,  0.04562399,\n",
       "        -0.26178962,  0.38280886,  0.4124936 ,  0.17754477, -0.06265697],\n",
       "       [ 0.27104193, -0.329284  , -0.2725336 , -0.41052288, -0.22730783,\n",
       "         0.16526008, -0.26558608, -0.21583144,  0.30662322, -0.09565529],\n",
       "       [-0.13057616,  0.22945243,  0.088875  , -0.24371055, -0.00927597,\n",
       "        -0.38451207,  0.4456089 ,  0.11315358,  0.06784016,  0.25650328],\n",
       "       [-0.14560279, -0.18970388,  0.29883015, -0.37701756, -0.34611142,\n",
       "         0.31694365, -0.37443203, -0.11145517, -0.395399  ,  0.29043126]],\n",
       "      dtype=float32)"
      ]
     },
     "execution_count": 17,
     "metadata": {},
     "output_type": "execute_result"
    },
    {
     "data": {
      "text/plain": [
       "(20, 10)"
      ]
     },
     "execution_count": 17,
     "metadata": {},
     "output_type": "execute_result"
    },
    {
     "data": {
      "text/plain": [
       "array([0., 0., 0., 0., 0., 0., 0., 0., 0., 0.], dtype=float32)"
      ]
     },
     "execution_count": 17,
     "metadata": {},
     "output_type": "execute_result"
    },
    {
     "data": {
      "text/plain": [
       "(10,)"
      ]
     },
     "execution_count": 17,
     "metadata": {},
     "output_type": "execute_result"
    }
   ],
   "source": [
    "weights, biases = model.layers[3].get_weights()\n",
    "\n",
    "weights\n",
    "\n",
    "weights.shape\n",
    "\n",
    "biases\n",
    "\n",
    "biases.shape"
   ]
  },
  {
   "cell_type": "markdown",
   "metadata": {},
   "source": [
    "### Compile the Sequential API model and specify the loss function and optimizer:\n",
    "\n",
    "- Loss function: <b>sparse categorical cross-entropy</b>\n",
    "- Optimization method: <b>RMS prop, learning rate set to 0.01</b>\n",
    "- Evaluation metric: <b>accuracy</b>"
   ]
  },
  {
   "cell_type": "code",
   "execution_count": 18,
   "metadata": {},
   "outputs": [],
   "source": [
    "model.compile(loss=\"sparse_categorical_crossentropy\",\n",
    "              optimizer=keras.optimizers.RMSprop(learning_rate=0.01),\n",
    "              metrics=[\"accuracy\"])"
   ]
  },
  {
   "cell_type": "markdown",
   "metadata": {},
   "source": [
    "#### Now the model is ready to be trained"
   ]
  },
  {
   "cell_type": "code",
   "execution_count": 19,
   "metadata": {
    "scrolled": true
   },
   "outputs": [
    {
     "name": "stdout",
     "output_type": "stream",
     "text": [
      "Epoch 1/30\n",
      "985/985 [==============================] - 2s 2ms/step - loss: 0.3878 - accuracy: 0.8847 - val_loss: 0.3442 - val_accuracy: 0.8929\n",
      "Epoch 2/30\n",
      "985/985 [==============================] - 2s 2ms/step - loss: 0.2638 - accuracy: 0.9217 - val_loss: 0.2338 - val_accuracy: 0.9319\n",
      "Epoch 3/30\n",
      "985/985 [==============================] - 2s 2ms/step - loss: 0.2341 - accuracy: 0.9319 - val_loss: 0.2545 - val_accuracy: 0.9271\n",
      "Epoch 4/30\n",
      "985/985 [==============================] - 2s 2ms/step - loss: 0.2150 - accuracy: 0.9373 - val_loss: 0.2204 - val_accuracy: 0.9360\n",
      "Epoch 5/30\n",
      "985/985 [==============================] - 2s 2ms/step - loss: 0.2053 - accuracy: 0.9386 - val_loss: 0.2381 - val_accuracy: 0.9285\n",
      "Epoch 6/30\n",
      "985/985 [==============================] - 2s 2ms/step - loss: 0.1856 - accuracy: 0.9448 - val_loss: 0.2402 - val_accuracy: 0.9332\n",
      "Epoch 7/30\n",
      "985/985 [==============================] - 2s 2ms/step - loss: 0.1805 - accuracy: 0.9477 - val_loss: 0.2231 - val_accuracy: 0.9371\n",
      "Epoch 8/30\n",
      "985/985 [==============================] - 3s 3ms/step - loss: 0.1767 - accuracy: 0.9488 - val_loss: 0.2033 - val_accuracy: 0.9422\n",
      "Epoch 9/30\n",
      "985/985 [==============================] - 2s 2ms/step - loss: 0.1696 - accuracy: 0.9511 - val_loss: 0.2072 - val_accuracy: 0.9385\n",
      "Epoch 10/30\n",
      "985/985 [==============================] - 3s 3ms/step - loss: 0.1683 - accuracy: 0.9513 - val_loss: 0.2219 - val_accuracy: 0.9377\n",
      "Epoch 11/30\n",
      "985/985 [==============================] - 2s 2ms/step - loss: 0.1664 - accuracy: 0.9510 - val_loss: 0.2123 - val_accuracy: 0.9413\n",
      "Epoch 12/30\n",
      "985/985 [==============================] - 2s 2ms/step - loss: 0.1583 - accuracy: 0.9551 - val_loss: 0.2106 - val_accuracy: 0.9407\n",
      "Epoch 13/30\n",
      "985/985 [==============================] - 2s 2ms/step - loss: 0.1524 - accuracy: 0.9564 - val_loss: 0.2115 - val_accuracy: 0.9390\n",
      "Epoch 14/30\n",
      "985/985 [==============================] - 2s 2ms/step - loss: 0.1498 - accuracy: 0.9579 - val_loss: 0.2056 - val_accuracy: 0.9429\n",
      "Epoch 15/30\n",
      "985/985 [==============================] - 2s 2ms/step - loss: 0.1477 - accuracy: 0.9568 - val_loss: 0.2111 - val_accuracy: 0.9443\n",
      "Epoch 16/30\n",
      "985/985 [==============================] - 2s 2ms/step - loss: 0.1500 - accuracy: 0.9569 - val_loss: 0.2164 - val_accuracy: 0.9412\n",
      "Epoch 17/30\n",
      "985/985 [==============================] - 2s 2ms/step - loss: 0.1472 - accuracy: 0.9573 - val_loss: 0.2091 - val_accuracy: 0.9421\n",
      "Epoch 18/30\n",
      "985/985 [==============================] - 2s 2ms/step - loss: 0.1406 - accuracy: 0.9591 - val_loss: 0.2085 - val_accuracy: 0.9439\n",
      "Epoch 19/30\n",
      "985/985 [==============================] - 2s 2ms/step - loss: 0.1406 - accuracy: 0.9591 - val_loss: 0.2131 - val_accuracy: 0.9420\n",
      "Epoch 20/30\n",
      "985/985 [==============================] - 2s 2ms/step - loss: 0.1365 - accuracy: 0.9612 - val_loss: 0.2201 - val_accuracy: 0.9374\n",
      "Epoch 21/30\n",
      "985/985 [==============================] - 2s 2ms/step - loss: 0.1363 - accuracy: 0.9609 - val_loss: 0.2201 - val_accuracy: 0.9395\n",
      "Epoch 22/30\n",
      "985/985 [==============================] - 2s 2ms/step - loss: 0.1332 - accuracy: 0.9615 - val_loss: 0.2098 - val_accuracy: 0.9440\n",
      "Epoch 23/30\n",
      "985/985 [==============================] - 2s 2ms/step - loss: 0.1280 - accuracy: 0.9630 - val_loss: 0.2193 - val_accuracy: 0.9400\n",
      "Epoch 24/30\n",
      "985/985 [==============================] - 2s 2ms/step - loss: 0.1326 - accuracy: 0.9624 - val_loss: 0.2196 - val_accuracy: 0.9382\n",
      "Epoch 25/30\n",
      "985/985 [==============================] - 2s 2ms/step - loss: 0.1274 - accuracy: 0.9628 - val_loss: 0.2221 - val_accuracy: 0.9423\n",
      "Epoch 26/30\n",
      "985/985 [==============================] - 2s 2ms/step - loss: 0.1251 - accuracy: 0.9646 - val_loss: 0.2218 - val_accuracy: 0.9415\n",
      "Epoch 27/30\n",
      "985/985 [==============================] - 2s 2ms/step - loss: 0.1263 - accuracy: 0.9633 - val_loss: 0.2059 - val_accuracy: 0.9446\n",
      "Epoch 28/30\n",
      "985/985 [==============================] - 2s 2ms/step - loss: 0.1224 - accuracy: 0.9648 - val_loss: 0.2201 - val_accuracy: 0.9421\n",
      "Epoch 29/30\n",
      "985/985 [==============================] - 2s 2ms/step - loss: 0.1257 - accuracy: 0.9644 - val_loss: 0.2106 - val_accuracy: 0.9461\n",
      "Epoch 30/30\n",
      "985/985 [==============================] - 2s 2ms/step - loss: 0.1224 - accuracy: 0.9653 - val_loss: 0.2254 - val_accuracy: 0.9397\n"
     ]
    }
   ],
   "source": [
    "history = model.fit(nn_x_train, nn_y_train, epochs=30,\n",
    "                   validation_data=(nn_x_validation, nn_y_validation))"
   ]
  },
  {
   "cell_type": "code",
   "execution_count": 20,
   "metadata": {
    "scrolled": true
   },
   "outputs": [
    {
     "data": {
      "text/plain": [
       "<AxesSubplot:>"
      ]
     },
     "execution_count": 20,
     "metadata": {},
     "output_type": "execute_result"
    },
    {
     "data": {
      "text/plain": [
       "(0.0, 1.0)"
      ]
     },
     "execution_count": 20,
     "metadata": {},
     "output_type": "execute_result"
    },
    {
     "data": {
      "image/png": "[encoded data removed]",
      "text/plain": [
       "<Figure size 800x500 with 1 Axes>"
      ]
     },
     "metadata": {},
     "output_type": "display_data"
    }
   ],
   "source": [
    "import pandas as pd\n",
    "import matplotlib.pyplot as plt\n",
    "\n",
    "pd.DataFrame(history.history).plot(figsize=(8, 5))\n",
    "plt.grid(True)\n",
    "plt.gca().set_ylim(0, 1) # set the vertical range to [0-1]\n",
    "plt.show()"
   ]
  },
  {
   "cell_type": "markdown",
   "metadata": {},
   "source": [
    "#### We can then use the model to predict"
   ]
  },
  {
   "cell_type": "markdown",
   "metadata": {},
   "source": [
    "The array below produces one probability per class (digit)"
   ]
  },
  {
   "cell_type": "code",
   "execution_count": 21,
   "metadata": {
    "scrolled": false
   },
   "outputs": [
    {
     "name": "stdout",
     "output_type": "stream",
     "text": [
      "875/875 [==============================] - 1s 990us/step\n"
     ]
    },
    {
     "data": {
      "text/plain": [
       "array([[0.  , 0.  , 1.  , ..., 0.  , 0.  , 0.  ],\n",
       "       [1.  , 0.  , 0.  , ..., 0.  , 0.  , 0.  ],\n",
       "       [0.  , 0.01, 0.  , ..., 0.05, 0.21, 0.39],\n",
       "       ...,\n",
       "       [0.  , 0.  , 0.  , ..., 0.  , 0.  , 0.  ],\n",
       "       [0.  , 0.  , 0.  , ..., 0.  , 0.  , 0.99],\n",
       "       [0.  , 0.  , 0.99, ..., 0.  , 0.  , 0.  ]], dtype=float32)"
      ]
     },
     "execution_count": 21,
     "metadata": {},
     "output_type": "execute_result"
    }
   ],
   "source": [
    "ypred = model.predict(nn_test_scaled_df)\n",
    "\n",
    "y_proba = ypred.round(2)\n",
    "\n",
    "y_proba"
   ]
  },
  {
   "cell_type": "markdown",
   "metadata": {},
   "source": [
    "Below are two ways to show the class with the highest estimated probability:"
   ]
  },
  {
   "cell_type": "code",
   "execution_count": 22,
   "metadata": {
    "scrolled": false
   },
   "outputs": [
    {
     "data": {
      "text/plain": [
       "array([2, 0, 9, ..., 3, 9, 2], dtype=int64)"
      ]
     },
     "execution_count": 22,
     "metadata": {},
     "output_type": "execute_result"
    }
   ],
   "source": [
    "classes_x=np.argmax(ypred,axis=1)\n",
    "classes_x"
   ]
  },
  {
   "cell_type": "code",
   "execution_count": 23,
   "metadata": {
    "scrolled": true
   },
   "outputs": [
    {
     "data": {
      "text/plain": [
       "array(['2', '0', '9', ..., '3', '9', '2'], dtype='<U1')"
      ]
     },
     "execution_count": 23,
     "metadata": {},
     "output_type": "execute_result"
    }
   ],
   "source": [
    "class_names = [\"0\", \"1\", \"2\", \"3\", \"4\", \"5\", \"6\", \"7\", \"8\", \"9\"]\n",
    "np.array(class_names)[classes_x]"
   ]
  },
  {
   "cell_type": "markdown",
   "metadata": {},
   "source": [
    "#### Accuracy and loss values for training data"
   ]
  },
  {
   "cell_type": "code",
   "execution_count": 24,
   "metadata": {},
   "outputs": [
    {
     "name": "stdout",
     "output_type": "stream",
     "text": [
      "985/985 [==============================] - 1s 1ms/step - loss: 0.1198 - accuracy: 0.9654\n",
      "Accuracy: 0.9653650522232056\n",
      "Loss: 0.11980774998664856\n"
     ]
    }
   ],
   "source": [
    "loss, accuracy = model.evaluate(nn_x_train, nn_y_train)\n",
    "print(\"Accuracy:\", accuracy)\n",
    "print(\"Loss:\", loss)"
   ]
  },
  {
   "cell_type": "markdown",
   "metadata": {},
   "source": [
    "#### Accuracy and loss values for validation data"
   ]
  },
  {
   "cell_type": "code",
   "execution_count": 25,
   "metadata": {},
   "outputs": [
    {
     "name": "stdout",
     "output_type": "stream",
     "text": [
      "329/329 [==============================] - 0s 1ms/step - loss: 0.2254 - accuracy: 0.9397\n",
      "Accuracy: 0.9397143125534058\n",
      "Loss: 0.2254227101802826\n"
     ]
    }
   ],
   "source": [
    "loss, accuracy = model.evaluate(nn_x_validation, nn_y_validation)\n",
    "print(\"Accuracy:\", accuracy)\n",
    "print(\"Loss:\", loss)"
   ]
  },
  {
   "cell_type": "markdown",
   "metadata": {},
   "source": [
    "#### Confusion Matrix"
   ]
  },
  {
   "cell_type": "code",
   "execution_count": null,
   "metadata": {},
   "outputs": [],
   "source": []
  },
  {
   "cell_type": "markdown",
   "metadata": {},
   "source": [
    "Let's display the Kaggle results from the application of the Sequential API model on the test dataset:\n",
    "\n",
    "- Loss function: <b>sparse categorical cross-entropy</b>\n",
    "- Optimization method: <b>RMS prop, learning rate set to 0.01</b>\n",
    "- Evaluation metric: <b>accuracy</b>"
   ]
  },
  {
   "cell_type": "code",
   "execution_count": 26,
   "metadata": {},
   "outputs": [],
   "source": [
    "# Display the kaggle results associated with this model\n",
    "#import matplotlib.pyplot as plt\n",
    "#plt.figure(figsize = (15, 15))\n",
    "#kaggle_results = plt.imread('.png')\n",
    "#plt.imshow(kaggle_results)\n",
    "#plt.axis(\"off\")\n",
    "#plt.show()"
   ]
  },
  {
   "cell_type": "markdown",
   "metadata": {},
   "source": [
    "### Compile the Sequential API model and specify the loss function and optimizer:\n",
    "\n",
    "- Loss function: <b>sparse categorical cross-entropy</b>\n",
    "- Optimization method: <b>Adagrad, learning rate set to 0.1</b>\n",
    "- Evaluation metric: <b>accuracy</b>"
   ]
  },
  {
   "cell_type": "code",
   "execution_count": 27,
   "metadata": {},
   "outputs": [],
   "source": [
    "model.compile(loss=\"sparse_categorical_crossentropy\",\n",
    "              optimizer=keras.optimizers.Adagrad(learning_rate=0.1),\n",
    "              metrics=[\"accuracy\"])"
   ]
  },
  {
   "cell_type": "markdown",
   "metadata": {},
   "source": [
    "#### Now the model is ready to be trained"
   ]
  },
  {
   "cell_type": "code",
   "execution_count": 28,
   "metadata": {},
   "outputs": [
    {
     "name": "stdout",
     "output_type": "stream",
     "text": [
      "Epoch 1/30\n",
      "985/985 [==============================] - 2s 2ms/step - loss: 0.0915 - accuracy: 0.9742 - val_loss: 0.2013 - val_accuracy: 0.9449\n",
      "Epoch 2/30\n",
      "985/985 [==============================] - 2s 2ms/step - loss: 0.0755 - accuracy: 0.9784 - val_loss: 0.1951 - val_accuracy: 0.9470\n",
      "Epoch 3/30\n",
      "985/985 [==============================] - 2s 2ms/step - loss: 0.0682 - accuracy: 0.9807 - val_loss: 0.2012 - val_accuracy: 0.9474\n",
      "Epoch 4/30\n",
      "985/985 [==============================] - 2s 2ms/step - loss: 0.0633 - accuracy: 0.9819 - val_loss: 0.2025 - val_accuracy: 0.9474\n",
      "Epoch 5/30\n",
      "985/985 [==============================] - 2s 2ms/step - loss: 0.0597 - accuracy: 0.9837 - val_loss: 0.2056 - val_accuracy: 0.9458\n",
      "Epoch 6/30\n",
      "985/985 [==============================] - 2s 2ms/step - loss: 0.0570 - accuracy: 0.9845 - val_loss: 0.2073 - val_accuracy: 0.9461\n",
      "Epoch 7/30\n",
      "985/985 [==============================] - 2s 2ms/step - loss: 0.0548 - accuracy: 0.9849 - val_loss: 0.2102 - val_accuracy: 0.9448\n",
      "Epoch 8/30\n",
      "985/985 [==============================] - 2s 2ms/step - loss: 0.0525 - accuracy: 0.9863 - val_loss: 0.2120 - val_accuracy: 0.9459\n",
      "Epoch 9/30\n",
      "985/985 [==============================] - 2s 2ms/step - loss: 0.0513 - accuracy: 0.9864 - val_loss: 0.2114 - val_accuracy: 0.9472\n",
      "Epoch 10/30\n",
      "985/985 [==============================] - 2s 2ms/step - loss: 0.0494 - accuracy: 0.9871 - val_loss: 0.2152 - val_accuracy: 0.9448\n",
      "Epoch 11/30\n",
      "985/985 [==============================] - 2s 2ms/step - loss: 0.0484 - accuracy: 0.9871 - val_loss: 0.2157 - val_accuracy: 0.9450\n",
      "Epoch 12/30\n",
      "985/985 [==============================] - 2s 2ms/step - loss: 0.0473 - accuracy: 0.9878 - val_loss: 0.2170 - val_accuracy: 0.9462\n",
      "Epoch 13/30\n",
      "985/985 [==============================] - 2s 2ms/step - loss: 0.0463 - accuracy: 0.9876 - val_loss: 0.2176 - val_accuracy: 0.9459\n",
      "Epoch 14/30\n",
      "985/985 [==============================] - 2s 2ms/step - loss: 0.0454 - accuracy: 0.9883 - val_loss: 0.2201 - val_accuracy: 0.9450\n",
      "Epoch 15/30\n",
      "985/985 [==============================] - 2s 2ms/step - loss: 0.0449 - accuracy: 0.9886 - val_loss: 0.2197 - val_accuracy: 0.9453\n",
      "Epoch 16/30\n",
      "985/985 [==============================] - 2s 2ms/step - loss: 0.0442 - accuracy: 0.9885 - val_loss: 0.2214 - val_accuracy: 0.9465\n",
      "Epoch 17/30\n",
      "985/985 [==============================] - 2s 2ms/step - loss: 0.0436 - accuracy: 0.9887 - val_loss: 0.2234 - val_accuracy: 0.9462\n",
      "Epoch 18/30\n",
      "985/985 [==============================] - 2s 2ms/step - loss: 0.0431 - accuracy: 0.9888 - val_loss: 0.2230 - val_accuracy: 0.9460\n",
      "Epoch 19/30\n",
      "985/985 [==============================] - 2s 2ms/step - loss: 0.0425 - accuracy: 0.9890 - val_loss: 0.2255 - val_accuracy: 0.9458\n",
      "Epoch 20/30\n",
      "985/985 [==============================] - 2s 2ms/step - loss: 0.0422 - accuracy: 0.9892 - val_loss: 0.2263 - val_accuracy: 0.9456\n",
      "Epoch 21/30\n",
      "985/985 [==============================] - 2s 2ms/step - loss: 0.0417 - accuracy: 0.9892 - val_loss: 0.2271 - val_accuracy: 0.9456\n",
      "Epoch 22/30\n",
      "985/985 [==============================] - 2s 2ms/step - loss: 0.0410 - accuracy: 0.9894 - val_loss: 0.2268 - val_accuracy: 0.9463\n",
      "Epoch 23/30\n",
      "985/985 [==============================] - 2s 2ms/step - loss: 0.0405 - accuracy: 0.9895 - val_loss: 0.2276 - val_accuracy: 0.9456\n",
      "Epoch 24/30\n",
      "985/985 [==============================] - 2s 2ms/step - loss: 0.0401 - accuracy: 0.9898 - val_loss: 0.2286 - val_accuracy: 0.9458\n",
      "Epoch 25/30\n",
      "985/985 [==============================] - 2s 2ms/step - loss: 0.0397 - accuracy: 0.9897 - val_loss: 0.2294 - val_accuracy: 0.9455\n",
      "Epoch 26/30\n",
      "985/985 [==============================] - 2s 2ms/step - loss: 0.0396 - accuracy: 0.9900 - val_loss: 0.2305 - val_accuracy: 0.9457\n",
      "Epoch 27/30\n",
      "985/985 [==============================] - 2s 2ms/step - loss: 0.0392 - accuracy: 0.9903 - val_loss: 0.2315 - val_accuracy: 0.9460\n",
      "Epoch 28/30\n",
      "985/985 [==============================] - 2s 2ms/step - loss: 0.0388 - accuracy: 0.9906 - val_loss: 0.2319 - val_accuracy: 0.9463\n",
      "Epoch 29/30\n",
      "985/985 [==============================] - 2s 2ms/step - loss: 0.0385 - accuracy: 0.9904 - val_loss: 0.2321 - val_accuracy: 0.9454\n",
      "Epoch 30/30\n",
      "985/985 [==============================] - 2s 2ms/step - loss: 0.0383 - accuracy: 0.9906 - val_loss: 0.2331 - val_accuracy: 0.9450\n"
     ]
    }
   ],
   "source": [
    "history = model.fit(nn_x_train, nn_y_train, epochs=30,\n",
    "                   validation_data=(nn_x_validation, nn_y_validation))"
   ]
  },
  {
   "cell_type": "code",
   "execution_count": 29,
   "metadata": {
    "scrolled": false
   },
   "outputs": [
    {
     "data": {
      "text/plain": [
       "<AxesSubplot:>"
      ]
     },
     "execution_count": 29,
     "metadata": {},
     "output_type": "execute_result"
    },
    {
     "data": {
      "text/plain": [
       "(0.0, 1.0)"
      ]
     },
     "execution_count": 29,
     "metadata": {},
     "output_type": "execute_result"
    },
    {
     "data": {
      "image/png": "[encoded data removed]",
      "text/plain": [
       "<Figure size 800x500 with 1 Axes>"
      ]
     },
     "metadata": {},
     "output_type": "display_data"
    }
   ],
   "source": [
    "import pandas as pd\n",
    "import matplotlib.pyplot as plt\n",
    "\n",
    "pd.DataFrame(history.history).plot(figsize=(8, 5))\n",
    "plt.grid(True)\n",
    "plt.gca().set_ylim(0, 1) # set the vertical range to [0-1]\n",
    "plt.show()"
   ]
  },
  {
   "cell_type": "markdown",
   "metadata": {},
   "source": [
    "#### We can then use the model to predict"
   ]
  },
  {
   "cell_type": "markdown",
   "metadata": {},
   "source": [
    "The array below produces one probability per class (digit)"
   ]
  },
  {
   "cell_type": "code",
   "execution_count": 30,
   "metadata": {
    "scrolled": false
   },
   "outputs": [
    {
     "name": "stdout",
     "output_type": "stream",
     "text": [
      "875/875 [==============================] - 1s 1ms/step\n"
     ]
    },
    {
     "data": {
      "text/plain": [
       "array([[0.  , 0.  , 1.  , ..., 0.  , 0.  , 0.  ],\n",
       "       [0.99, 0.  , 0.  , ..., 0.  , 0.  , 0.  ],\n",
       "       [0.  , 0.01, 0.  , ..., 0.  , 0.  , 0.89],\n",
       "       ...,\n",
       "       [0.  , 0.  , 0.  , ..., 0.  , 0.  , 0.  ],\n",
       "       [0.  , 0.  , 0.  , ..., 0.  , 0.  , 1.  ],\n",
       "       [0.  , 0.  , 1.  , ..., 0.  , 0.  , 0.  ]], dtype=float32)"
      ]
     },
     "execution_count": 30,
     "metadata": {},
     "output_type": "execute_result"
    }
   ],
   "source": [
    "ypred = model.predict(nn_test_scaled_df)\n",
    "\n",
    "y_proba = ypred.round(2)\n",
    "\n",
    "y_proba"
   ]
  },
  {
   "cell_type": "markdown",
   "metadata": {},
   "source": [
    "Below are two ways to show the class with the highest estimated probability:"
   ]
  },
  {
   "cell_type": "code",
   "execution_count": 31,
   "metadata": {
    "scrolled": false
   },
   "outputs": [
    {
     "data": {
      "text/plain": [
       "array([2, 0, 9, ..., 3, 9, 2], dtype=int64)"
      ]
     },
     "execution_count": 31,
     "metadata": {},
     "output_type": "execute_result"
    }
   ],
   "source": [
    "classes_x=np.argmax(ypred,axis=1)\n",
    "classes_x"
   ]
  },
  {
   "cell_type": "code",
   "execution_count": 32,
   "metadata": {},
   "outputs": [
    {
     "data": {
      "text/plain": [
       "array(['2', '0', '9', ..., '3', '9', '2'], dtype='<U1')"
      ]
     },
     "execution_count": 32,
     "metadata": {},
     "output_type": "execute_result"
    }
   ],
   "source": [
    "class_names = [\"0\", \"1\", \"2\", \"3\", \"4\", \"5\", \"6\", \"7\", \"8\", \"9\"]\n",
    "np.array(class_names)[classes_x]"
   ]
  },
  {
   "cell_type": "markdown",
   "metadata": {},
   "source": [
    "#### Accuracy and loss values for training data"
   ]
  },
  {
   "cell_type": "code",
   "execution_count": 33,
   "metadata": {},
   "outputs": [
    {
     "name": "stdout",
     "output_type": "stream",
     "text": [
      "985/985 [==============================] - 1s 1ms/step - loss: 0.0370 - accuracy: 0.9908\n",
      "Accuracy: 0.9908254146575928\n",
      "Loss: 0.03702748194336891\n"
     ]
    }
   ],
   "source": [
    "loss, accuracy = model.evaluate(nn_x_train, nn_y_train)\n",
    "print(\"Accuracy:\", accuracy)\n",
    "print(\"Loss:\", loss)"
   ]
  },
  {
   "cell_type": "markdown",
   "metadata": {},
   "source": [
    "#### Accuracy and loss values for validation data"
   ]
  },
  {
   "cell_type": "code",
   "execution_count": 34,
   "metadata": {},
   "outputs": [
    {
     "name": "stdout",
     "output_type": "stream",
     "text": [
      "329/329 [==============================] - 0s 1ms/step - loss: 0.2331 - accuracy: 0.9450\n",
      "Accuracy: 0.9450476169586182\n",
      "Loss: 0.23309732973575592\n"
     ]
    }
   ],
   "source": [
    "loss, accuracy = model.evaluate(nn_x_validation, nn_y_validation)\n",
    "print(\"Accuracy:\", accuracy)\n",
    "print(\"Loss:\", loss)"
   ]
  },
  {
   "cell_type": "markdown",
   "metadata": {},
   "source": [
    "#### Confusion matrix"
   ]
  },
  {
   "cell_type": "code",
   "execution_count": null,
   "metadata": {},
   "outputs": [],
   "source": []
  },
  {
   "cell_type": "markdown",
   "metadata": {},
   "source": [
    "Let's display the Kaggle results from the application of the Sequential API model on the test dataset:\n",
    "\n",
    "- Loss function: <b>sparse categorical cross-entropy</b>\n",
    "- Optimization method: <b>Adagrad, learning rate set to 0.1</b>\n",
    "- Evaluation metric: <b>accuracy</b>"
   ]
  },
  {
   "cell_type": "code",
   "execution_count": 35,
   "metadata": {},
   "outputs": [],
   "source": [
    "# Display the kaggle results associated with this model\n",
    "#import matplotlib.pyplot as plt\n",
    "#plt.figure(figsize = (15, 15))\n",
    "#kaggle_results = plt.imread('.png')\n",
    "#plt.imshow(kaggle_results)\n",
    "#plt.axis(\"off\")\n",
    "#plt.show()"
   ]
  },
  {
   "cell_type": "markdown",
   "metadata": {},
   "source": [
    "## Create a Sequential API model utilizing RELU activation method"
   ]
  },
  {
   "cell_type": "code",
   "execution_count": 36,
   "metadata": {},
   "outputs": [],
   "source": [
    "model = keras.models.Sequential([\n",
    "    keras.layers.Flatten(input_shape=[784,]),\n",
    "    keras.layers.Dense(20, activation=\"relu\"),\n",
    "    keras.layers.Dense(20, activation=\"relu\"),\n",
    "    keras.layers.Dense(10, activation=\"softmax\")\n",
    "])"
   ]
  },
  {
   "cell_type": "code",
   "execution_count": 37,
   "metadata": {},
   "outputs": [
    {
     "name": "stdout",
     "output_type": "stream",
     "text": [
      "Model: \"sequential_1\"\n",
      "_________________________________________________________________\n",
      " Layer (type)                Output Shape              Param #   \n",
      "=================================================================\n",
      " flatten_1 (Flatten)         (None, 784)               0         \n",
      "                                                                 \n",
      " dense_3 (Dense)             (None, 20)                15700     \n",
      "                                                                 \n",
      " dense_4 (Dense)             (None, 20)                420       \n",
      "                                                                 \n",
      " dense_5 (Dense)             (None, 10)                210       \n",
      "                                                                 \n",
      "=================================================================\n",
      "Total params: 16,330\n",
      "Trainable params: 16,330\n",
      "Non-trainable params: 0\n",
      "_________________________________________________________________\n"
     ]
    }
   ],
   "source": [
    "model.summary()"
   ]
  },
  {
   "cell_type": "code",
   "execution_count": 38,
   "metadata": {},
   "outputs": [
    {
     "data": {
      "text/plain": [
       "[<keras.layers.reshaping.flatten.Flatten at 0x19cbd003220>,\n",
       " <keras.layers.core.dense.Dense at 0x19cbd003790>,\n",
       " <keras.layers.core.dense.Dense at 0x19cbd003040>,\n",
       " <keras.layers.core.dense.Dense at 0x19cbd003130>]"
      ]
     },
     "execution_count": 38,
     "metadata": {},
     "output_type": "execute_result"
    }
   ],
   "source": [
    "model.layers"
   ]
  },
  {
   "cell_type": "markdown",
   "metadata": {},
   "source": [
    "#### Examine the weights and biases of Hidden Layer 1"
   ]
  },
  {
   "cell_type": "code",
   "execution_count": 39,
   "metadata": {
    "scrolled": true
   },
   "outputs": [
    {
     "data": {
      "text/plain": [
       "array([[-0.03979247,  0.04281363,  0.05254355, ..., -0.03678064,\n",
       "         0.04354841, -0.07401411],\n",
       "       [-0.03818677, -0.01641221, -0.0067735 , ...,  0.03408412,\n",
       "        -0.06768759, -0.06182778],\n",
       "       [ 0.01679847, -0.0574919 , -0.04084401, ..., -0.07583979,\n",
       "        -0.00075091, -0.06602461],\n",
       "       ...,\n",
       "       [ 0.02339515, -0.01881402,  0.06827503, ..., -0.04605354,\n",
       "         0.02058062,  0.08486018],\n",
       "       [ 0.03087426,  0.02670233, -0.02150353, ...,  0.04234841,\n",
       "         0.06985018,  0.03585381],\n",
       "       [ 0.01518469,  0.07592402,  0.03056587, ..., -0.05865112,\n",
       "         0.0355487 , -0.0219681 ]], dtype=float32)"
      ]
     },
     "execution_count": 39,
     "metadata": {},
     "output_type": "execute_result"
    },
    {
     "data": {
      "text/plain": [
       "(784, 20)"
      ]
     },
     "execution_count": 39,
     "metadata": {},
     "output_type": "execute_result"
    },
    {
     "data": {
      "text/plain": [
       "array([0., 0., 0., 0., 0., 0., 0., 0., 0., 0., 0., 0., 0., 0., 0., 0., 0.,\n",
       "       0., 0., 0.], dtype=float32)"
      ]
     },
     "execution_count": 39,
     "metadata": {},
     "output_type": "execute_result"
    },
    {
     "data": {
      "text/plain": [
       "(20,)"
      ]
     },
     "execution_count": 39,
     "metadata": {},
     "output_type": "execute_result"
    }
   ],
   "source": [
    "weights, biases = model.layers[1].get_weights()\n",
    "\n",
    "weights\n",
    "\n",
    "weights.shape\n",
    "\n",
    "biases\n",
    "\n",
    "biases.shape"
   ]
  },
  {
   "cell_type": "markdown",
   "metadata": {},
   "source": [
    "#### Examine the weights and biases of Hidden Layer 2"
   ]
  },
  {
   "cell_type": "code",
   "execution_count": 40,
   "metadata": {},
   "outputs": [
    {
     "data": {
      "text/plain": [
       "array([[ 0.00764143, -0.34899175, -0.3054614 , -0.14467518, -0.10968152,\n",
       "         0.19741613,  0.36031878,  0.23396176,  0.2269885 ,  0.15340674,\n",
       "         0.07932097,  0.15411556,  0.3755085 , -0.26812539, -0.09384489,\n",
       "         0.03225303,  0.32333255,  0.08503556, -0.11971831, -0.08072177],\n",
       "       [-0.15443736, -0.019137  ,  0.1889407 ,  0.24003631, -0.2219754 ,\n",
       "        -0.07670453,  0.01307401, -0.11175692,  0.1704126 ,  0.01831067,\n",
       "        -0.17758088, -0.12256902, -0.12644634,  0.10247388, -0.16840522,\n",
       "        -0.17573187,  0.09597895,  0.17649102,  0.32489216, -0.19727486],\n",
       "       [ 0.22062975, -0.19756787, -0.19619228,  0.29492617, -0.12241232,\n",
       "        -0.3304566 ,  0.18560153, -0.38271657,  0.18384588,  0.21007574,\n",
       "        -0.01481998,  0.14551252, -0.03626481,  0.30620694, -0.10323033,\n",
       "         0.36442107, -0.3561025 ,  0.33644563,  0.18293315,  0.27569914],\n",
       "       [ 0.2783491 ,  0.32727146,  0.19030058, -0.01746833, -0.37611747,\n",
       "         0.14141828,  0.30225688,  0.05925244,  0.29479313, -0.01081014,\n",
       "         0.22819114, -0.3780769 ,  0.1591897 , -0.38458866,  0.19366837,\n",
       "        -0.26125064,  0.10099092,  0.1496346 ,  0.24375808, -0.08256051],\n",
       "       [-0.1890891 , -0.28564414, -0.30769622,  0.20602536,  0.23465717,\n",
       "        -0.32170767,  0.3626883 , -0.34407356, -0.07141969, -0.00073224,\n",
       "        -0.19136   , -0.07150355,  0.1135909 ,  0.12470555, -0.1560196 ,\n",
       "        -0.19816336,  0.02481511,  0.34028804,  0.32786655, -0.12143001],\n",
       "       [-0.24197264,  0.13331813, -0.29655522, -0.00373337,  0.17505836,\n",
       "         0.38693315, -0.24067518,  0.3709606 , -0.09004644,  0.0893296 ,\n",
       "        -0.18385577,  0.15214008, -0.19331509, -0.09010074, -0.22337812,\n",
       "        -0.15278533, -0.30511025,  0.32785058,  0.11130464, -0.23749982],\n",
       "       [ 0.00856179,  0.1998601 , -0.26802355, -0.16199107, -0.33317554,\n",
       "        -0.06663319,  0.17265946,  0.15535879, -0.01905242, -0.25464267,\n",
       "         0.14260578, -0.33512795,  0.16446066, -0.18066159,  0.21852976,\n",
       "         0.11806625,  0.3137591 , -0.08495829, -0.27221638,  0.23414302],\n",
       "       [-0.10787407,  0.28761375,  0.11728251, -0.07585806, -0.20456217,\n",
       "        -0.31148377, -0.37693226,  0.35867792,  0.32707942, -0.24693236,\n",
       "         0.16620624,  0.20765537,  0.27830058,  0.03143898, -0.3265826 ,\n",
       "         0.18699759, -0.11101878, -0.08446139, -0.14812331, -0.20310165],\n",
       "       [ 0.35562307,  0.11299926,  0.11934525, -0.20102873,  0.38657337,\n",
       "         0.31041044,  0.3179719 ,  0.35414964, -0.33214962,  0.15791345,\n",
       "        -0.02004305, -0.09869418,  0.3332939 , -0.04325193, -0.03967738,\n",
       "         0.24376827, -0.1658684 ,  0.37041527,  0.33358526,  0.21927404],\n",
       "       [-0.2584777 ,  0.2638774 , -0.11692572, -0.22816074, -0.33313313,\n",
       "        -0.06926596, -0.05568159, -0.36150876,  0.30971074,  0.18527299,\n",
       "         0.08241719,  0.36464167,  0.22432005,  0.36092758, -0.3455181 ,\n",
       "        -0.27346444, -0.11765176,  0.21416634,  0.3027388 , -0.21678105],\n",
       "       [-0.3002386 , -0.01549193,  0.08711523,  0.27932   ,  0.11984086,\n",
       "         0.19068414, -0.16582121,  0.29655755, -0.02407151, -0.27988496,\n",
       "         0.0162167 ,  0.19098914,  0.02866113, -0.25819236,  0.10429114,\n",
       "        -0.3733447 , -0.18785489, -0.3777297 , -0.10126933,  0.02370197],\n",
       "       [-0.25945115,  0.30352515,  0.16930276,  0.01254687,  0.09269768,\n",
       "         0.30373347,  0.18670923,  0.00048089,  0.18468875, -0.34093267,\n",
       "         0.1042951 , -0.12074402, -0.2554791 , -0.16179273,  0.02960208,\n",
       "        -0.1813099 ,  0.09989238, -0.35504678, -0.3804936 , -0.3124719 ],\n",
       "       [-0.12619463,  0.21546274, -0.3663477 , -0.043751  ,  0.17313087,\n",
       "        -0.09180698, -0.23982252, -0.34722114, -0.31810477,  0.29923046,\n",
       "         0.16121554, -0.2172963 , -0.1476762 ,  0.29117376, -0.04951501,\n",
       "        -0.2092373 , -0.3732977 , -0.12409511,  0.05738157,  0.1680333 ],\n",
       "       [ 0.12570173,  0.08288202, -0.35427898, -0.33633545,  0.35164803,\n",
       "         0.3198167 ,  0.3850072 , -0.02097863, -0.35521382,  0.29358244,\n",
       "         0.10632083,  0.2238698 , -0.25506884, -0.21300557,  0.15855253,\n",
       "        -0.3029819 , -0.02602485, -0.24205647, -0.32401714,  0.2174918 ],\n",
       "       [-0.3834297 ,  0.32775015, -0.2956041 ,  0.23184884,  0.21468067,\n",
       "         0.23259383, -0.14470363,  0.14087957,  0.26015013,  0.0124546 ,\n",
       "         0.2883193 ,  0.15279317, -0.12321731, -0.20495555,  0.36603928,\n",
       "         0.09090778, -0.07579213, -0.34663802, -0.02983367, -0.37571153],\n",
       "       [ 0.2698729 ,  0.24932283,  0.2650481 , -0.04477099,  0.16907573,\n",
       "        -0.07414064,  0.21925664,  0.34392536, -0.3610574 , -0.24059364,\n",
       "         0.3226905 , -0.21211533, -0.19025081, -0.2954911 ,  0.11205417,\n",
       "        -0.00239408,  0.12517512, -0.2929199 , -0.10160092,  0.3790518 ],\n",
       "       [ 0.21871138, -0.2863329 , -0.30405822, -0.081976  , -0.00105479,\n",
       "        -0.0524092 ,  0.32507038, -0.06196129, -0.24514449,  0.23013419,\n",
       "         0.08737487, -0.14899038, -0.34000373,  0.28265458,  0.09568086,\n",
       "         0.2514432 , -0.02778393,  0.18127924,  0.11546248,  0.10781249],\n",
       "       [-0.30179787,  0.2405625 , -0.17674807,  0.1609624 , -0.31117165,\n",
       "         0.24775195, -0.22001708, -0.00594619, -0.27679816, -0.17989646,\n",
       "         0.26868182,  0.35418618, -0.34396192, -0.2536925 , -0.23078622,\n",
       "         0.22637951, -0.07543755, -0.19965915,  0.13530588,  0.16948283],\n",
       "       [ 0.268642  , -0.04199186, -0.09822944, -0.05944782, -0.3369667 ,\n",
       "        -0.09784919, -0.2983728 , -0.00234044, -0.2942207 ,  0.11806554,\n",
       "         0.27266896,  0.1290794 , -0.2538867 , -0.36522532,  0.16608113,\n",
       "         0.04052809, -0.17704143,  0.12688035, -0.18797937,  0.03557974],\n",
       "       [-0.00047037,  0.21756166,  0.26817507,  0.1062105 ,  0.10636607,\n",
       "        -0.31875724, -0.01811427, -0.29735026,  0.33950067, -0.3283641 ,\n",
       "         0.06639126, -0.18222035, -0.10648355, -0.15830444,  0.18900943,\n",
       "         0.10567316, -0.2051635 ,  0.2960223 , -0.20399281,  0.08382037]],\n",
       "      dtype=float32)"
      ]
     },
     "execution_count": 40,
     "metadata": {},
     "output_type": "execute_result"
    },
    {
     "data": {
      "text/plain": [
       "(20, 20)"
      ]
     },
     "execution_count": 40,
     "metadata": {},
     "output_type": "execute_result"
    },
    {
     "data": {
      "text/plain": [
       "array([0., 0., 0., 0., 0., 0., 0., 0., 0., 0., 0., 0., 0., 0., 0., 0., 0.,\n",
       "       0., 0., 0.], dtype=float32)"
      ]
     },
     "execution_count": 40,
     "metadata": {},
     "output_type": "execute_result"
    },
    {
     "data": {
      "text/plain": [
       "(20,)"
      ]
     },
     "execution_count": 40,
     "metadata": {},
     "output_type": "execute_result"
    }
   ],
   "source": [
    "weights, biases = model.layers[2].get_weights()\n",
    "\n",
    "weights\n",
    "\n",
    "weights.shape\n",
    "\n",
    "biases\n",
    "\n",
    "biases.shape"
   ]
  },
  {
   "cell_type": "markdown",
   "metadata": {},
   "source": [
    "#### Examine the weights and biases of Layer 3"
   ]
  },
  {
   "cell_type": "code",
   "execution_count": 41,
   "metadata": {},
   "outputs": [
    {
     "data": {
      "text/plain": [
       "array([[-1.10205948e-01,  3.38503242e-01,  1.52845144e-01,\n",
       "         3.10721695e-01,  1.88794076e-01,  1.62791193e-01,\n",
       "        -1.17220432e-01,  8.14648867e-02,  4.07818973e-01,\n",
       "        -2.86190510e-01],\n",
       "       [ 5.85073829e-02,  3.77504528e-01, -2.98117042e-01,\n",
       "         2.88956463e-01,  4.07948554e-01, -8.56868029e-02,\n",
       "         1.40638292e-01,  7.75764585e-02,  2.05348790e-01,\n",
       "        -2.90280193e-01],\n",
       "       [ 3.27653587e-01,  3.60073745e-01, -1.22879297e-01,\n",
       "        -1.42733842e-01, -4.31077868e-01, -3.33747506e-01,\n",
       "        -3.53607059e-01,  7.37733841e-02, -4.26989794e-02,\n",
       "         1.49662197e-01],\n",
       "       [ 2.60838211e-01,  1.13839626e-01,  1.68418646e-01,\n",
       "        -4.11001295e-01, -1.51070148e-01, -1.37736917e-01,\n",
       "        -3.06604624e-01, -1.61015093e-02,  3.71852040e-01,\n",
       "         5.64956069e-02],\n",
       "       [ 1.92616522e-01,  4.35427487e-01,  2.01382697e-01,\n",
       "         7.24178553e-03, -2.70731747e-01,  1.02239311e-01,\n",
       "         4.33010221e-01, -1.40573531e-01, -4.23397094e-01,\n",
       "        -3.44616860e-01],\n",
       "       [ 7.52208829e-02,  3.37415934e-02,  3.24965417e-01,\n",
       "        -5.12090623e-02, -1.79583758e-01,  2.72836804e-01,\n",
       "         2.48477280e-01,  4.67743576e-02, -2.35933378e-01,\n",
       "         2.71788836e-01],\n",
       "       [ 3.71943772e-01,  2.38551021e-01,  8.30721855e-02,\n",
       "        -1.27231896e-01, -7.76597261e-02,  4.34239030e-01,\n",
       "         2.76573122e-01, -3.45402360e-01, -3.58421475e-01,\n",
       "         3.04992914e-01],\n",
       "       [ 3.07343543e-01, -1.82100296e-01,  4.46379483e-02,\n",
       "        -3.33831400e-01, -4.18546766e-01, -3.88078719e-01,\n",
       "         2.11300135e-01,  6.65894747e-02,  1.70640111e-01,\n",
       "         3.06712747e-01],\n",
       "       [ 3.86252820e-01,  1.64274991e-01, -3.45127165e-01,\n",
       "         2.55590916e-01,  3.06391060e-01, -1.39881879e-01,\n",
       "        -1.13652378e-01, -6.61798418e-02,  2.96327055e-01,\n",
       "        -3.96916062e-01],\n",
       "       [ 2.59282887e-01, -2.80145466e-01, -3.86537045e-01,\n",
       "         1.04100347e-01, -2.94995636e-01, -1.32264227e-01,\n",
       "         5.89243770e-02, -3.85222286e-01, -4.43362117e-01,\n",
       "        -3.03706497e-01],\n",
       "       [ 2.20716000e-04, -1.32341743e-01,  2.39339471e-03,\n",
       "         4.43200588e-01,  3.85064185e-02,  1.72161222e-01,\n",
       "         2.84343243e-01, -2.60837793e-01,  4.34171140e-01,\n",
       "         2.21128643e-01],\n",
       "       [ 1.96405172e-01,  3.36833537e-01, -3.88042897e-01,\n",
       "        -5.26454151e-02,  2.55570412e-02,  1.96398914e-01,\n",
       "         8.25458765e-02,  4.16368306e-01, -1.64896727e-01,\n",
       "         2.39781022e-01],\n",
       "       [ 2.63751090e-01,  7.62267709e-02, -4.03370529e-01,\n",
       "        -1.50919169e-01, -7.39949346e-02, -1.20963782e-01,\n",
       "         5.01401722e-02, -4.85670269e-02, -2.63506472e-02,\n",
       "         3.21253598e-01],\n",
       "       [ 2.57392228e-01, -2.26779073e-01,  4.28586066e-01,\n",
       "         1.04247272e-01, -6.78274930e-02,  1.42304718e-01,\n",
       "        -1.88588053e-01,  2.62142420e-01, -3.18287313e-01,\n",
       "         2.37607837e-01],\n",
       "       [ 8.44530463e-02, -4.12862003e-02, -5.62485456e-02,\n",
       "         3.98679733e-01,  2.32878089e-01, -1.24650955e-01,\n",
       "        -3.69564205e-01, -6.32541776e-02,  4.16353405e-01,\n",
       "         1.53099298e-02],\n",
       "       [ 4.23958898e-01,  4.03609037e-01, -2.57029891e-01,\n",
       "         4.52671349e-02, -3.48214805e-02, -9.93135571e-02,\n",
       "        -3.18932831e-02,  2.83375859e-01,  3.41472745e-01,\n",
       "        -1.27606362e-01],\n",
       "       [-4.34163034e-01, -1.11080378e-01, -1.61027223e-01,\n",
       "        -2.13499904e-01, -2.61558354e-01,  9.66523290e-02,\n",
       "         4.08594608e-01, -3.54254603e-01, -1.74433500e-01,\n",
       "        -1.02025449e-01],\n",
       "       [-2.77305216e-01,  1.84592962e-01, -1.90234870e-01,\n",
       "        -3.80549729e-02,  2.73194849e-01, -3.75434726e-01,\n",
       "         2.39870071e-01,  2.92896330e-01,  2.82933891e-01,\n",
       "         3.66562605e-03],\n",
       "       [ 2.71426201e-01,  2.03330815e-02,  2.71110117e-01,\n",
       "         3.41413260e-01,  2.86218226e-01, -4.84232903e-02,\n",
       "         2.39132524e-01,  1.15943611e-01,  3.97716701e-01,\n",
       "         1.09464526e-02],\n",
       "       [ 7.80220032e-02, -1.19469881e-01,  2.36166120e-01,\n",
       "         3.28730226e-01, -1.66809976e-01,  1.94371343e-01,\n",
       "        -5.66865504e-02, -7.70777762e-02,  3.07431102e-01,\n",
       "        -4.48100269e-02]], dtype=float32)"
      ]
     },
     "execution_count": 41,
     "metadata": {},
     "output_type": "execute_result"
    },
    {
     "data": {
      "text/plain": [
       "(20, 10)"
      ]
     },
     "execution_count": 41,
     "metadata": {},
     "output_type": "execute_result"
    },
    {
     "data": {
      "text/plain": [
       "array([0., 0., 0., 0., 0., 0., 0., 0., 0., 0.], dtype=float32)"
      ]
     },
     "execution_count": 41,
     "metadata": {},
     "output_type": "execute_result"
    },
    {
     "data": {
      "text/plain": [
       "(10,)"
      ]
     },
     "execution_count": 41,
     "metadata": {},
     "output_type": "execute_result"
    }
   ],
   "source": [
    "weights, biases = model.layers[3].get_weights()\n",
    "\n",
    "weights\n",
    "\n",
    "weights.shape\n",
    "\n",
    "biases\n",
    "\n",
    "biases.shape"
   ]
  },
  {
   "cell_type": "markdown",
   "metadata": {},
   "source": [
    "### Compile the Sequential API model and specify the loss function and optimizer:\n",
    "\n",
    "- Loss function: <b>sparse categorical cross-entropy</b>\n",
    "- Optimization method: <b>RMS prop, learning rate set to 0.001</b>\n",
    "- Evaluation metric: <b>accuracy</b>"
   ]
  },
  {
   "cell_type": "code",
   "execution_count": 42,
   "metadata": {},
   "outputs": [],
   "source": [
    "model.compile(loss=\"sparse_categorical_crossentropy\",\n",
    "              optimizer=keras.optimizers.RMSprop(learning_rate=0.001),\n",
    "              metrics=[\"accuracy\"])"
   ]
  },
  {
   "cell_type": "markdown",
   "metadata": {},
   "source": [
    "#### Now the model is ready to be trained"
   ]
  },
  {
   "cell_type": "code",
   "execution_count": 43,
   "metadata": {},
   "outputs": [
    {
     "name": "stdout",
     "output_type": "stream",
     "text": [
      "Epoch 1/30\n",
      "985/985 [==============================] - 2s 2ms/step - loss: 0.5625 - accuracy: 0.8340 - val_loss: 0.3042 - val_accuracy: 0.9088\n",
      "Epoch 2/30\n",
      "985/985 [==============================] - 2s 2ms/step - loss: 0.2726 - accuracy: 0.9227 - val_loss: 0.2401 - val_accuracy: 0.9319\n",
      "Epoch 3/30\n",
      "985/985 [==============================] - 2s 2ms/step - loss: 0.2285 - accuracy: 0.9349 - val_loss: 0.2261 - val_accuracy: 0.9359\n",
      "Epoch 4/30\n",
      "985/985 [==============================] - 2s 2ms/step - loss: 0.2021 - accuracy: 0.9417 - val_loss: 0.2092 - val_accuracy: 0.9376\n",
      "Epoch 5/30\n",
      "985/985 [==============================] - 2s 2ms/step - loss: 0.1821 - accuracy: 0.9480 - val_loss: 0.1969 - val_accuracy: 0.9436\n",
      "Epoch 6/30\n",
      "985/985 [==============================] - 2s 2ms/step - loss: 0.1676 - accuracy: 0.9525 - val_loss: 0.1794 - val_accuracy: 0.9465\n",
      "Epoch 7/30\n",
      "985/985 [==============================] - 2s 2ms/step - loss: 0.1553 - accuracy: 0.9553 - val_loss: 0.1747 - val_accuracy: 0.9497\n",
      "Epoch 8/30\n",
      "985/985 [==============================] - 2s 2ms/step - loss: 0.1451 - accuracy: 0.9584 - val_loss: 0.1665 - val_accuracy: 0.9524\n",
      "Epoch 9/30\n",
      "985/985 [==============================] - 2s 2ms/step - loss: 0.1364 - accuracy: 0.9606 - val_loss: 0.1594 - val_accuracy: 0.9544\n",
      "Epoch 10/30\n",
      "985/985 [==============================] - 2s 2ms/step - loss: 0.1296 - accuracy: 0.9632 - val_loss: 0.1663 - val_accuracy: 0.9519\n",
      "Epoch 11/30\n",
      "985/985 [==============================] - 2s 2ms/step - loss: 0.1219 - accuracy: 0.9651 - val_loss: 0.1751 - val_accuracy: 0.9502\n",
      "Epoch 12/30\n",
      "985/985 [==============================] - 2s 2ms/step - loss: 0.1185 - accuracy: 0.9664 - val_loss: 0.1614 - val_accuracy: 0.9536\n",
      "Epoch 13/30\n",
      "985/985 [==============================] - 2s 2ms/step - loss: 0.1126 - accuracy: 0.9671 - val_loss: 0.1652 - val_accuracy: 0.9533\n",
      "Epoch 14/30\n",
      "985/985 [==============================] - 2s 2ms/step - loss: 0.1085 - accuracy: 0.9693 - val_loss: 0.1874 - val_accuracy: 0.9475\n",
      "Epoch 15/30\n",
      "985/985 [==============================] - 2s 2ms/step - loss: 0.1055 - accuracy: 0.9696 - val_loss: 0.1751 - val_accuracy: 0.9533\n",
      "Epoch 16/30\n",
      "985/985 [==============================] - 2s 2ms/step - loss: 0.1012 - accuracy: 0.9711 - val_loss: 0.1623 - val_accuracy: 0.9538\n",
      "Epoch 17/30\n",
      "985/985 [==============================] - 2s 2ms/step - loss: 0.0997 - accuracy: 0.9710 - val_loss: 0.1707 - val_accuracy: 0.9550\n",
      "Epoch 18/30\n",
      "985/985 [==============================] - 2s 2ms/step - loss: 0.0956 - accuracy: 0.9733 - val_loss: 0.1711 - val_accuracy: 0.9531\n",
      "Epoch 19/30\n",
      "985/985 [==============================] - 2s 2ms/step - loss: 0.0933 - accuracy: 0.9737 - val_loss: 0.1735 - val_accuracy: 0.9546\n",
      "Epoch 20/30\n",
      "985/985 [==============================] - 2s 2ms/step - loss: 0.0897 - accuracy: 0.9742 - val_loss: 0.1755 - val_accuracy: 0.9549\n",
      "Epoch 21/30\n",
      "985/985 [==============================] - 2s 2ms/step - loss: 0.0885 - accuracy: 0.9749 - val_loss: 0.1703 - val_accuracy: 0.9546\n",
      "Epoch 22/30\n",
      "985/985 [==============================] - 2s 2ms/step - loss: 0.0841 - accuracy: 0.9763 - val_loss: 0.1961 - val_accuracy: 0.9499\n",
      "Epoch 23/30\n",
      "985/985 [==============================] - 2s 2ms/step - loss: 0.0830 - accuracy: 0.9762 - val_loss: 0.1740 - val_accuracy: 0.9539\n",
      "Epoch 24/30\n",
      "985/985 [==============================] - 2s 2ms/step - loss: 0.0798 - accuracy: 0.9776 - val_loss: 0.1707 - val_accuracy: 0.9559\n",
      "Epoch 25/30\n",
      "985/985 [==============================] - 2s 2ms/step - loss: 0.0783 - accuracy: 0.9778 - val_loss: 0.1776 - val_accuracy: 0.9565\n",
      "Epoch 26/30\n",
      "985/985 [==============================] - 2s 2ms/step - loss: 0.0783 - accuracy: 0.9774 - val_loss: 0.1813 - val_accuracy: 0.9550\n",
      "Epoch 27/30\n",
      "985/985 [==============================] - 2s 2ms/step - loss: 0.0748 - accuracy: 0.9800 - val_loss: 0.1762 - val_accuracy: 0.9568\n",
      "Epoch 28/30\n",
      "985/985 [==============================] - 2s 2ms/step - loss: 0.0733 - accuracy: 0.9798 - val_loss: 0.1980 - val_accuracy: 0.9517\n",
      "Epoch 29/30\n",
      "985/985 [==============================] - 2s 2ms/step - loss: 0.0707 - accuracy: 0.9798 - val_loss: 0.1851 - val_accuracy: 0.9556\n",
      "Epoch 30/30\n",
      "985/985 [==============================] - 2s 2ms/step - loss: 0.0682 - accuracy: 0.9802 - val_loss: 0.2057 - val_accuracy: 0.9526\n"
     ]
    }
   ],
   "source": [
    "history = model.fit(nn_x_train, nn_y_train, epochs=30,\n",
    "                   validation_data=(nn_x_validation, nn_y_validation))"
   ]
  },
  {
   "cell_type": "code",
   "execution_count": 44,
   "metadata": {
    "scrolled": true
   },
   "outputs": [
    {
     "data": {
      "text/plain": [
       "<AxesSubplot:>"
      ]
     },
     "execution_count": 44,
     "metadata": {},
     "output_type": "execute_result"
    },
    {
     "data": {
      "text/plain": [
       "(0.0, 1.0)"
      ]
     },
     "execution_count": 44,
     "metadata": {},
     "output_type": "execute_result"
    },
    {
     "data": {
      "image/png": "[encoded data removed]",
      "text/plain": [
       "<Figure size 800x500 with 1 Axes>"
      ]
     },
     "metadata": {},
     "output_type": "display_data"
    }
   ],
   "source": [
    "import pandas as pd\n",
    "import matplotlib.pyplot as plt\n",
    "\n",
    "pd.DataFrame(history.history).plot(figsize=(8, 5))\n",
    "plt.grid(True)\n",
    "plt.gca().set_ylim(0, 1) # set the vertical range to [0-1]\n",
    "plt.show()"
   ]
  },
  {
   "cell_type": "markdown",
   "metadata": {},
   "source": [
    "#### We can then use the model to predict"
   ]
  },
  {
   "cell_type": "markdown",
   "metadata": {},
   "source": [
    "The array below produces one probability per class (digit)"
   ]
  },
  {
   "cell_type": "code",
   "execution_count": 45,
   "metadata": {
    "scrolled": true
   },
   "outputs": [
    {
     "name": "stdout",
     "output_type": "stream",
     "text": [
      "875/875 [==============================] - 1s 938us/step\n"
     ]
    },
    {
     "data": {
      "text/plain": [
       "array([[0.  , 0.  , 1.  , ..., 0.  , 0.  , 0.  ],\n",
       "       [1.  , 0.  , 0.  , ..., 0.  , 0.  , 0.  ],\n",
       "       [0.  , 0.  , 0.  , ..., 0.02, 0.  , 0.91],\n",
       "       ...,\n",
       "       [0.  , 0.  , 0.  , ..., 0.  , 0.  , 0.  ],\n",
       "       [0.  , 0.  , 0.  , ..., 0.  , 0.  , 1.  ],\n",
       "       [0.  , 0.  , 1.  , ..., 0.  , 0.  , 0.  ]], dtype=float32)"
      ]
     },
     "execution_count": 45,
     "metadata": {},
     "output_type": "execute_result"
    }
   ],
   "source": [
    "ypred = model.predict(nn_test_scaled_df)\n",
    "\n",
    "y_proba = ypred.round(2)\n",
    "\n",
    "y_proba"
   ]
  },
  {
   "cell_type": "markdown",
   "metadata": {},
   "source": [
    "Below are two ways to show the class with the highest estimated probability:"
   ]
  },
  {
   "cell_type": "code",
   "execution_count": 46,
   "metadata": {},
   "outputs": [
    {
     "data": {
      "text/plain": [
       "array([2, 0, 9, ..., 3, 9, 2], dtype=int64)"
      ]
     },
     "execution_count": 46,
     "metadata": {},
     "output_type": "execute_result"
    }
   ],
   "source": [
    "classes_x=np.argmax(ypred,axis=1)\n",
    "classes_x"
   ]
  },
  {
   "cell_type": "code",
   "execution_count": 47,
   "metadata": {},
   "outputs": [
    {
     "data": {
      "text/plain": [
       "array(['2', '0', '9', ..., '3', '9', '2'], dtype='<U1')"
      ]
     },
     "execution_count": 47,
     "metadata": {},
     "output_type": "execute_result"
    }
   ],
   "source": [
    "class_names = [\"0\", \"1\", \"2\", \"3\", \"4\", \"5\", \"6\", \"7\", \"8\", \"9\"]\n",
    "np.array(class_names)[classes_x]"
   ]
  },
  {
   "cell_type": "markdown",
   "metadata": {},
   "source": [
    "#### Accuracy and loss values for training data"
   ]
  },
  {
   "cell_type": "code",
   "execution_count": 48,
   "metadata": {},
   "outputs": [
    {
     "name": "stdout",
     "output_type": "stream",
     "text": [
      "985/985 [==============================] - 1s 1ms/step - loss: 0.0689 - accuracy: 0.9801\n",
      "Accuracy: 0.9800634980201721\n",
      "Loss: 0.06894040107727051\n"
     ]
    }
   ],
   "source": [
    "loss, accuracy = model.evaluate(nn_x_train, nn_y_train)\n",
    "print(\"Accuracy:\", accuracy)\n",
    "print(\"Loss:\", loss)"
   ]
  },
  {
   "cell_type": "markdown",
   "metadata": {},
   "source": [
    "#### Accuracy and loss values for validation data"
   ]
  },
  {
   "cell_type": "code",
   "execution_count": 49,
   "metadata": {},
   "outputs": [
    {
     "name": "stdout",
     "output_type": "stream",
     "text": [
      "329/329 [==============================] - 0s 1ms/step - loss: 0.2057 - accuracy: 0.9526\n",
      "Accuracy: 0.952571451663971\n",
      "Loss: 0.2056991308927536\n"
     ]
    }
   ],
   "source": [
    "loss, accuracy = model.evaluate(nn_x_validation, nn_y_validation)\n",
    "print(\"Accuracy:\", accuracy)\n",
    "print(\"Loss:\", loss)"
   ]
  },
  {
   "cell_type": "markdown",
   "metadata": {},
   "source": [
    "#### Confusion Matrix"
   ]
  },
  {
   "cell_type": "code",
   "execution_count": null,
   "metadata": {},
   "outputs": [],
   "source": []
  },
  {
   "cell_type": "markdown",
   "metadata": {},
   "source": [
    "Let's display the Kaggle results from the application of the Sequential API model on the test dataset:\n",
    "\n",
    "- Loss function: <b>sparse categorical cross-entropy</b>\n",
    "- Optimization method: <b>RMS prop, learning rate set to 0.001</b>\n",
    "- Evaluation metric: <b>accuracy</b>"
   ]
  },
  {
   "cell_type": "code",
   "execution_count": 50,
   "metadata": {},
   "outputs": [],
   "source": [
    "# Display the kaggle results associated with this model\n",
    "#import matplotlib.pyplot as plt\n",
    "#plt.figure(figsize = (15, 15))\n",
    "#kaggle_results = plt.imread('.png')\n",
    "#plt.imshow(kaggle_results)\n",
    "#plt.axis(\"off\")\n",
    "#plt.show()"
   ]
  },
  {
   "cell_type": "markdown",
   "metadata": {},
   "source": [
    "### Compile the Sequential API model and specify the loss function and optimizer:\n",
    "\n",
    "- Loss function: <b>sparse categorical cross-entropy</b>\n",
    "- Optimization method: <b>AdaGrad, learning rate set to 0.005</b>\n",
    "- Evaluation metric: <b>accuracy</b>"
   ]
  },
  {
   "cell_type": "code",
   "execution_count": 51,
   "metadata": {},
   "outputs": [],
   "source": [
    "model.compile(loss=\"sparse_categorical_crossentropy\",\n",
    "              optimizer=keras.optimizers.Adagrad(learning_rate=0.005),\n",
    "              metrics=[\"accuracy\"])"
   ]
  },
  {
   "cell_type": "markdown",
   "metadata": {},
   "source": [
    "#### Now the model is ready to be trained"
   ]
  },
  {
   "cell_type": "code",
   "execution_count": 52,
   "metadata": {
    "scrolled": true
   },
   "outputs": [
    {
     "name": "stdout",
     "output_type": "stream",
     "text": [
      "Epoch 1/30\n",
      "985/985 [==============================] - 2s 2ms/step - loss: 0.0522 - accuracy: 0.9862 - val_loss: 0.1754 - val_accuracy: 0.9572\n",
      "Epoch 2/30\n",
      "985/985 [==============================] - 2s 2ms/step - loss: 0.0472 - accuracy: 0.9879 - val_loss: 0.1786 - val_accuracy: 0.9570\n",
      "Epoch 3/30\n",
      "985/985 [==============================] - 2s 2ms/step - loss: 0.0456 - accuracy: 0.9886 - val_loss: 0.1757 - val_accuracy: 0.9566\n",
      "Epoch 4/30\n",
      "985/985 [==============================] - 2s 2ms/step - loss: 0.0446 - accuracy: 0.9890 - val_loss: 0.1770 - val_accuracy: 0.9558\n",
      "Epoch 5/30\n",
      "985/985 [==============================] - 2s 2ms/step - loss: 0.0436 - accuracy: 0.9893 - val_loss: 0.1758 - val_accuracy: 0.9568\n",
      "Epoch 6/30\n",
      "985/985 [==============================] - 2s 2ms/step - loss: 0.0431 - accuracy: 0.9897 - val_loss: 0.1766 - val_accuracy: 0.9567\n",
      "Epoch 7/30\n",
      "985/985 [==============================] - 2s 2ms/step - loss: 0.0424 - accuracy: 0.9896 - val_loss: 0.1780 - val_accuracy: 0.9565\n",
      "Epoch 8/30\n",
      "985/985 [==============================] - 2s 2ms/step - loss: 0.0420 - accuracy: 0.9897 - val_loss: 0.1770 - val_accuracy: 0.9561\n",
      "Epoch 9/30\n",
      "985/985 [==============================] - 2s 2ms/step - loss: 0.0416 - accuracy: 0.9894 - val_loss: 0.1775 - val_accuracy: 0.9564\n",
      "Epoch 10/30\n",
      "985/985 [==============================] - 2s 2ms/step - loss: 0.0411 - accuracy: 0.9901 - val_loss: 0.1771 - val_accuracy: 0.9561\n",
      "Epoch 11/30\n",
      "985/985 [==============================] - 2s 2ms/step - loss: 0.0408 - accuracy: 0.9900 - val_loss: 0.1782 - val_accuracy: 0.9563\n",
      "Epoch 12/30\n",
      "985/985 [==============================] - 2s 2ms/step - loss: 0.0404 - accuracy: 0.9897 - val_loss: 0.1771 - val_accuracy: 0.9562\n",
      "Epoch 13/30\n",
      "985/985 [==============================] - 2s 2ms/step - loss: 0.0401 - accuracy: 0.9903 - val_loss: 0.1778 - val_accuracy: 0.9557\n",
      "Epoch 14/30\n",
      "985/985 [==============================] - 2s 2ms/step - loss: 0.0398 - accuracy: 0.9902 - val_loss: 0.1772 - val_accuracy: 0.9561\n",
      "Epoch 15/30\n",
      "985/985 [==============================] - 2s 2ms/step - loss: 0.0396 - accuracy: 0.9903 - val_loss: 0.1775 - val_accuracy: 0.9554\n",
      "Epoch 16/30\n",
      "985/985 [==============================] - 2s 2ms/step - loss: 0.0393 - accuracy: 0.9904 - val_loss: 0.1780 - val_accuracy: 0.9558\n",
      "Epoch 17/30\n",
      "985/985 [==============================] - 2s 2ms/step - loss: 0.0391 - accuracy: 0.9903 - val_loss: 0.1781 - val_accuracy: 0.9563\n",
      "Epoch 18/30\n",
      "985/985 [==============================] - 2s 2ms/step - loss: 0.0388 - accuracy: 0.9905 - val_loss: 0.1782 - val_accuracy: 0.9562\n",
      "Epoch 19/30\n",
      "985/985 [==============================] - 2s 2ms/step - loss: 0.0386 - accuracy: 0.9907 - val_loss: 0.1775 - val_accuracy: 0.9554\n",
      "Epoch 20/30\n",
      "985/985 [==============================] - 2s 2ms/step - loss: 0.0383 - accuracy: 0.9905 - val_loss: 0.1783 - val_accuracy: 0.9553\n",
      "Epoch 21/30\n",
      "985/985 [==============================] - 2s 2ms/step - loss: 0.0381 - accuracy: 0.9908 - val_loss: 0.1790 - val_accuracy: 0.9554\n",
      "Epoch 22/30\n",
      "985/985 [==============================] - 2s 2ms/step - loss: 0.0379 - accuracy: 0.9910 - val_loss: 0.1786 - val_accuracy: 0.9561\n",
      "Epoch 23/30\n",
      "985/985 [==============================] - 2s 2ms/step - loss: 0.0378 - accuracy: 0.9907 - val_loss: 0.1788 - val_accuracy: 0.9554\n",
      "Epoch 24/30\n",
      "985/985 [==============================] - 2s 2ms/step - loss: 0.0376 - accuracy: 0.9909 - val_loss: 0.1791 - val_accuracy: 0.9554\n",
      "Epoch 25/30\n",
      "985/985 [==============================] - 2s 2ms/step - loss: 0.0374 - accuracy: 0.9912 - val_loss: 0.1791 - val_accuracy: 0.9553\n",
      "Epoch 26/30\n",
      "985/985 [==============================] - 2s 2ms/step - loss: 0.0372 - accuracy: 0.9911 - val_loss: 0.1786 - val_accuracy: 0.9552\n",
      "Epoch 27/30\n",
      "985/985 [==============================] - 2s 2ms/step - loss: 0.0370 - accuracy: 0.9911 - val_loss: 0.1792 - val_accuracy: 0.9557\n",
      "Epoch 28/30\n",
      "985/985 [==============================] - 2s 2ms/step - loss: 0.0369 - accuracy: 0.9913 - val_loss: 0.1792 - val_accuracy: 0.9550\n",
      "Epoch 29/30\n",
      "985/985 [==============================] - 2s 2ms/step - loss: 0.0367 - accuracy: 0.9912 - val_loss: 0.1790 - val_accuracy: 0.9555\n",
      "Epoch 30/30\n",
      "985/985 [==============================] - 2s 2ms/step - loss: 0.0365 - accuracy: 0.9912 - val_loss: 0.1789 - val_accuracy: 0.9559\n"
     ]
    }
   ],
   "source": [
    "history = model.fit(nn_x_train, nn_y_train, epochs=30,\n",
    "                   validation_data=(nn_x_validation, nn_y_validation))"
   ]
  },
  {
   "cell_type": "code",
   "execution_count": 53,
   "metadata": {
    "scrolled": false
   },
   "outputs": [
    {
     "data": {
      "text/plain": [
       "<AxesSubplot:>"
      ]
     },
     "execution_count": 53,
     "metadata": {},
     "output_type": "execute_result"
    },
    {
     "data": {
      "text/plain": [
       "(0.0, 1.0)"
      ]
     },
     "execution_count": 53,
     "metadata": {},
     "output_type": "execute_result"
    },
    {
     "data": {
      "image/png": "[encoded data removed]",
      "text/plain": [
       "<Figure size 800x500 with 1 Axes>"
      ]
     },
     "metadata": {},
     "output_type": "display_data"
    }
   ],
   "source": [
    "import pandas as pd\n",
    "import matplotlib.pyplot as plt\n",
    "\n",
    "pd.DataFrame(history.history).plot(figsize=(8, 5))\n",
    "plt.grid(True)\n",
    "plt.gca().set_ylim(0, 1) # set the vertical range to [0-1]\n",
    "plt.show()"
   ]
  },
  {
   "cell_type": "markdown",
   "metadata": {},
   "source": [
    "#### We can then use the model to predict"
   ]
  },
  {
   "cell_type": "markdown",
   "metadata": {},
   "source": [
    "The array below produces one probability per class (digit)"
   ]
  },
  {
   "cell_type": "code",
   "execution_count": 54,
   "metadata": {
    "scrolled": false
   },
   "outputs": [
    {
     "name": "stdout",
     "output_type": "stream",
     "text": [
      "875/875 [==============================] - 1s 984us/step\n"
     ]
    },
    {
     "data": {
      "text/plain": [
       "array([[0.  , 0.  , 1.  , ..., 0.  , 0.  , 0.  ],\n",
       "       [1.  , 0.  , 0.  , ..., 0.  , 0.  , 0.  ],\n",
       "       [0.  , 0.01, 0.  , ..., 0.04, 0.  , 0.93],\n",
       "       ...,\n",
       "       [0.  , 0.  , 0.  , ..., 0.  , 0.  , 0.  ],\n",
       "       [0.  , 0.  , 0.  , ..., 0.  , 0.  , 1.  ],\n",
       "       [0.  , 0.  , 1.  , ..., 0.  , 0.  , 0.  ]], dtype=float32)"
      ]
     },
     "execution_count": 54,
     "metadata": {},
     "output_type": "execute_result"
    }
   ],
   "source": [
    "ypred = model.predict(nn_test_scaled_df)\n",
    "\n",
    "y_proba = ypred.round(2)\n",
    "\n",
    "y_proba"
   ]
  },
  {
   "cell_type": "markdown",
   "metadata": {},
   "source": [
    "Below are two ways to show the class with the highest estimated probability:"
   ]
  },
  {
   "cell_type": "code",
   "execution_count": 55,
   "metadata": {},
   "outputs": [
    {
     "data": {
      "text/plain": [
       "array([2, 0, 9, ..., 3, 9, 2], dtype=int64)"
      ]
     },
     "execution_count": 55,
     "metadata": {},
     "output_type": "execute_result"
    }
   ],
   "source": [
    "classes_x=np.argmax(ypred,axis=1)\n",
    "classes_x"
   ]
  },
  {
   "cell_type": "code",
   "execution_count": 56,
   "metadata": {},
   "outputs": [
    {
     "data": {
      "text/plain": [
       "array(['2', '0', '9', ..., '3', '9', '2'], dtype='<U1')"
      ]
     },
     "execution_count": 56,
     "metadata": {},
     "output_type": "execute_result"
    }
   ],
   "source": [
    "class_names = [\"0\", \"1\", \"2\", \"3\", \"4\", \"5\", \"6\", \"7\", \"8\", \"9\"]\n",
    "np.array(class_names)[classes_x]"
   ]
  },
  {
   "cell_type": "markdown",
   "metadata": {},
   "source": [
    "#### Accuracy and loss values for training data"
   ]
  },
  {
   "cell_type": "code",
   "execution_count": 57,
   "metadata": {},
   "outputs": [
    {
     "name": "stdout",
     "output_type": "stream",
     "text": [
      "985/985 [==============================] - 1s 1ms/step - loss: 0.0358 - accuracy: 0.9916\n",
      "Accuracy: 0.9915555715560913\n",
      "Loss: 0.03575896471738815\n"
     ]
    }
   ],
   "source": [
    "loss, accuracy = model.evaluate(nn_x_train, nn_y_train)\n",
    "print(\"Accuracy:\", accuracy)\n",
    "print(\"Loss:\", loss)"
   ]
  },
  {
   "cell_type": "markdown",
   "metadata": {},
   "source": [
    "#### Accuracy and loss values for validation data"
   ]
  },
  {
   "cell_type": "code",
   "execution_count": 58,
   "metadata": {},
   "outputs": [
    {
     "name": "stdout",
     "output_type": "stream",
     "text": [
      "329/329 [==============================] - 0s 1ms/step - loss: 0.1789 - accuracy: 0.9559\n",
      "Accuracy: 0.9559047818183899\n",
      "Loss: 0.17890749871730804\n"
     ]
    }
   ],
   "source": [
    "loss, accuracy = model.evaluate(nn_x_validation, nn_y_validation)\n",
    "print(\"Accuracy:\", accuracy)\n",
    "print(\"Loss:\", loss)"
   ]
  },
  {
   "cell_type": "markdown",
   "metadata": {},
   "source": [
    "#### Confusion Matrix"
   ]
  },
  {
   "cell_type": "code",
   "execution_count": null,
   "metadata": {},
   "outputs": [],
   "source": []
  },
  {
   "cell_type": "markdown",
   "metadata": {},
   "source": [
    "Let's display the Kaggle results from the application of the Sequential API model on the test dataset:\n",
    "\n",
    "- Loss function: <b>sparse categorical cross-entropy</b>\n",
    "- Optimization method: <b>AdaGrad, learning rate set to 0.005</b>\n",
    "- Evaluation metric: <b>accuracy</b>"
   ]
  },
  {
   "cell_type": "code",
   "execution_count": 59,
   "metadata": {},
   "outputs": [],
   "source": [
    "# Display the kaggle results associated with this model\n",
    "#import matplotlib.pyplot as plt\n",
    "#plt.figure(figsize = (15, 15))\n",
    "#kaggle_results = plt.imread('.png')\n",
    "#plt.imshow(kaggle_results)\n",
    "#plt.axis(\"off\")\n",
    "#plt.show()"
   ]
  },
  {
   "cell_type": "markdown",
   "metadata": {},
   "source": [
    "# Compute PCA and Kernel-PCA"
   ]
  },
  {
   "cell_type": "code",
   "execution_count": null,
   "metadata": {},
   "outputs": [
    {
     "data": {
      "text/plain": [
       "[<matplotlib.lines.Line2D at 0x7f902ab71550>]"
      ]
     },
     "execution_count": 3,
     "metadata": {},
     "output_type": "execute_result"
    },
    {
     "data": {
      "text/plain": [
       "Text(0.5, 1.0, 'Cumulative Scree Plot')"
      ]
     },
     "execution_count": 3,
     "metadata": {},
     "output_type": "execute_result"
    },
    {
     "data": {
      "text/plain": [
       "Text(0.5, 0, 'Principal Component')"
      ]
     },
     "execution_count": 3,
     "metadata": {},
     "output_type": "execute_result"
    },
    {
     "data": {
      "text/plain": [
       "Text(0, 0.5, 'Cumulative Variance Explained')"
      ]
     },
     "execution_count": 3,
     "metadata": {},
     "output_type": "execute_result"
    },
    {
     "data": {
      "image/png": "[encoded data removed]",
      "text/plain": [
       "<Figure size 432x288 with 1 Axes>"
      ]
     },
     "metadata": {
      "needs_background": "light"
     },
     "output_type": "display_data"
    }
   ],
   "source": [
    "# Scale PCA dataframe's data\n",
    "from sklearn.preprocessing import StandardScaler\n",
    "from sklearn.decomposition import PCA, KernelPCA\n",
    "\n",
    "sc = StandardScaler()\n",
    "pca_scaled = sc.fit_transform(digit_training_data) # normalizing the features\n",
    "\n",
    "# Convert scaled data from numpy array into dataframe\n",
    "#pca_features = list(pca_df.columns.values)\n",
    "pca_scaled_df = pd.DataFrame(pca_scaled)\n",
    "\n",
    "# Confirm scaling transformation was a success\n",
    "\n",
    "#pca_scaled_df.shape\n",
    "#pca_scaled_df.head(10)\n",
    "#pca_scaled_df.describe()\n",
    "\n",
    "# Applying PCA function on training and testing set of X component\n",
    "from sklearn.decomposition import PCA\n",
    "pca = PCA(n_components=334)\n",
    "principal_components_digits = pca.fit_transform(pca_scaled_df)\n",
    "\n",
    "\n",
    "# Create a Cumulative Scree plot to help us determine how many principal components to include in our random forest model\n",
    "import matplotlib.pyplot as plt\n",
    "import numpy as np\n",
    "\n",
    "PC_values = np.arange(pca.n_components_) + 1\n",
    "cumulative_explained_variance_pca = np.cumsum(pca.explained_variance_ratio_)\n",
    "\n",
    "plt.plot(PC_values, cumulative_explained_variance_pca, 'o-', linewidth=1, color='blue')\n",
    "plt.title('Cumulative Scree Plot')\n",
    "plt.xlabel('Principal Component')\n",
    "plt.ylabel('Cumulative Variance Explained')\n",
    "plt.show()\n",
    "\n",
    "# Create a dataframe to display the information in the cumulative scree plot in a different manner\n",
    "scree_df = pd.DataFrame({'Principal Component':PC_values, 'Variance Explained':cumulative_explained_variance_pca})\n",
    "#scree_df\n",
    "\n",
    "# Create a dataframe that contains the principal component values for each of the observations in the pca dataframe\n",
    "pca_column_list = []\n",
    "for num in range(1, 335):\n",
    "    pca_column_list.append(\"PC_\" + str(num))\n",
    "\n",
    "pca_digits_df = pd.DataFrame(data = principal_components_digits , columns = pca_column_list )\n",
    "\n",
    "#pca_digits_df"
   ]
  },
  {
   "cell_type": "code",
   "execution_count": null,
   "metadata": {},
   "outputs": [],
   "source": [
    "from sklearn.preprocessing import StandardScaler\n",
    "from sklearn.decomposition import PCA, KernelPCA\n",
    "\n",
    "sc = StandardScaler()\n",
    "pca_scaled = sc.fit_transform(digit_training_data) # normalizing the features\n",
    "pca_scaled_df = pd.DataFrame(pca_scaled)\n",
    "\n",
    "### KERNEL ###\n",
    "\n",
    "kernel_pca = KernelPCA(\n",
    "    n_components=100, kernel=\"rbf\")\n",
    "\n",
    "kernel_data = kernel_pca.fit_transform(pca_scaled_df)\n",
    "\n",
    "kernel_digits_df = pd.DataFrame(data = kernel_data)\n",
    "\n",
    "kernel_data.eigenvalues_\n",
    "\n",
    "# Confirm scaling transformation was a success\n",
    "kernel_digits_df.shape\n",
    "kernel_digits_df.head(10)\n",
    "kernel_digits_df.describe()\n",
    "\n"
   ]
  },
  {
   "cell_type": "code",
   "execution_count": null,
   "metadata": {},
   "outputs": [],
   "source": [
    "from sklearn.metrics import accuracy_score, confusion_matrix, precision_score, recall_score, ConfusionMatrixDisplay\n",
    "from sklearn.model_selection import train_test_split\n",
    "from sklearn.preprocessing import MinMaxScaler\n",
    "\n",
    "# Create a copy of the training dataframe\n",
    "nn_train_df = digit_training_data.copy(deep=True)\n",
    "\n",
    "sc = MinMaxScaler() #Initialize scaling of data\n",
    "\n",
    "nn_train_df.drop(['label'], axis=1, inplace=True) #drop the label column from the df\n",
    "\n",
    "nn_train_x = nn_train_df #set df without label as x\n",
    "nn_train_y = digit_training_data['label'] #set y a the label column\n",
    "\n",
    "sc.fit(nn_train_x)\n",
    "normalized = sc.transform(nn_train_x)\n",
    "\n",
    "# Convert scaled data from numpy array into dataframe\n",
    "nn_training_features = list(nn_train_df.columns.values)\n",
    "nn_training_scaled_df = pd.DataFrame(normalized, columns=nn_training_features)\n",
    "\n",
    "# Split the Kaggle training data into training and validation components\n",
    "nn_x_train, nn_x_validation, nn_y_train, nn_y_validation = train_test_split(nn_training_scaled_df,\n",
    "                                                                      nn_train_y, \n",
    "                                                                            test_size=0.25, \n",
    "                                                                           random_state = 1)\n",
    "\n",
    "# Import libraries\n",
    "from sklearn.model_selection import train_test_split, GridSearchCV\n",
    "from sklearn.neural_network import MLPClassifier\n",
    "from sklearn.preprocessing import StandardScaler\n",
    "from sklearn.model_selection import KFold\n",
    "from sklearn.metrics import accuracy_score, classification_report, confusion_matrix, ConfusionMatrixDisplay\n",
    "\n",
    "# Extract predictors and outcome (label variable)\n",
    "X_train = digit_training_data.copy(deep=True)\n",
    "X_train.drop(['label'], axis=1, inplace=True)\n",
    "y_train = digit_training_data['label']\n",
    "\n",
    "# Standardize the features\n",
    "xscaler = StandardScaler()\n",
    "X_train = xscaler.fit_transform(X_train)\n",
    "\n",
    "# Initialize MLP Classifier\n",
    "mlp_class = MLPClassifier(random_state=1, hidden_layer_sizes=(5,2),\n",
    "                        max_iter = 300,activation = 'relu',\n",
    "                        solver = 'adam')\n",
    "\n",
    "y_pred_train = mlp_class.predict(X_train)\n",
    "\n",
    "# evaluate the model on the training data\n",
    "accuracy_train = accuracy_score(y_train, y_pred_train)\n",
    "print(\"Training Accuracy:\", accuracy_train)\n",
    "print(\"Training Classification Report:\", classification_report(y_train, y_pred_train))\n",
    "\n",
    "# Create paramater grid with hyperparameters to tune, use default adam solver so doen't need to tune learning rate\n",
    "#param_grid = {\n",
    "#    'hidden_layer_sizes': [(10,10), (20,20), (10,10,10), (20,20,20), (10,10,10,10,10), (20,20,20,20,20)]\n",
    "#}\n",
    "\n",
    "# Kfold cv with 5 splits for GridSearch\n",
    "#cv = KFold(n_splits=5, shuffle=True, random_state=1)\n",
    "\n",
    "# Create the GridSearchCV with kfold=5 object and fit it to the training data\n",
    "#grid_search = GridSearchCV(mlp_class, param_grid, cv=cv, scoring='accuracy')\n",
    "#grid_search.fit(X_train, y_train)\n",
    "\n",
    "# Print the best hyperparameters found\n",
    "#print(\"Best Hyperparameters:\", grid_search.best_params_)\n",
    "\n",
    "# Save the best estimator\n",
    "#best_model = grid_search.best_estimator_\n",
    "\n",
    "# Save dictionary of mean accuracy scores from models into 'scores' variable\n",
    "#dict_results = grid_search.cv_results_\n",
    "#scores = dict_results['mean_test_score']\n",
    "\n",
    "# Use the best model to predict using training data\n",
    "#y_pred_train = best_model.predict(X_train)\n",
    "\n",
    "# evaluate the model on the training data\n",
    "#accuracy_train = accuracy_score(y_train, y_pred_train)\n",
    "print(\"Training Accuracy:\", accuracy_train)\n",
    "print(\"Training Classification Report:\", classification_report(y_train, y_pred_train))\n",
    "\n",
    "# Create the confusion matrix of the predictions\n",
    "cm = confusion_matrix(y_train, y_pred_train)\n",
    "ConfusionMatrixDisplay(confusion_matrix=cm).plot();\n",
    "\n",
    "# Save layer and node data\n",
    "#Layers = (2,2,3,3,5,5)\n",
    "#Nodes = (10,20,10,20,10,20)\n",
    "\n",
    "# create dataframe with MLP details and scores for each mode and layer count tested\n",
    "#MLP_Scores = pd.DataFrame({'Layers' : Layers, 'Nodes' : Nodes, 'Mean Training Accuracy' : scores})\n",
    "#MLP_Scores"
   ]
  }
 ],
 "metadata": {
  "kernelspec": {
   "display_name": "Python 3",
   "language": "python",
   "name": "python3"
  },
  "language_info": {
   "codemirror_mode": {
    "name": "ipython",
    "version": 3
   },
   "file_extension": ".py",
   "mimetype": "text/x-python",
   "name": "python",
   "nbconvert_exporter": "python",
   "pygments_lexer": "ipython3",
   "version": "3.7.7"
  }
 },
 "nbformat": 4,
 "nbformat_minor": 5
}
